{
 "cells": [
  {
   "cell_type": "code",
   "execution_count": 1,
   "metadata": {
    "_cell_guid": "b1076dfc-b9ad-4769-8c92-a6c4dae69d19",
    "_uuid": "8f2839f25d086af736a60e9eeb907d3b93b6e0e5",
    "execution": {
     "iopub.execute_input": "2025-05-18T00:04:29.111410Z",
     "iopub.status.busy": "2025-05-18T00:04:29.111170Z",
     "iopub.status.idle": "2025-05-18T00:05:13.640862Z",
     "shell.execute_reply": "2025-05-18T00:05:13.640264Z",
     "shell.execute_reply.started": "2025-05-18T00:04:29.111386Z"
    }
   },
   "outputs": [
    {
     "name": "stderr",
     "output_type": "stream",
     "text": [
      "/usr/local/lib/python3.10/dist-packages/torch/utils/_pytree.py:185: FutureWarning: optree is installed but the version is too old to support PyTorch Dynamo in C++ pytree. C++ pytree support is disabled. Please consider upgrading optree using `python3 -m pip install --upgrade 'optree>=0.13.0'`.\n",
      "  warnings.warn(\n",
      "/usr/local/lib/python3.10/dist-packages/tqdm/auto.py:21: TqdmWarning: IProgress not found. Please update jupyter and ipywidgets. See https://ipywidgets.readthedocs.io/en/stable/user_install.html\n",
      "  from .autonotebook import tqdm as notebook_tqdm\n",
      "2025-05-18 09:04:30.514124: I tensorflow/core/util/port.cc:153] oneDNN custom operations are on. You may see slightly different numerical results due to floating-point round-off errors from different computation orders. To turn them off, set the environment variable `TF_ENABLE_ONEDNN_OPTS=0`.\n",
      "2025-05-18 09:04:30.524262: E external/local_xla/xla/stream_executor/cuda/cuda_fft.cc:467] Unable to register cuFFT factory: Attempting to register factory for plugin cuFFT when one has already been registered\n",
      "WARNING: All log messages before absl::InitializeLog() is called are written to STDERR\n",
      "E0000 00:00:1747559070.535169     636 cuda_dnn.cc:8579] Unable to register cuDNN factory: Attempting to register factory for plugin cuDNN when one has already been registered\n",
      "E0000 00:00:1747559070.538473     636 cuda_blas.cc:1407] Unable to register cuBLAS factory: Attempting to register factory for plugin cuBLAS when one has already been registered\n",
      "W0000 00:00:1747559070.548154     636 computation_placer.cc:177] computation placer already registered. Please check linkage and avoid linking the same target more than once.\n",
      "W0000 00:00:1747559070.548169     636 computation_placer.cc:177] computation placer already registered. Please check linkage and avoid linking the same target more than once.\n",
      "W0000 00:00:1747559070.548171     636 computation_placer.cc:177] computation placer already registered. Please check linkage and avoid linking the same target more than once.\n",
      "W0000 00:00:1747559070.548174     636 computation_placer.cc:177] computation placer already registered. Please check linkage and avoid linking the same target more than once.\n",
      "2025-05-18 09:04:30.551186: I tensorflow/core/platform/cpu_feature_guard.cc:210] This TensorFlow binary is optimized to use available CPU instructions in performance-critical operations.\n",
      "To enable the following instructions: AVX2 AVX512F AVX512_VNNI AVX512_BF16 FMA, in other operations, rebuild TensorFlow with the appropriate compiler flags.\n"
     ]
    }
   ],
   "source": [
    "import pandas as pd\n",
    "import numpy as np\n",
    "import re\n",
    "import matplotlib.pyplot as plt\n",
    "import seaborn as sns\n",
    "\n",
    "from sklearn.model_selection import train_test_split\n",
    "from sklearn.metrics import f1_score\n",
    "from sklearn.feature_extraction.text import TfidfVectorizer\n",
    "\n",
    "import gensim\n",
    "\n",
    "import torch\n",
    "import torch.nn as nn\n",
    "import torch.optim as optim\n",
    "from torch.utils.data import Dataset, DataLoader\n",
    "\n",
    "import torch.nn.functional as F\n",
    "\n",
    "\n",
    "\n",
    "from transformers import BertTokenizer, BertForSequenceClassification, pipeline\n",
    "\n",
    "from tensorflow.keras.preprocessing.text import Tokenizer\n",
    "from tensorflow.keras.preprocessing.sequence import pad_sequences\n",
    "import torch\n",
    "import torch.nn as nn\n",
    "import torch.nn.functional as F\n",
    "import torch.optim as optim\n",
    "\n",
    "from torch.utils.data import Dataset, DataLoader\n",
    "from torch.optim.lr_scheduler import ReduceLROnPlateau\n",
    "import tensorflow as tf\n",
    "from tensorflow.keras.callbacks import EarlyStopping, ReduceLROnPlateau, ModelCheckpoint\n",
    "from tensorflow.keras import Input, Model\n",
    "from tensorflow.keras.layers import (\n",
    "    Dense, Dropout, Embedding, Conv1D, GlobalMaxPooling1D, \n",
    "    LSTM, GlobalMaxPool1D\n",
    ")\n",
    "from tensorflow.keras.optimizers import Adam"
   ]
  },
  {
   "cell_type": "markdown",
   "metadata": {},
   "source": [
    "## Read train and test"
   ]
  },
  {
   "cell_type": "code",
   "execution_count": 2,
   "metadata": {
    "execution": {
     "iopub.execute_input": "2025-05-18T00:05:28.499065Z",
     "iopub.status.busy": "2025-05-18T00:05:28.498782Z",
     "iopub.status.idle": "2025-05-18T00:05:30.032463Z",
     "shell.execute_reply": "2025-05-18T00:05:30.031842Z",
     "shell.execute_reply.started": "2025-05-18T00:05:28.499042Z"
    }
   },
   "outputs": [
    {
     "name": "stdout",
     "output_type": "stream",
     "text": [
      "Треин = (29568, 3)\n",
      "тест  = (7392, 2)\n",
      "кол во классов = 20\n"
     ]
    }
   ],
   "source": [
    "train_df = pd.read_csv(\"train.csv\")\n",
    "test_df  = pd.read_csv(\"test.csv\")\n",
    "\n",
    "y_str = train_df[\"labels\"].values\n",
    "y_list = [list(map(int, s.split())) for s in y_str]\n",
    "y = np.array(y_list)\n",
    "num_classes = y.shape[1]\n",
    "\n",
    "print(\"Треин =\", train_df.shape)\n",
    "print(\"тест  =\", test_df.shape)\n",
    "print(\"кол во классов =\", num_classes)"
   ]
  },
  {
   "cell_type": "markdown",
   "metadata": {},
   "source": [
    "## EDA"
   ]
  },
  {
   "cell_type": "code",
   "execution_count": 3,
   "metadata": {
    "execution": {
     "iopub.execute_input": "2025-05-18T00:05:31.095277Z",
     "iopub.status.busy": "2025-05-18T00:05:31.094716Z",
     "iopub.status.idle": "2025-05-18T00:05:31.384232Z",
     "shell.execute_reply": "2025-05-18T00:05:31.383533Z",
     "shell.execute_reply.started": "2025-05-18T00:05:31.095249Z"
    }
   },
   "outputs": [
    {
     "data": {
      "image/png": "[encoded data removed]",
      "text/plain": [
       "<Figure size 1000x400 with 1 Axes>"
      ]
     },
     "metadata": {},
     "output_type": "display_data"
    },
    {
     "name": "stdout",
     "output_type": "stream",
     "text": [
      "Min/Max кол-во 1 по классам: 99 / 24300\n",
      "ID=0\n",
      "TEXT= 15 января\n",
      "Детская развлекательная программа\n",
      "15-00 бесплатно\n",
      "❗️\n",
      "@\n",
      "cafeotdyh\n",
      "Кафе  ...\n",
      "LABELS= [1 0 0 0 1 0 0 0 1 0 0 0 1 1 1 1 1 0 0 1]\n",
      "---\n",
      "ID=1\n",
      "TEXT= 13 и 14 августа\n",
      "Выходные в Меге\n",
      "https://t.me/megaufa_official\n",
      "Мегапарк ...\n",
      "LABELS= [0 0 0 1 0 0 0 0 1 0 0 0 1 1 0 1 1 0 0 1]\n",
      "---\n",
      "ID=2\n",
      "TEXT= Йокнапатофа\n",
      "Постановка Театр им. Маяковского\n",
      "Билеты от 500 до 2000 р. ...\n",
      "LABELS= [0 0 0 0 1 0 0 0 0 0 0 0 1 1 0 1 1 0 0 1]\n",
      "---\n"
     ]
    }
   ],
   "source": [
    "class_counts = y.sum(axis=0)\n",
    "plt.figure(figsize=(10,4))\n",
    "sns.barplot(x=np.arange(num_classes), y=class_counts)\n",
    "plt.title(\"Распределение суммарных единиц по классам\")\n",
    "plt.xlabel(\"Class\")\n",
    "plt.ylabel(\"Count of 1\")\n",
    "plt.show()\n",
    "\n",
    "print(\"Min/Max кол-во 1 по классам:\", class_counts.min(), \"/\", class_counts.max())\n",
    "\n",
    "# Примеры\n",
    "for i in range(3):\n",
    "    print(f\"ID={train_df.loc[i, 'id']}\")\n",
    "    print(\"TEXT=\", train_df.loc[i, 'text'][:80], \"...\")\n",
    "    print(\"LABELS=\", y[i])\n",
    "    print(\"---\")\n"
   ]
  },
  {
   "cell_type": "code",
   "execution_count": 4,
   "metadata": {
    "execution": {
     "iopub.execute_input": "2025-05-18T00:05:31.483355Z",
     "iopub.status.busy": "2025-05-18T00:05:31.482867Z",
     "iopub.status.idle": "2025-05-18T00:05:31.916419Z",
     "shell.execute_reply": "2025-05-18T00:05:31.915652Z",
     "shell.execute_reply.started": "2025-05-18T00:05:31.483335Z"
    }
   },
   "outputs": [
    {
     "data": {
      "image/png": "[encoded data removed]",
      "text/plain": [
       "<Figure size 640x480 with 1 Axes>"
      ]
     },
     "metadata": {},
     "output_type": "display_data"
    },
    {
     "name": "stdout",
     "output_type": "stream",
     "text": [
      "Средняя длина- 86.60619588744589\n",
      "Медианная длина - 85.0\n"
     ]
    }
   ],
   "source": [
    "# посмотрим на длину текстов\n",
    "text_len = train_df[\"text\"].apply(lambda x: len(str(x).split()))\n",
    "plt.hist(text_len, bins=30, color='skyblue', edgecolor='black')\n",
    "plt.title(\"Распределение длины текстов/слов в train\")\n",
    "plt.xlabel(\"Число слов\")\n",
    "plt.ylabel(\"Количество\")\n",
    "plt.show()\n",
    "\n",
    "print(\"Средняя длина-\", text_len.mean())\n",
    "print(\"Медианная длина -\", text_len.median())"
   ]
  },
  {
   "cell_type": "markdown",
   "metadata": {},
   "source": [
    "Выведем корреляцию между классами"
   ]
  },
  {
   "cell_type": "code",
   "execution_count": 5,
   "metadata": {
    "execution": {
     "iopub.execute_input": "2025-05-18T00:05:34.757658Z",
     "iopub.status.busy": "2025-05-18T00:05:34.756923Z",
     "iopub.status.idle": "2025-05-18T00:05:35.081698Z",
     "shell.execute_reply": "2025-05-18T00:05:35.080824Z",
     "shell.execute_reply.started": "2025-05-18T00:05:34.757623Z"
    }
   },
   "outputs": [
    {
     "data": {
      "image/png": "[encoded data removed]",
      "text/plain": [
       "<Figure size 600x500 with 2 Axes>"
      ]
     },
     "metadata": {},
     "output_type": "display_data"
    },
    {
     "name": "stdout",
     "output_type": "stream",
     "text": [
      "Число почти пустых текстов в train: 10\n"
     ]
    }
   ],
   "source": [
    "corr = np.corrcoef(y.T)\n",
    "plt.figure(figsize=(6,5))\n",
    "sns.heatmap(corr, annot=False, cmap=\"RdBu_r\")\n",
    "plt.title(\"Корреляция между классами\")\n",
    "plt.show()\n",
    "\n",
    "# посмотрим кол-во почти пустых текстов\n",
    "empty_texts = sum(train_df[\"text\"].apply(lambda x: len(str(x).strip())<10))\n",
    "print(f\"Число почти пустых текстов в train: {empty_texts}\")"
   ]
  },
  {
   "cell_type": "markdown",
   "metadata": {},
   "source": [
    "### Выводы по EDA\n",
    "\n",
    "1. **Распределение классов**  \n",
    "   - Видим, что минимальное количество единиц в классе (класс под номером 5) – около 99, а максимальное (под номером 18) – 24300. Это говорит о существенном дисбалансе классов. Редкие классы могут ухудшать итоговый `f1_macro`, поэтому стоит уделить внимание способам балансировки (например генерация).\n",
    "2. **Длина текстов**  \n",
    "   - По анализу видно, что длина примерно 86 слов, медианная примерно 85 слов, но у некоторых текстов длина доходит до 300+ слов. Это говорит о \"хвосте\" длинных текстов.  \n",
    "   - Большое число текстов имеет длину в диапазоне 50–150 слов.\n",
    "3. **Содержимое текстов**  \n",
    "   - Видны ссылки (https://), упоминания спецсимволов и т.д. Это важно учесть при очистке.\n",
    "4. **Корреляция между классами**  \n",
    "   - На тепловой карте видно что часть классов довольно сильно коррелирует (красные области выше 0.5), а некоторые пары, наоборот, заметно противоположны. Это может говорить нам о том, что при появлении одних меток часто встречаются и другие, а некоторые классы практически не сосуществуют в одном тексте. Для модели такие связи могут быть подсказкой, позволяя лучше определять сопутствующие классы.Или исключать маловероятные сочетания.\n",
    "5. **Пустые/короткие тексты** \n",
    "   - Также было выведено число почти пустых текстов(определяли по своему порогу - 10). Возможно,стоит их заменить на специальный токен или удалить."
   ]
  },
  {
   "cell_type": "markdown",
   "metadata": {},
   "source": [
    "##  Очистка текста + обоснование для разных эмбеддингов."
   ]
  },
  {
   "cell_type": "code",
   "execution_count": 6,
   "metadata": {
    "execution": {
     "iopub.execute_input": "2025-05-18T00:05:37.991294Z",
     "iopub.status.busy": "2025-05-18T00:05:37.990722Z",
     "iopub.status.idle": "2025-05-18T00:05:40.222999Z",
     "shell.execute_reply": "2025-05-18T00:05:40.222196Z",
     "shell.execute_reply.started": "2025-05-18T00:05:37.991270Z"
    }
   },
   "outputs": [
    {
     "name": "stdout",
     "output_type": "stream",
     "text": [
      "Исходный текст:\n",
      "15 января\n",
      "Детская развлекательная программа\n",
      "15-00 бесплатно\n",
      "❗️\n",
      "@\n",
      "cafeotdyh\n",
      "Кафе \"Отдых\"\n",
      "📍\n",
      "Запись обязательно +73472228532\n",
      "Очищенный текст:\n",
      "15 января детская развлекательная программа 15 00 бесплатно cafeotdyh кафе отдых запись обязательно 73472228532\n"
     ]
    }
   ],
   "source": [
    "def clean_text(text):\n",
    "    text = str(text).lower()\n",
    "    text = re.sub(r\"https?://\\S+\", \" \", text)\n",
    "    text = re.sub(r\"[^а-яёa-z0-9 ]\", \" \", text)\n",
    "    text = re.sub(r\"\\s+\", \" \", text).strip()\n",
    "    return text\n",
    "\n",
    "train_df[\"clean_text\"] = train_df[\"text\"].apply(clean_text)\n",
    "test_df[\"clean_text\"]  = test_df[\"text\"].apply(clean_text)\n",
    "\n",
    "# проверка\n",
    "print(\"Исходный текст:\")\n",
    "print(train_df.loc[0,\"text\"])\n",
    "print(\"Очищенный текст:\")\n",
    "print(train_df.loc[0,\"clean_text\"])"
   ]
  },
  {
   "cell_type": "markdown",
   "metadata": {},
   "source": [
    "### очистки под разные эмбеддинги\n",
    "\n",
    "- **TF-IDF, W2V, CNN, RNN**:  \n",
    "  В большинстве случаев важно привести текст к нижнему регистру, удалить ссылки, спецсимволы и т.д. Эти методы чувствительны к шуму, так как токенизация идет по словам, и лишние знаки могут раздробить слова или увеличить размер словаря. Поэтому `clean_text` удаляет неалфавитные символы (кроме цифр, если они важны), ссылки, лишние пробелы.\n",
    "  \n",
    "- **BERT-like**:  \n",
    "  BERT-токенайзеры могут переваривать многие символы, но ссылки и мусор всt равно лучше убрать, чтобы модель не тратила эмбеддинги на лишние токены. При этом нет особой необходимости нормализовать тексты, потому что BERT внутренно использует WordPiece и умеет работать с подсловами. Но можемиспользовать `clean_text` для единобразия."
   ]
  },
  {
   "cell_type": "markdown",
   "metadata": {},
   "source": [
    "## Трейн/вал сплит и метрика"
   ]
  },
  {
   "cell_type": "code",
   "execution_count": 7,
   "metadata": {
    "execution": {
     "iopub.execute_input": "2025-05-18T00:05:40.329876Z",
     "iopub.status.busy": "2025-05-18T00:05:40.329642Z",
     "iopub.status.idle": "2025-05-18T00:05:40.345271Z",
     "shell.execute_reply": "2025-05-18T00:05:40.344547Z",
     "shell.execute_reply.started": "2025-05-18T00:05:40.329857Z"
    }
   },
   "outputs": [
    {
     "name": "stdout",
     "output_type": "stream",
     "text": [
      "треин: 23654 вал: 5914\n"
     ]
    }
   ],
   "source": [
    "X_train, X_val, y_train, y_val = train_test_split(\n",
    "    train_df[\"clean_text\"], y, test_size=0.2, random_state=42\n",
    ")\n",
    "# метрика\n",
    "def f1_for_val(y_true, y_pred):\n",
    "    return f1_score(y_true, (y_pred>0.5).astype(int), average=\"macro\")\n",
    "\n",
    "print(\"треин:\", len(X_train), \"вал:\", len(X_val))"
   ]
  },
  {
   "cell_type": "markdown",
   "metadata": {},
   "source": [
    "## Модель 1 -TF-IDF +  Dense-сеть."
   ]
  },
  {
   "cell_type": "code",
   "execution_count": 8,
   "metadata": {
    "execution": {
     "iopub.execute_input": "2025-05-18T00:05:42.591707Z",
     "iopub.status.busy": "2025-05-18T00:05:42.591005Z",
     "iopub.status.idle": "2025-05-18T00:05:42.597507Z",
     "shell.execute_reply": "2025-05-18T00:05:42.596824Z",
     "shell.execute_reply.started": "2025-05-18T00:05:42.591681Z"
    }
   },
   "outputs": [],
   "source": [
    "# для накопления лоссов\n",
    "class HistoryContainer:\n",
    "    def __init__(self):\n",
    "        self.history = {\n",
    "            \"loss\": [],\n",
    "            \"val_loss\": []\n",
    "        }\n",
    "\n",
    "# ранняя остановка\n",
    "class EarlyStopper:\n",
    "    def __init__(self, patience=3, restore_best_weights=True, checkpoint_path=\"temp_model.pt\"):\n",
    "        self.patience = patience\n",
    "        self.restore_best_weights = restore_best_weights\n",
    "        self.checkpoint_path = checkpoint_path\n",
    "        self.best_val_loss = float('inf')\n",
    "        self.wait = 0\n",
    "    \n",
    "    def check(self, val_loss, model):\n",
    "        if val_loss < self.best_val_loss:\n",
    "            # улучшение\n",
    "            self.best_val_loss = val_loss\n",
    "            self.wait = 0\n",
    "            # сохраним лучшую модель\n",
    "            torch.save(model.state_dict(), self.checkpoint_path)\n",
    "        else:\n",
    "            self.wait += 1\n",
    "        if self.wait >= self.patience:\n",
    "            # ранняя остановка\n",
    "            if self.restore_best_weights:\n",
    "                model.load_state_dict(torch.load(self.checkpoint_path))\n",
    "            return True\n",
    "        return False"
   ]
  },
  {
   "cell_type": "code",
   "execution_count": 9,
   "metadata": {
    "execution": {
     "iopub.execute_input": "2025-05-18T00:05:44.375806Z",
     "iopub.status.busy": "2025-05-18T00:05:44.375190Z",
     "iopub.status.idle": "2025-05-18T00:05:44.379622Z",
     "shell.execute_reply": "2025-05-18T00:05:44.378716Z",
     "shell.execute_reply.started": "2025-05-18T00:05:44.375782Z"
    }
   },
   "outputs": [],
   "source": [
    "from torch.optim.lr_scheduler import ReduceLROnPlateau"
   ]
  },
  {
   "cell_type": "code",
   "execution_count": 41,
   "metadata": {
    "execution": {
     "iopub.execute_input": "2025-05-18T00:05:46.460385Z",
     "iopub.status.busy": "2025-05-18T00:05:46.460097Z",
     "iopub.status.idle": "2025-05-18T00:06:02.633214Z",
     "shell.execute_reply": "2025-05-18T00:06:02.632542Z",
     "shell.execute_reply.started": "2025-05-18T00:05:46.460364Z"
    }
   },
   "outputs": [
    {
     "name": "stdout",
     "output_type": "stream",
     "text": [
      "Epoch 1/15 - loss: 0.3163 - val_loss: 0.2333\n",
      "Epoch 2/15 - loss: 0.2054 - val_loss: 0.2005\n",
      "Epoch 3/15 - loss: 0.1724 - val_loss: 0.1877\n",
      "Epoch 4/15 - loss: 0.1517 - val_loss: 0.1828\n",
      "Epoch 5/15 - loss: 0.1368 - val_loss: 0.1816\n",
      "Epoch 6/15 - loss: 0.1248 - val_loss: 0.1807\n",
      "Epoch 7/15 - loss: 0.1152 - val_loss: 0.1828\n",
      "Epoch 8/15 - loss: 0.1062 - val_loss: 0.1860\n",
      "Epoch 9/15 - loss: 0.0941 - val_loss: 0.1863\n",
      "Early stopping triggered!\n",
      "TF-IDF Model F1: 0.8259750974436966\n"
     ]
    }
   ],
   "source": [
    "# tf idf\n",
    "tfidf = TfidfVectorizer(max_features=5000)\n",
    "tfidf.fit(X_train)\n",
    "\n",
    "X_train_tfidf = tfidf.transform(X_train).toarray()\n",
    "X_val_tfidf   = tfidf.transform(X_val).toarray()\n",
    "X_test_tfidf  = tfidf.transform(test_df[\"clean_text\"]).toarray()\n",
    "\n",
    "# тензоры\n",
    "X_train_tfidf_t = torch.tensor(X_train_tfidf, dtype=torch.float32)\n",
    "y_train_t       = torch.tensor(y_train,       dtype=torch.float32)\n",
    "X_val_tfidf_t   = torch.tensor(X_val_tfidf,   dtype=torch.float32)\n",
    "y_val_t         = torch.tensor(y_val,         dtype=torch.float32)\n",
    "\n",
    "\n",
    "class TfidfNet(nn.Module):\n",
    "    def __init__(self, input_dim, hidden_dim=256, output_dim=num_classes):\n",
    "        super().__init__()\n",
    "        self.fc1 = nn.Linear(input_dim, hidden_dim)\n",
    "        self.dropout = nn.Dropout(0.2)\n",
    "        self.fc2 = nn.Linear(hidden_dim, output_dim)\n",
    "    def forward(self, x):\n",
    "        x = F.relu(self.fc1(x))\n",
    "        x = self.dropout(x)\n",
    "        x = torch.sigmoid(self.fc2(x))  # multi-label => сигмоида\n",
    "        return x\n",
    "\n",
    "# модель и оптимизатор\n",
    "tfidf_model = TfidfNet(input_dim=X_train_tfidf.shape[1])\n",
    "tfidf_model.cuda()\n",
    "optimizer = optim.Adam(tfidf_model.parameters(), lr=1e-3)\n",
    "criterion = nn.BCELoss()\n",
    "\n",
    "# для уменьшения lr при отсутствии улучшений\n",
    "scheduler = ReduceLROnPlateau(optimizer, mode='min', factor=0.5, patience=1, verbose=1)\n",
    "\n",
    "# колбеки\n",
    "es_tfidf = EarlyStopper(patience=3, restore_best_weights=True, checkpoint_path=\"best_tfidf_model.pt\")\n",
    "\n",
    "# хранение лоссов\n",
    "history_tfidf = HistoryContainer()\n",
    "\n",
    "epochs = 15\n",
    "batch_size = 32\n",
    "\n",
    "def tfidf_batch_generator(X, Y, batch_size):\n",
    "    perm = torch.randperm(len(X))\n",
    "    X = X[perm]\n",
    "    Y = Y[perm]\n",
    "    for i in range(0, len(X), batch_size):\n",
    "        yield X[i:i+batch_size], Y[i:i+batch_size]\n",
    "\n",
    "for epoch in range(epochs):\n",
    "    # train\n",
    "    tfidf_model.train()\n",
    "    train_loss_accum = 0.0\n",
    "    \n",
    "    for xb, yb in tfidf_batch_generator(X_train_tfidf_t.cuda(), y_train_t.cuda(), batch_size):\n",
    "        optimizer.zero_grad()\n",
    "        preds = tfidf_model(xb)\n",
    "        loss = criterion(preds, yb)\n",
    "        loss.backward()\n",
    "        optimizer.step()\n",
    "        \n",
    "        train_loss_accum += loss.item() * len(xb)\n",
    "    train_loss = train_loss_accum / len(X_train_tfidf_t)\n",
    "    \n",
    "    # val\n",
    "    tfidf_model.eval()\n",
    "    with torch.no_grad():\n",
    "        val_preds = tfidf_model(X_val_tfidf_t.cuda())\n",
    "        val_loss = criterion(val_preds, y_val_t.cuda()).item()\n",
    "    \n",
    "    history_tfidf.history[\"loss\"].append(train_loss)\n",
    "    history_tfidf.history[\"val_loss\"].append(val_loss)\n",
    "    \n",
    "    print(f\"Epoch {epoch+1}/{epochs} - loss: {train_loss:.4f} - val_loss: {val_loss:.4f}\")\n",
    "    \n",
    "\n",
    "    scheduler.step(val_loss)\n",
    "    \n",
    "\n",
    "    should_stop = es_tfidf.check(val_loss, tfidf_model)\n",
    "    if should_stop:\n",
    "        print(\"Early stopping triggered!\")\n",
    "        break\n",
    "\n",
    "# предикт на вал\n",
    "tfidf_model.eval()\n",
    "with torch.no_grad():\n",
    "    p_val_tfidf = tfidf_model(torch.tensor(X_val_tfidf, dtype=torch.float32).cuda()).cpu().numpy()\n",
    "\n",
    "print(\"TF-IDF Model F1:\", f1_for_val(y_val, p_val_tfidf))\n",
    "\n",
    "loss_tfidf = history_tfidf.history[\"loss\"]\n",
    "val_loss_tfidf = history_tfidf.history[\"val_loss\"]"
   ]
  },
  {
   "cell_type": "code",
   "execution_count": 42,
   "metadata": {
    "execution": {
     "iopub.execute_input": "2025-05-18T00:06:02.634774Z",
     "iopub.status.busy": "2025-05-18T00:06:02.634538Z",
     "iopub.status.idle": "2025-05-18T00:06:02.790918Z",
     "shell.execute_reply": "2025-05-18T00:06:02.790280Z",
     "shell.execute_reply.started": "2025-05-18T00:06:02.634758Z"
    }
   },
   "outputs": [
    {
     "data": {
      "image/png": "[encoded data removed]",
      "text/plain": [
       "<Figure size 800x400 with 1 Axes>"
      ]
     },
     "metadata": {},
     "output_type": "display_data"
    }
   ],
   "source": [
    "# график лоссов\n",
    "plt.figure(figsize=(8,4))\n",
    "plt.plot(loss_tfidf, label=\"tfidf_train_loss\")\n",
    "plt.plot(val_loss_tfidf, label=\"tfidf_val_loss\")\n",
    "plt.title(\"TF-IDF + NN Loss\")\n",
    "plt.legend()\n",
    "plt.show()"
   ]
  },
  {
   "cell_type": "markdown",
   "metadata": {},
   "source": [
    "## Модель 2 - W2V и NN "
   ]
  },
  {
   "cell_type": "code",
   "execution_count": 12,
   "metadata": {
    "execution": {
     "iopub.execute_input": "2025-05-18T00:06:02.791987Z",
     "iopub.status.busy": "2025-05-18T00:06:02.791728Z",
     "iopub.status.idle": "2025-05-18T00:06:02.796176Z",
     "shell.execute_reply": "2025-05-18T00:06:02.795530Z",
     "shell.execute_reply.started": "2025-05-18T00:06:02.791960Z"
    }
   },
   "outputs": [],
   "source": [
    "def text_to_w2v_vector(text):\n",
    "    words = text.split()\n",
    "    vecs = []\n",
    "    for w in words:\n",
    "        if w in w2v_model.wv.key_to_index:\n",
    "            vecs.append(w2v_model.wv[w])\n",
    "    if len(vecs)==0:\n",
    "        return np.zeros(w2v_model.vector_size)\n",
    "    return np.mean(vecs, axis=0)"
   ]
  },
  {
   "cell_type": "code",
   "execution_count": 13,
   "metadata": {
    "execution": {
     "iopub.execute_input": "2025-05-18T00:06:02.798109Z",
     "iopub.status.busy": "2025-05-18T00:06:02.797699Z",
     "iopub.status.idle": "2025-05-18T00:06:39.171604Z",
     "shell.execute_reply": "2025-05-18T00:06:39.170930Z",
     "shell.execute_reply.started": "2025-05-18T00:06:02.798093Z"
    }
   },
   "outputs": [
    {
     "name": "stdout",
     "output_type": "stream",
     "text": [
      "[Epoch 1] w2v train_loss=0.3533, val_loss=0.3041\n",
      "[Epoch 2] w2v train_loss=0.3019, val_loss=0.2844\n",
      "[Epoch 3] w2v train_loss=0.2884, val_loss=0.2760\n",
      "[Epoch 4] w2v train_loss=0.2805, val_loss=0.2691\n",
      "[Epoch 5] w2v train_loss=0.2736, val_loss=0.2654\n",
      "[Epoch 6] w2v train_loss=0.2692, val_loss=0.2617\n",
      "[Epoch 7] w2v train_loss=0.2662, val_loss=0.2596\n",
      "[Epoch 8] w2v train_loss=0.2632, val_loss=0.2560\n",
      "[Epoch 9] w2v train_loss=0.2612, val_loss=0.2536\n",
      "[Epoch 10] w2v train_loss=0.2581, val_loss=0.2516\n",
      "[Epoch 11] w2v train_loss=0.2568, val_loss=0.2502\n",
      "[Epoch 12] w2v train_loss=0.2544, val_loss=0.2490\n",
      "[Epoch 13] w2v train_loss=0.2529, val_loss=0.2473\n",
      "[Epoch 14] w2v train_loss=0.2516, val_loss=0.2449\n",
      "[Epoch 15] w2v train_loss=0.2495, val_loss=0.2446\n",
      "W2V NN Model F1: 0.7558069572931083\n"
     ]
    }
   ],
   "source": [
    "# применяем Word2Vec\n",
    "all_texts_for_w2v = pd.concat([X_train, X_val, test_df[\"clean_text\"]], ignore_index=True)\n",
    "tokens_for_w2v = [txt.split() for txt in all_texts_for_w2v]\n",
    "w2v_model = gensim.models.Word2Vec(tokens_for_w2v, vector_size=100, min_count=1, window=5)\n",
    "\n",
    "X_train_w2v = np.array([text_to_w2v_vector(t) for t in X_train])\n",
    "X_val_w2v   = np.array([text_to_w2v_vector(t) for t in X_val])\n",
    "X_test_w2v  = np.array([text_to_w2v_vector(t) for t in test_df[\"clean_text\"]])\n",
    "\n",
    "\n",
    "X_train_w2v_t = torch.tensor(X_train_w2v, dtype=torch.float32)\n",
    "X_val_w2v_t   = torch.tensor(X_val_w2v,   dtype=torch.float32)\n",
    "y_train_t_w2v = torch.tensor(y_train,     dtype=torch.float32)\n",
    "y_val_t_w2v   = torch.tensor(y_val,       dtype=torch.float32)\n",
    "\n",
    "X_train_w2v_t = X_train_w2v_t.cuda()\n",
    "X_val_w2v_t   = X_val_w2v_t.cuda()\n",
    "y_train_t_w2v = y_train_t_w2v.cuda()\n",
    "y_val_t_w2v   = y_val_t_w2v.cuda()\n",
    "\n",
    "\n",
    "class W2VNet(nn.Module):\n",
    "    def __init__(self, input_dim=100, hidden_dim=128, output_dim=num_classes):\n",
    "        super().__init__()\n",
    "        self.fc1 = nn.Linear(input_dim, hidden_dim)\n",
    "        self.dropout = nn.Dropout(0.2)\n",
    "        self.fc2 = nn.Linear(hidden_dim, output_dim)\n",
    "    def forward(self, x):\n",
    "        x = F.relu(self.fc1(x))\n",
    "        x = self.dropout(x)\n",
    "        x = torch.sigmoid(self.fc2(x))\n",
    "        return x\n",
    "\n",
    "w2v_nn_model = W2VNet().cuda()\n",
    "optimizer_w2v = optim.Adam(w2v_nn_model.parameters(), lr=1e-3)\n",
    "criterion = nn.BCELoss()\n",
    "\n",
    "es_w2v = EarlyStopper(patience=3, restore_best_weights=True, checkpoint_path=\"best_w2v_model.pt\")\n",
    "scheduler_w2v = ReduceLROnPlateau(optimizer_w2v, mode='min', factor=0.5, patience=1, verbose=1)\n",
    "\n",
    "history_w2v = HistoryContainer()\n",
    "\n",
    "epochs = 15\n",
    "batch_size = 32\n",
    "\n",
    "def w2v_batch_gen(X, Y, bs=32):\n",
    "    perm = torch.randperm(len(X))\n",
    "    X = X[perm]\n",
    "    Y = Y[perm]\n",
    "    for i in range(0, len(X), bs):\n",
    "        yield X[i:i+bs], Y[i:i+bs]\n",
    "\n",
    "for epoch in range(epochs):\n",
    "    w2v_nn_model.train()\n",
    "    train_loss_accum = 0.0\n",
    "    \n",
    "    for xb, yb in w2v_batch_gen(X_train_w2v_t, y_train_t_w2v, batch_size):\n",
    "        optimizer_w2v.zero_grad()\n",
    "        preds = w2v_nn_model(xb)\n",
    "        loss = criterion(preds, yb)\n",
    "        loss.backward()\n",
    "        optimizer_w2v.step()\n",
    "        \n",
    "        train_loss_accum += loss.item() * len(xb)\n",
    "    train_loss = train_loss_accum / len(X_train_w2v_t)\n",
    "    \n",
    "    # val\n",
    "    w2v_nn_model.eval()\n",
    "    with torch.no_grad():\n",
    "        val_preds = w2v_nn_model(X_val_w2v_t)\n",
    "        val_loss = criterion(val_preds, y_val_t_w2v).item()\n",
    "    \n",
    "    history_w2v.history[\"loss\"].append(train_loss)\n",
    "    history_w2v.history[\"val_loss\"].append(val_loss)\n",
    "    \n",
    "    print(f\"[Epoch {epoch+1}] w2v train_loss={train_loss:.4f}, val_loss={val_loss:.4f}\")\n",
    "    \n",
    "    scheduler_w2v.step(val_loss)\n",
    "    if es_w2v.check(val_loss, w2v_nn_model):\n",
    "        print(\"EarlyStopping triggered for W2V!\")\n",
    "        break\n",
    "\n",
    "# Лучшая модель\n",
    "w2v_nn_model.load_state_dict(torch.load(\"best_w2v_model.pt\"))\n",
    "w2v_nn_model.eval()\n",
    "with torch.no_grad():\n",
    "    p_val_w2v = w2v_nn_model(X_val_w2v_t).cpu().numpy()\n",
    "\n",
    "print(\"W2V NN Model F1:\", f1_for_val(y_val, p_val_w2v))"
   ]
  },
  {
   "cell_type": "markdown",
   "metadata": {},
   "source": "## CNN"
  },
  {
   "cell_type": "code",
   "execution_count": null,
   "metadata": {},
   "outputs": [],
   "source": [
    "class CNNClassifier(nn.Module):\n",
    "    def __init__(self, vocab_size=8000, emb_dim=64, num_filters=64, num_classes=num_classes):\n",
    "        super().__init__()\n",
    "        self.embedding = nn.Embedding(vocab_size, emb_dim)\n",
    "        self.conv1 = nn.Conv1d(in_channels=emb_dim, out_channels=num_filters, kernel_size=3)\n",
    "        self.pool  = nn.AdaptiveMaxPool1d(1)\n",
    "        self.fc = nn.Linear(num_filters, num_classes)\n",
    "    def forward(self, x):\n",
    "        # x: [batch_size, seq_len]\n",
    "        emb = self.embedding(x)               \n",
    "        emb = emb.permute(0, 2, 1)            \n",
    "        c = torch.relu(self.conv1(emb))      \n",
    "        pooled = self.pool(c).squeeze(-1)  \n",
    "        logits = self.fc(pooled)        \n",
    "        return torch.sigmoid(logits)"
   ]
  },
  {
   "cell_type": "code",
   "execution_count": 14,
   "metadata": {
    "execution": {
     "iopub.execute_input": "2025-05-18T00:06:39.172773Z",
     "iopub.status.busy": "2025-05-18T00:06:39.172416Z",
     "iopub.status.idle": "2025-05-18T00:06:59.681162Z",
     "shell.execute_reply": "2025-05-18T00:06:59.680307Z",
     "shell.execute_reply.started": "2025-05-18T00:06:39.172753Z"
    }
   },
   "outputs": [
    {
     "name": "stdout",
     "output_type": "stream",
     "text": [
      "[Epoch 1] CNN train_loss=0.3405, val_loss=0.2986\n",
      "[Epoch 2] CNN train_loss=0.2806, val_loss=0.2766\n",
      "[Epoch 3] CNN train_loss=0.2546, val_loss=0.2674\n",
      "[Epoch 4] CNN train_loss=0.2357, val_loss=0.2634\n",
      "[Epoch 5] CNN train_loss=0.2204, val_loss=0.2576\n",
      "[Epoch 6] CNN train_loss=0.2068, val_loss=0.2571\n",
      "[Epoch 7] CNN train_loss=0.1946, val_loss=0.2591\n",
      "[Epoch 8] CNN train_loss=0.1837, val_loss=0.2602\n",
      "[Epoch 9] CNN train_loss=0.1688, val_loss=0.2587\n",
      "[Epoch 10] CNN train_loss=0.1630, val_loss=0.2607\n",
      "[Epoch 11] CNN train_loss=0.1556, val_loss=0.2607\n",
      "EarlyStopping triggered for CNN!\n",
      "CNN Model F1: 0.7659964636331086\n"
     ]
    }
   ],
   "source": [
    "vocab_size = 8000\n",
    "tokenizer_cnn = Tokenizer(num_words=vocab_size, oov_token=\"<UNK>\")\n",
    "tokenizer_cnn.fit_on_texts(X_train)\n",
    "\n",
    "maxlen_cnn = 40\n",
    "\n",
    "def seq_prepare(texts):\n",
    "    seqs = tokenizer_cnn.texts_to_sequences(texts)\n",
    "    return pad_sequences(seqs, maxlen=maxlen_cnn, padding=\"post\")\n",
    "\n",
    "X_train_seq_cnn = seq_prepare(X_train)\n",
    "X_val_seq_cnn   = seq_prepare(X_val)\n",
    "X_test_seq_cnn  = seq_prepare(test_df[\"clean_text\"])\n",
    "\n",
    "X_train_cnn_t = torch.tensor(X_train_seq_cnn, dtype=torch.long).cuda()\n",
    "y_train_cnn_t = torch.tensor(y_train,         dtype=torch.float32).cuda()\n",
    "\n",
    "X_val_cnn_t   = torch.tensor(X_val_seq_cnn,   dtype=torch.long).cuda()\n",
    "y_val_cnn_t   = torch.tensor(y_val,           dtype=torch.float32).cuda()\n",
    "\n",
    "\n",
    "cnn_model = CNNClassifier(\n",
    "    vocab_size=vocab_size, \n",
    "    emb_dim=64, \n",
    "    num_filters=64, \n",
    "    num_classes=num_classes\n",
    ").cuda()\n",
    "\n",
    "optimizer_cnn = optim.Adam(cnn_model.parameters(), lr=1e-3)\n",
    "criterion = nn.BCELoss()\n",
    "\n",
    "es_cnn = EarlyStopper(patience=5, restore_best_weights=True, checkpoint_path=\"best_cnn_model.pt\")\n",
    "scheduler_cnn = ReduceLROnPlateau(optimizer_cnn, mode='min', factor=0.5, patience=1, verbose=1)\n",
    "\n",
    "history_cnn = HistoryContainer()\n",
    "\n",
    "epochs = 15\n",
    "batch_size = 32\n",
    "\n",
    "def cnn_batch_gen(X, Y, bs=32):\n",
    "    perm = torch.randperm(len(X))\n",
    "    X = X[perm]\n",
    "    Y = Y[perm]\n",
    "    for i in range(0, len(X), bs):\n",
    "        yield X[i:i+bs], Y[i:i+bs]\n",
    "\n",
    "for epoch in range(epochs):\n",
    "    cnn_model.train()\n",
    "    train_loss_accum = 0.0\n",
    "    \n",
    "    for xb, yb in cnn_batch_gen(X_train_cnn_t, y_train_cnn_t, batch_size):\n",
    "        optimizer_cnn.zero_grad()\n",
    "        preds = cnn_model(xb)\n",
    "        loss = criterion(preds, yb)\n",
    "        loss.backward()\n",
    "        optimizer_cnn.step()\n",
    "        train_loss_accum += loss.item() * len(xb)\n",
    "    \n",
    "    train_loss = train_loss_accum / len(X_train_cnn_t)\n",
    "    # validation\n",
    "    cnn_model.eval()\n",
    "    with torch.no_grad():\n",
    "        val_preds = cnn_model(X_val_cnn_t)\n",
    "        val_loss = criterion(val_preds, y_val_cnn_t).item()\n",
    "    \n",
    "    history_cnn.history[\"loss\"].append(train_loss)\n",
    "    history_cnn.history[\"val_loss\"].append(val_loss)\n",
    "    \n",
    "    print(f\"[Epoch {epoch+1}] CNN train_loss={train_loss:.4f}, val_loss={val_loss:.4f}\")\n",
    "    scheduler_cnn.step(val_loss)\n",
    "    if es_cnn.check(val_loss, cnn_model):\n",
    "        print(\"EarlyStopping triggered for CNN!\")\n",
    "        break\n",
    "\n",
    "# загрузка лучшей модели\n",
    "cnn_model.load_state_dict(torch.load(\"best_cnn_model.pt\"))\n",
    "cnn_model.eval()\n",
    "with torch.no_grad():\n",
    "    p_val_cnn = cnn_model(X_val_cnn_t).cpu().numpy()\n",
    "\n",
    "print(\"CNN Model F1:\", f1_for_val(y_val, p_val_cnn))\n",
    "\n",
    "\n",
    "loss_cnn = history_cnn.history[\"loss\"]\n",
    "val_loss_cnn = history_cnn.history[\"val_loss\"]"
   ]
  },
  {
   "cell_type": "code",
   "execution_count": 15,
   "metadata": {
    "execution": {
     "iopub.execute_input": "2025-05-18T00:06:59.682158Z",
     "iopub.status.busy": "2025-05-18T00:06:59.681956Z",
     "iopub.status.idle": "2025-05-18T00:06:59.855798Z",
     "shell.execute_reply": "2025-05-18T00:06:59.855105Z",
     "shell.execute_reply.started": "2025-05-18T00:06:59.682141Z"
    }
   },
   "outputs": [
    {
     "data": {
      "image/png": "[encoded data removed]",
      "text/plain": [
       "<Figure size 800x400 with 1 Axes>"
      ]
     },
     "metadata": {},
     "output_type": "display_data"
    }
   ],
   "source": [
    "# график\n",
    "plt.figure(figsize=(8,4))\n",
    "plt.plot(history_cnn.history[\"loss\"], label=\"Train Loss\")\n",
    "plt.plot(history_cnn.history[\"val_loss\"], label=\"Val Loss\")\n",
    "plt.title(\"CNN Training\")\n",
    "plt.xlabel(\"Epoch\")\n",
    "plt.ylabel(\"Loss\")\n",
    "plt.legend()\n",
    "plt.show()"
   ]
  },
  {
   "cell_type": "markdown",
   "metadata": {},
   "source": [
    "## RNN (LSTM) с Embedding и свитч лосса"
   ]
  },
  {
   "cell_type": "code",
   "execution_count": 16,
   "metadata": {
    "execution": {
     "iopub.execute_input": "2025-05-18T00:06:59.856817Z",
     "iopub.status.busy": "2025-05-18T00:06:59.856558Z",
     "iopub.status.idle": "2025-05-18T00:07:47.452682Z",
     "shell.execute_reply": "2025-05-18T00:07:47.451798Z",
     "shell.execute_reply.started": "2025-05-18T00:06:59.856793Z"
    }
   },
   "outputs": [
    {
     "name": "stdout",
     "output_type": "stream",
     "text": [
      "PHASE 1- bce loss\n",
      "Phase1 - Epoch 1/15: train_loss=0.3786, val_loss=0.3220\n",
      "Phase1 - Epoch 2/15: train_loss=0.3065, val_loss=0.2970\n",
      "Phase1 - Epoch 3/15: train_loss=0.2808, val_loss=0.2827\n",
      "Phase1 - Epoch 4/15: train_loss=0.2620, val_loss=0.2737\n",
      "Phase1 - Epoch 5/15: train_loss=0.2458, val_loss=0.2657\n",
      "Phase1 - Epoch 6/15: train_loss=0.2317, val_loss=0.2607\n",
      "Phase1 - Epoch 7/15: train_loss=0.2188, val_loss=0.2574\n",
      "Phase1 - Epoch 8/15: train_loss=0.2072, val_loss=0.2578\n",
      "Phase1 - Epoch 9/15: train_loss=0.1970, val_loss=0.2574\n",
      "Phase1 - Epoch 10/15: train_loss=0.1873, val_loss=0.2575\n",
      "Phase1 - Epoch 11/15: train_loss=0.1790, val_loss=0.2579\n",
      "Phase1 - Epoch 12/15: train_loss=0.1703, val_loss=0.2618\n",
      "Phase1 - Epoch 13/15: train_loss=0.1628, val_loss=0.2630\n",
      "Phase1 - Epoch 14/15: train_loss=0.1555, val_loss=0.2655\n",
      "Early stop Phase1\n",
      "PHASE 2- dice_loss\n",
      "Phase2 - Epoch 1/15: train_loss=0.0998, val_loss=0.1144\n",
      "Phase2 - Epoch 2/15: train_loss=0.0895, val_loss=0.1109\n",
      "Phase2 - Epoch 3/15: train_loss=0.0827, val_loss=0.1097\n",
      "Phase2 - Epoch 4/15: train_loss=0.0775, val_loss=0.1079\n",
      "Phase2 - Epoch 5/15: train_loss=0.0730, val_loss=0.1069\n",
      "Phase2 - Epoch 6/15: train_loss=0.0689, val_loss=0.1044\n",
      "Phase2 - Epoch 7/15: train_loss=0.0655, val_loss=0.1039\n",
      "Phase2 - Epoch 8/15: train_loss=0.0626, val_loss=0.1035\n",
      "Phase2 - Epoch 9/15: train_loss=0.0598, val_loss=0.1027\n",
      "Phase2 - Epoch 10/15: train_loss=0.0572, val_loss=0.1023\n",
      "Phase2 - Epoch 11/15: train_loss=0.0550, val_loss=0.1019\n",
      "Phase2 - Epoch 12/15: train_loss=0.0530, val_loss=0.1019\n",
      "Phase2 - Epoch 13/15: train_loss=0.0512, val_loss=0.1014\n",
      "Phase2 - Epoch 14/15: train_loss=0.0496, val_loss=0.1008\n",
      "Phase2 - Epoch 15/15: train_loss=0.0481, val_loss=0.1010\n",
      "RNN (two-phase) F1: 0.7558513880688664\n"
     ]
    }
   ],
   "source": [
    "X_train_rnn_t = torch.tensor(X_train_seq_cnn, dtype=torch.long).cuda()\n",
    "y_train_rnn_t = torch.tensor(y_train,         dtype=torch.float32).cuda()\n",
    "\n",
    "X_val_rnn_t   = torch.tensor(X_val_seq_cnn,   dtype=torch.long).cuda()\n",
    "y_val_rnn_t   = torch.tensor(y_val,           dtype=torch.float32).cuda()\n",
    "\n",
    "class RNNModel(nn.Module):\n",
    "    def __init__(self, vocab_size=8000, emb_dim=64, hidden_dim=64, num_classes=num_classes):\n",
    "        super().__init__()\n",
    "        self.embedding = nn.Embedding(vocab_size, emb_dim)\n",
    "        self.lstm = nn.LSTM(emb_dim, hidden_dim, batch_first=True)\n",
    "        self.pool = nn.AdaptiveMaxPool1d(1)\n",
    "        self.fc = nn.Linear(hidden_dim, num_classes)\n",
    "    def forward(self, x):\n",
    "        # x- [batch, seq_len]\n",
    "        emb = self.embedding(x)\n",
    "        #output - [batch, seq_len, hidden_dim]\n",
    "        output, (h, c) = self.lstm(emb)  \n",
    "\n",
    "        output = output.permute(0, 2, 1)\n",
    "        pooled = self.pool(output).squeeze(-1)\n",
    "        logits = self.fc(pooled)\n",
    "        return torch.sigmoid(logits)\n",
    "\n",
    "rnn_model = RNNModel().cuda()\n",
    "\n",
    "\n",
    "optimizer_rnn = optim.Adam(rnn_model.parameters(), lr=1e-3)\n",
    "criterion_bce = nn.BCELoss()\n",
    "\n",
    "es_rnn = EarlyStopper(patience=5, restore_best_weights=True, checkpoint_path=\"best_rnn_phase1.pt\")\n",
    "\n",
    "print(\"PHASE 1- bce loss\")\n",
    "\n",
    "epochs_phase1 = 15\n",
    "batch_size = 32\n",
    "\n",
    "for epoch in range(epochs_phase1):\n",
    "    rnn_model.train()\n",
    "    train_loss_accum = 0.0\n",
    "    \n",
    "    # batch gen\n",
    "    perm = torch.randperm(len(X_train_rnn_t))\n",
    "    X_shuf = X_train_rnn_t[perm]\n",
    "    y_shuf = y_train_rnn_t[perm]\n",
    "    \n",
    "    for i in range(0, len(X_shuf), batch_size):\n",
    "        xb = X_shuf[i:i+batch_size]\n",
    "        yb = y_shuf[i:i+batch_size]\n",
    "        optimizer_rnn.zero_grad()\n",
    "        preds = rnn_model(xb)\n",
    "        loss = criterion_bce(preds, yb)\n",
    "        loss.backward()\n",
    "        optimizer_rnn.step()\n",
    "        train_loss_accum += loss.item() * len(xb)\n",
    "    train_loss = train_loss_accum / len(X_train_rnn_t)\n",
    "    \n",
    "    # val\n",
    "    rnn_model.eval()\n",
    "    with torch.no_grad():\n",
    "        val_preds = rnn_model(X_val_rnn_t)\n",
    "        val_loss  = criterion_bce(val_preds, y_val_rnn_t).item()\n",
    "    \n",
    "    print(f\"Phase1 - Epoch {epoch+1}/{epochs_phase1}: train_loss={train_loss:.4f}, val_loss={val_loss:.4f}\")\n",
    "    \n",
    "    stop = es_rnn.check(val_loss, rnn_model)\n",
    "    if stop:\n",
    "        print(\"Early stop Phase1\")\n",
    "        break\n",
    "\n",
    "\n",
    "def dice_loss_torch(y_true, y_pred, eps=1e-7):\n",
    "\n",
    "    numerator = 2.0 * (y_true * y_pred).sum()\n",
    "    denominator = (y_true + y_pred).sum() + eps\n",
    "    return 1.0 - numerator / denominator\n",
    "\n",
    "\n",
    "optimizer_rnn_2 = optim.Adam(rnn_model.parameters(), lr=1e-3)\n",
    "es_rnn2 = EarlyStopper(patience=5, restore_best_weights=True, checkpoint_path=\"best_rnn_model.pt\")\n",
    "\n",
    "history_rnn_2 = HistoryContainer()\n",
    "\n",
    "print(\"PHASE 2- dice_loss\")\n",
    "epochs_phase2 = 15\n",
    "for epoch in range(epochs_phase2):\n",
    "    rnn_model.train()\n",
    "    train_loss_accum = 0.0\n",
    "    \n",
    "    perm = torch.randperm(len(X_train_rnn_t))\n",
    "    X_shuf = X_train_rnn_t[perm]\n",
    "    y_shuf = y_train_rnn_t[perm]\n",
    "    \n",
    "    for i in range(0, len(X_shuf), batch_size):\n",
    "        \n",
    "        \n",
    "        xb = X_shuf[i:i+batch_size]\n",
    "        yb = y_shuf[i:i+batch_size]\n",
    "        optimizer_rnn_2.zero_grad()\n",
    "        preds = rnn_model(xb)\n",
    "        \n",
    "        \n",
    "        loss = dice_loss_torch(yb, preds)\n",
    "        loss.backward()\n",
    "        optimizer_rnn_2.step()\n",
    "        train_loss_accum += loss.item() * len(xb)\n",
    "        \n",
    "    train_loss = train_loss_accum / len(X_train_rnn_t)\n",
    "    \n",
    "    # val\n",
    "    rnn_model.eval()\n",
    "    val_preds = rnn_model(X_val_rnn_t)\n",
    "    val_loss  = dice_loss_torch(y_val_rnn_t, val_preds).item()\n",
    "    \n",
    "    history_rnn_2.history[\"loss\"].append(train_loss)\n",
    "    history_rnn_2.history[\"val_loss\"].append(val_loss)\n",
    "    \n",
    "    print(f\"Phase2 - Epoch {epoch+1}/{epochs_phase2}: train_loss={train_loss:.4f}, val_loss={val_loss:.4f}\")\n",
    "    \n",
    "    if es_rnn2.check(val_loss, rnn_model):\n",
    "        print(\"Early stop Phase2\")\n",
    "        break\n",
    "\n",
    "# Предикт\n",
    "rnn_model.eval()\n",
    "with torch.no_grad():\n",
    "    p_val_rnn = rnn_model(X_val_rnn_t).cpu().numpy()\n",
    "\n",
    "print(\"RNN (two-phase) F1:\", f1_for_val(y_val, p_val_rnn))\n",
    "\n",
    "\n",
    "loss_rnn_2 = history_rnn_2.history[\"loss\"]\n",
    "val_loss_rnn_2 = history_rnn_2.history[\"val_loss\"]"
   ]
  },
  {
   "cell_type": "code",
   "execution_count": 17,
   "metadata": {
    "execution": {
     "iopub.execute_input": "2025-05-18T00:07:47.454071Z",
     "iopub.status.busy": "2025-05-18T00:07:47.453667Z",
     "iopub.status.idle": "2025-05-18T00:07:47.628890Z",
     "shell.execute_reply": "2025-05-18T00:07:47.628260Z",
     "shell.execute_reply.started": "2025-05-18T00:07:47.454042Z"
    }
   },
   "outputs": [
    {
     "data": {
      "image/png": "[encoded data removed]",
      "text/plain": [
       "<Figure size 800x400 with 1 Axes>"
      ]
     },
     "metadata": {},
     "output_type": "display_data"
    }
   ],
   "source": [
    "plt.figure(figsize=(8,4))\n",
    "plt.plot(history_rnn_2.history[\"loss\"], label=\"Train Loss (Phase 2)\")\n",
    "plt.plot(history_rnn_2.history[\"val_loss\"], label=\"Val Loss (Phase 2)\")\n",
    "plt.title(\"RNN Training (Dice Loss phase)\")\n",
    "plt.legend()\n",
    "plt.show()"
   ]
  },
  {
   "cell_type": "markdown",
   "metadata": {},
   "source": [
    "## BERT "
   ]
  },
  {
   "cell_type": "code",
   "execution_count": null,
   "metadata": {},
   "outputs": [],
   "source": [
    "from transformers import BertForSequenceClassification, BertTokenizer\n",
    "from transformers import get_linear_schedule_with_warmup\n",
    "from tqdm.auto import tqdm"
   ]
  },
  {
   "cell_type": "code",
   "execution_count": 18,
   "metadata": {
    "execution": {
     "iopub.execute_input": "2025-05-18T00:10:45.616944Z",
     "iopub.status.busy": "2025-05-18T00:10:45.616137Z",
     "iopub.status.idle": "2025-05-18T00:13:21.668225Z",
     "shell.execute_reply": "2025-05-18T00:13:21.667157Z",
     "shell.execute_reply.started": "2025-05-18T00:10:45.616918Z"
    }
   },
   "outputs": [
    {
     "name": "stderr",
     "output_type": "stream",
     "text": [
      "Some weights of BertForSequenceClassification were not initialized from the model checkpoint at cointegrated/rubert-tiny and are newly initialized: ['classifier.bias', 'classifier.weight']\n",
      "You should probably TRAIN this model on a down-stream task to be able to use it for predictions and inference.\n"
     ]
    },
    {
     "name": "stdout",
     "output_type": "stream",
     "text": [
      "Starting BERT training...\n"
     ]
    },
    {
     "name": "stderr",
     "output_type": "stream",
     "text": [
      "                                                                                     \r"
     ]
    },
    {
     "name": "stdout",
     "output_type": "stream",
     "text": [
      "Epoch 1/15: train_loss=0.4002, val_loss=0.2677\n"
     ]
    },
    {
     "name": "stderr",
     "output_type": "stream",
     "text": [
      "                                                                                     \r"
     ]
    },
    {
     "name": "stdout",
     "output_type": "stream",
     "text": [
      "Epoch 2/15: train_loss=0.2436, val_loss=0.2228\n"
     ]
    },
    {
     "name": "stderr",
     "output_type": "stream",
     "text": [
      "                                                                                     \r"
     ]
    },
    {
     "name": "stdout",
     "output_type": "stream",
     "text": [
      "Epoch 3/15: train_loss=0.2131, val_loss=0.2081\n"
     ]
    },
    {
     "name": "stderr",
     "output_type": "stream",
     "text": [
      "                                                                                     \r"
     ]
    },
    {
     "name": "stdout",
     "output_type": "stream",
     "text": [
      "Epoch 4/15: train_loss=0.1945, val_loss=0.1916\n"
     ]
    },
    {
     "name": "stderr",
     "output_type": "stream",
     "text": [
      "                                                                                     \r"
     ]
    },
    {
     "name": "stdout",
     "output_type": "stream",
     "text": [
      "Epoch 5/15: train_loss=0.1759, val_loss=0.1781\n"
     ]
    },
    {
     "name": "stderr",
     "output_type": "stream",
     "text": [
      "                                                                                     \r"
     ]
    },
    {
     "name": "stdout",
     "output_type": "stream",
     "text": [
      "Epoch 6/15: train_loss=0.1605, val_loss=0.1697\n"
     ]
    },
    {
     "name": "stderr",
     "output_type": "stream",
     "text": [
      "                                                                                     \r"
     ]
    },
    {
     "name": "stdout",
     "output_type": "stream",
     "text": [
      "Epoch 7/15: train_loss=0.1483, val_loss=0.1634\n"
     ]
    },
    {
     "name": "stderr",
     "output_type": "stream",
     "text": [
      "                                                                                     \r"
     ]
    },
    {
     "name": "stdout",
     "output_type": "stream",
     "text": [
      "Epoch 8/15: train_loss=0.1387, val_loss=0.1586\n"
     ]
    },
    {
     "name": "stderr",
     "output_type": "stream",
     "text": [
      "                                                                                     \r"
     ]
    },
    {
     "name": "stdout",
     "output_type": "stream",
     "text": [
      "Epoch 9/15: train_loss=0.1307, val_loss=0.1559\n"
     ]
    },
    {
     "name": "stderr",
     "output_type": "stream",
     "text": [
      "                                                                                      \r"
     ]
    },
    {
     "name": "stdout",
     "output_type": "stream",
     "text": [
      "Epoch 10/15: train_loss=0.1240, val_loss=0.1518\n"
     ]
    },
    {
     "name": "stderr",
     "output_type": "stream",
     "text": [
      "                                                                                      \r"
     ]
    },
    {
     "name": "stdout",
     "output_type": "stream",
     "text": [
      "Epoch 11/15: train_loss=0.1183, val_loss=0.1532\n"
     ]
    },
    {
     "name": "stderr",
     "output_type": "stream",
     "text": [
      "                                                                                      \r"
     ]
    },
    {
     "name": "stdout",
     "output_type": "stream",
     "text": [
      "Epoch 12/15: train_loss=0.1136, val_loss=0.1502\n"
     ]
    },
    {
     "name": "stderr",
     "output_type": "stream",
     "text": [
      "                                                                                      \r"
     ]
    },
    {
     "name": "stdout",
     "output_type": "stream",
     "text": [
      "Epoch 13/15: train_loss=0.1103, val_loss=0.1486\n"
     ]
    },
    {
     "name": "stderr",
     "output_type": "stream",
     "text": [
      "                                                                                      \r"
     ]
    },
    {
     "name": "stdout",
     "output_type": "stream",
     "text": [
      "Epoch 14/15: train_loss=0.1074, val_loss=0.1476\n"
     ]
    },
    {
     "name": "stderr",
     "output_type": "stream",
     "text": [
      "                                                                                      \r"
     ]
    },
    {
     "name": "stdout",
     "output_type": "stream",
     "text": [
      "Epoch 15/15: train_loss=0.1060, val_loss=0.1476\n",
      "BERT model F1: 0.8197419419627072\n"
     ]
    }
   ],
   "source": [
    "\n",
    "\n",
    "def encode_bert_pt(texts, tokenizer, max_len=256):\n",
    "    if hasattr(texts, \"tolist\"):\n",
    "        texts = texts.tolist()\n",
    "    enc = tokenizer(\n",
    "        texts,\n",
    "        padding=True,\n",
    "        truncation=True,\n",
    "        max_length=max_len,\n",
    "        return_tensors=\"pt\"\n",
    "    )\n",
    "    return enc[\"input_ids\"], enc[\"attention_mask\"]\n",
    "\n",
    "bert_name = \"cointegrated/rubert-tiny\"\n",
    "bert_tokenizer = BertTokenizer.from_pretrained(bert_name)\n",
    "\n",
    "bert_model = BertForSequenceClassification.from_pretrained(\n",
    "    bert_name,\n",
    "    num_labels=num_classes,\n",
    "    problem_type=\"multi_label_classification\"\n",
    ").cuda()\n",
    "\n",
    "X_train_bert_ids_pt, X_train_bert_mask_pt = encode_bert_pt(X_train, bert_tokenizer)\n",
    "X_val_bert_ids_pt,   X_val_bert_mask_pt   = encode_bert_pt(X_val,   bert_tokenizer)\n",
    "\n",
    "y_train_bert_t = torch.tensor(y_train, dtype=torch.float32)\n",
    "y_val_bert_t   = torch.tensor(y_val,   dtype=torch.float32)\n",
    "\n",
    "# optimizer и LR warmup\n",
    "optimizer_bert = optim.AdamW(bert_model.parameters(), lr=2e-5)\n",
    "epochs = 15\n",
    "batch_size = 4\n",
    "\n",
    "train_size = len(X_train_bert_ids_pt)\n",
    "total_steps = train_size // batch_size * epochs\n",
    "warmup_steps = (train_size // batch_size) * 1\n",
    "scheduler_bert = get_linear_schedule_with_warmup(\n",
    "    optimizer_bert, \n",
    "    num_warmup_steps=warmup_steps, \n",
    "    num_training_steps=total_steps\n",
    ")\n",
    "\n",
    "criterion = nn.BCEWithLogitsLoss()\n",
    "\n",
    "history_bert = HistoryContainer()\n",
    "es_bert = EarlyStopper(patience=3, restore_best_weights=True, checkpoint_path=\"best_bert_model.pt\")\n",
    "\n",
    "def bert_batch_gen(X_ids, X_mask, Y, bs=4):\n",
    "    perm = torch.randperm(len(X_ids))\n",
    "    X_ids = X_ids[perm]\n",
    "    X_mask= X_mask[perm]\n",
    "    Y     = Y[perm]\n",
    "    for i in range(0, len(X_ids), bs):\n",
    "        yield X_ids[i:i+bs], X_mask[i:i+bs], Y[i:i+bs]\n",
    "\n",
    "print(\"Starting BERT training...\")\n",
    "\n",
    "for epoch in range(epochs):\n",
    "    # TRAIN\n",
    "    bert_model.train()\n",
    "    train_loss_accum = 0.0\n",
    "\n",
    "    loop = tqdm(\n",
    "        bert_batch_gen(X_train_bert_ids_pt, X_train_bert_mask_pt, y_train_bert_t, batch_size),\n",
    "        total=(len(X_train_bert_ids_pt) // batch_size),\n",
    "        desc=f\"Epoch {epoch+1}/{epochs}\",          # подпись слева\n",
    "        unit=\"batch\",                              # единица измерения\n",
    "        leave=False                                # не оставлять прогресс после завершения\n",
    "    )\n",
    "    for xb_ids, xb_mask, yb in loop:\n",
    "        xb_ids  = xb_ids.cuda()\n",
    "        xb_mask = xb_mask.cuda()\n",
    "        yb      = yb.cuda()\n",
    "\n",
    "        optimizer_bert.zero_grad()\n",
    "        outputs = bert_model(input_ids=xb_ids, attention_mask=xb_mask)\n",
    "        logits = outputs.logits\n",
    "        loss = criterion(logits, yb)\n",
    "        loss.backward()\n",
    "        optimizer_bert.step()\n",
    "        scheduler_bert.step()\n",
    "\n",
    "        train_loss_accum += loss.item() * xb_ids.size(0)\n",
    "\n",
    "\n",
    "        loop.set_postfix(train_loss=train_loss_accum / ((loop.n + 1) * batch_size))\n",
    "\n",
    "    train_loss = train_loss_accum / len(X_train_bert_ids_pt)\n",
    "\n",
    "    # val\n",
    "    bert_model.eval()\n",
    "    with torch.no_grad():\n",
    "        val_out = bert_model(\n",
    "            input_ids=X_val_bert_ids_pt.cuda(),\n",
    "            attention_mask=X_val_bert_mask_pt.cuda()\n",
    "        )\n",
    "        val_logits = val_out.logits\n",
    "        val_loss = criterion(val_logits, y_val_bert_t.cuda()).item()\n",
    "\n",
    "    history_bert.history[\"loss\"].append(train_loss)\n",
    "    history_bert.history[\"val_loss\"].append(val_loss)\n",
    "    print(f\"Epoch {epoch+1}/{epochs}: train_loss={train_loss:.4f}, val_loss={val_loss:.4f}\")\n",
    "\n",
    "    if es_bert.check(val_loss, bert_model):\n",
    "        print(\"Early stop for BERT!\")\n",
    "        break\n",
    "\n",
    "# предикт\n",
    "bert_model.eval()\n",
    "with torch.no_grad():\n",
    "    val_out = bert_model(\n",
    "        input_ids=X_val_bert_ids_pt.cuda(),\n",
    "        attention_mask=X_val_bert_mask_pt.cuda()\n",
    "    )\n",
    "    val_logits = val_out.logits\n",
    "    # сигмоида\n",
    "    p_val_bert = torch.sigmoid(val_logits).cpu().numpy()\n",
    "\n",
    "print(\"BERT model F1:\", f1_for_val(y_val, p_val_bert))\n",
    "\n",
    "loss_bert = history_bert.history[\"loss\"]\n",
    "val_loss_bert = history_bert.history[\"val_loss\"]"
   ]
  },
  {
   "cell_type": "code",
   "execution_count": 21,
   "metadata": {},
   "outputs": [],
   "source": [
    "1"
   ]
  },
  {
   "cell_type": "code",
   "execution_count": 19,
   "metadata": {
    "execution": {
     "iopub.execute_input": "2025-05-17T17:16:53.791042Z",
     "iopub.status.busy": "2025-05-17T17:16:53.790306Z",
     "iopub.status.idle": "2025-05-17T17:16:53.952154Z",
     "shell.execute_reply": "2025-05-17T17:16:53.951231Z",
     "shell.execute_reply.started": "2025-05-17T17:16:53.791010Z"
    }
   },
   "outputs": [
    {
     "data": {
      "image/png": "[encoded data removed]",
      "text/plain": [
       "<Figure size 800x400 with 1 Axes>"
      ]
     },
     "metadata": {},
     "output_type": "display_data"
    }
   ],
   "source": [
    "plt.figure(figsize=(8,4))\n",
    "plt.plot(history_bert.history[\"loss\"], label=\"Train Loss\")\n",
    "plt.plot(history_bert.history[\"val_loss\"], label=\"Val Loss\")\n",
    "plt.title(\"BERT Training\")\n",
    "plt.legend()\n",
    "plt.show()"
   ]
  },
  {
   "cell_type": "markdown",
   "metadata": {},
   "source": [
    "## Сравнение результатов"
   ]
  },
  {
   "cell_type": "code",
   "execution_count": 45,
   "metadata": {
    "execution": {
     "iopub.execute_input": "2025-05-17T17:16:58.067047Z",
     "iopub.status.busy": "2025-05-17T17:16:58.066464Z",
     "iopub.status.idle": "2025-05-17T17:16:58.283924Z",
     "shell.execute_reply": "2025-05-17T17:16:58.283226Z",
     "shell.execute_reply.started": "2025-05-17T17:16:58.067019Z"
    }
   },
   "outputs": [
    {
     "name": "stdout",
     "output_type": "stream",
     "text": [
      "TF-IDF + NN F1= 0.8259750974436966\n",
      "W2V + NN F1= 0.7558069572931083\n",
      "CNN F1= 0.7659964636331086\n",
      "RNN (2-phase) F1= 0.7558513880688664\n",
      "BERT F1= 0.8197419419627072\n"
     ]
    }
   ],
   "source": [
    "results = {}\n",
    "results[\"TF-IDF + NN\"] = f1_for_val(y_val, p_val_tfidf)\n",
    "results[\"W2V + NN\"]    = f1_for_val(y_val, p_val_w2v)\n",
    "results[\"CNN\"]         = f1_for_val(y_val, p_val_cnn)\n",
    "results[\"RNN (2-phase)\"]= f1_for_val(y_val, p_val_rnn)\n",
    "results[\"BERT\"]        = f1_for_val(y_val, p_val_bert)\n",
    "\n",
    "for k,v in results.items():\n",
    "    print(k, \"F1=\", v)"
   ]
  },
  {
   "cell_type": "markdown",
   "metadata": {},
   "source": [
    "## Генерация синтетики"
   ]
  },
  {
   "cell_type": "code",
   "execution_count": 24,
   "metadata": {
    "execution": {
     "iopub.execute_input": "2025-05-17T17:17:01.783100Z",
     "iopub.status.busy": "2025-05-17T17:17:01.782784Z",
     "iopub.status.idle": "2025-05-17T17:18:00.140133Z",
     "shell.execute_reply": "2025-05-17T17:18:00.139421Z",
     "shell.execute_reply.started": "2025-05-17T17:17:01.783077Z"
    }
   },
   "outputs": [
    {
     "name": "stderr",
     "output_type": "stream",
     "text": [
      "Device set to use cuda:0\n",
      "Truncation was not explicitly activated but `max_length` is provided a specific value, please use `truncation=True` to explicitly truncate examples to max length. Defaulting to 'longest_first' truncation strategy. If you encode pairs of sequences (GLUE-style) with the tokenizer you can select this strategy more precisely by providing a specific strategy to `truncation`.\n"
     ]
    },
    {
     "name": "stdout",
     "output_type": "stream",
     "text": [
      "размер: 24654\n"
     ]
    }
   ],
   "source": [
    "generator = pipeline(\n",
    "    \"text-generation\",\n",
    "    model=\"sberbank-ai/rugpt3small_based_on_gpt2\",\n",
    "    tokenizer=\"sberbank-ai/rugpt3small_based_on_gpt2\",\n",
    "    device=0\n",
    ")\n",
    "\n",
    "np.random.seed(42)\n",
    "n_synthetic = 1000\n",
    "\n",
    "original_indices = np.random.choice(len(X_train), size=n_synthetic, replace=True)\n",
    "synthetic_texts = []\n",
    "synthetic_labels = []\n",
    "\n",
    "for idx in original_indices:\n",
    "    # массив меток\n",
    "    base_lbl = y_train[idx]\n",
    "    \n",
    "    # делаем строку для промпта\n",
    "    lbl_str = \" \".join(map(str, base_lbl))\n",
    "    \n",
    "    prompt = (\n",
    "        f\"Метки: {lbl_str}. \"\n",
    "        f\"Напиши короткий связный текст по-русски (2-3 предложения) на эту тему:\\n\"\n",
    "    )\n",
    "    \n",
    "    # генерация\n",
    "    out = generator(\n",
    "        prompt,\n",
    "        max_length=50,\n",
    "        num_return_sequences=1,\n",
    "        do_sample=True,\n",
    "        top_k=50,\n",
    "        top_p=0.95\n",
    "    )\n",
    "    \n",
    "    # берем сгенерированный текст\n",
    "    gen_text = out[0][\"generated_text\"]\n",
    "    \n",
    "    \n",
    "    \n",
    "    synthetic_texts.append(gen_text)\n",
    "    synthetic_labels.append(base_lbl)\n",
    "\n",
    "# собираем в df\n",
    "synthetic_df = pd.DataFrame({\"text\": synthetic_texts})\n",
    "synthetic_df[\"clean_text\"] = synthetic_df[\"text\"].apply(clean_text)\n",
    "synthetic_y = np.array(synthetic_labels)\n",
    "\n",
    "# соединяем с нашими данными\n",
    "aug_X = pd.concat([X_train, synthetic_df[\"clean_text\"]], ignore_index=True)\n",
    "aug_y = np.concatenate([y_train, synthetic_y], axis=0)\n",
    "\n",
    "print(\"размер:\", len(aug_X))"
   ]
  },
  {
   "cell_type": "code",
   "execution_count": 25,
   "metadata": {
    "execution": {
     "iopub.execute_input": "2025-05-17T17:18:00.142296Z",
     "iopub.status.busy": "2025-05-17T17:18:00.141443Z",
     "iopub.status.idle": "2025-05-17T17:18:00.166172Z",
     "shell.execute_reply": "2025-05-17T17:18:00.165468Z",
     "shell.execute_reply.started": "2025-05-17T17:18:00.142274Z"
    }
   },
   "outputs": [],
   "source": [
    "#сохраняем сгенерированные данные\n",
    "label_str_list = [\" \".join(map(str, row)) for row in synthetic_y]\n",
    "\n",
    "synthetic_df[\"labels\"] = label_str_list\n",
    "\n",
    "synthetic_df.to_csv(\"synthetic_data.csv\", index=False, encoding=\"utf-8\")\n"
   ]
  },
  {
   "cell_type": "markdown",
   "metadata": {},
   "source": [
    "## Дообучение RNN c синтетическими"
   ]
  },
  {
   "cell_type": "code",
   "execution_count": 31,
   "metadata": {
    "execution": {
     "iopub.execute_input": "2025-05-17T17:18:05.654777Z",
     "iopub.status.busy": "2025-05-17T17:18:05.654276Z",
     "iopub.status.idle": "2025-05-17T17:19:17.490375Z",
     "shell.execute_reply": "2025-05-17T17:19:17.489645Z",
     "shell.execute_reply.started": "2025-05-17T17:18:05.654754Z"
    }
   },
   "outputs": [
    {
     "name": "stdout",
     "output_type": "stream",
     "text": [
      "[Epoch 1/15] aug_train_loss=0.2655\n",
      "[Epoch 2/15] aug_train_loss=0.1812\n",
      "[Epoch 3/15] aug_train_loss=0.1573\n",
      "[Epoch 4/15] aug_train_loss=0.1437\n",
      "[Epoch 5/15] aug_train_loss=0.1336\n",
      "[Epoch 6/15] aug_train_loss=0.1258\n",
      "[Epoch 7/15] aug_train_loss=0.1195\n",
      "[Epoch 8/15] aug_train_loss=0.1142\n",
      "[Epoch 9/15] aug_train_loss=0.1086\n",
      "[Epoch 10/15] aug_train_loss=0.1040\n",
      "[Epoch 11/15] aug_train_loss=0.0997\n",
      "[Epoch 12/15] aug_train_loss=0.0953\n",
      "[Epoch 13/15] aug_train_loss=0.0917\n",
      "[Epoch 14/15] aug_train_loss=0.0882\n",
      "[Epoch 15/15] aug_train_loss=0.0847\n"
     ]
    }
   ],
   "source": [
    "# перетокенизируем\n",
    "aug_seq = seq_prepare(aug_X)\n",
    "# тот же seq_prepare\n",
    "aug_seq_t = torch.tensor(aug_seq, dtype=torch.long).cuda()\n",
    "aug_y_t   = torch.tensor(aug_y,   dtype=torch.float32).cuda()\n",
    "\n",
    "\n",
    "\n",
    "rnn_model_aug = RNNModel(\n",
    "    vocab_size=vocab_size,\n",
    "    emb_dim=64,\n",
    "    hidden_dim=64,\n",
    "    num_classes=num_classes\n",
    ").cuda()\n",
    "\n",
    "# дообучаем, подгружаем\n",
    "rnn_model_aug.load_state_dict(torch.load(\"best_rnn_model.pt\"))\n",
    "\n",
    "optimizer_aug = torch.optim.Adam(rnn_model_aug.parameters(), lr=1e-3)\n",
    "criterion_aug = nn.BCELoss()\n",
    "\n",
    "cb_rnn_aug = EarlyStopper(patience=1, restore_best_weights=True, checkpoint_path=\"best_rnn_aug_model.pt\")\n",
    "\n",
    "\n",
    "epochs_aug = 15\n",
    "batch_size = 32\n",
    "\n",
    "def aug_batch_gen(X, Y, bs=32):\n",
    "    perm = torch.randperm(len(X))\n",
    "    X = X[perm]\n",
    "    Y = Y[perm]\n",
    "    for i in range(0, len(X), bs):\n",
    "        yield X[i:i+bs], Y[i:i+bs]\n",
    "\n",
    "for epoch in range(epochs_aug):\n",
    "    rnn_model_aug.train()\n",
    "    train_loss_accum = 0.0\n",
    "    \n",
    "    for xb, yb in aug_batch_gen(aug_seq_t, aug_y_t, batch_size):\n",
    "        optimizer_aug.zero_grad()\n",
    "        preds = rnn_model_aug(xb)\n",
    "        loss = criterion_aug(preds, yb)\n",
    "        loss.backward()\n",
    "        optimizer_aug.step()\n",
    "        train_loss_accum += loss.item() * len(xb)\n",
    "    train_loss = train_loss_accum / len(aug_seq_t)\n",
    "    \n",
    "    print(f\"[Epoch {epoch+1}/{epochs_aug}] aug_train_loss={train_loss:.4f}\")\n",
    "    \n",
    "    # ранняя ост.\n",
    "    stopped = cb_rnn_aug.check(train_loss, rnn_model_aug)\n",
    "    if stopped:\n",
    "        print(\"EarlyStopping сработал на синтетике!\")\n",
    "        break\n",
    "\n",
    "# загружаем веса\n",
    "rnn_model_aug.load_state_dict(torch.load(\"best_rnn_aug_model.pt\"))\n",
    "rnn_model_aug.eval()\n",
    "\n",
    "# оценка на вал\n",
    "X_val_seq_cnn_t = torch.tensor(X_val_seq_cnn, dtype=torch.long).cuda()\n",
    "with torch.no_grad():\n",
    "    p_val_rnn_aug_t = rnn_model_aug(X_val_seq_cnn_t).cpu().numpy()\n"
   ]
  },
  {
   "cell_type": "code",
   "execution_count": 33,
   "metadata": {},
   "outputs": [
    {
     "name": "stdout",
     "output_type": "stream",
     "text": [
      "RNN AUG F1 на валидации: 0.7702856730368529\n",
      "До генерации: RNN F1=0.7559, после=0.7703\n",
      "Качество улучшилось после добавления синт. данных\n"
     ]
    }
   ],
   "source": [
    "# оценка\n",
    "p_val_rnn_aug = p_val_rnn_aug_t\n",
    "\n",
    "print(\"RNN AUG F1 на валидации:\", f1_for_val(y_val, p_val_rnn_aug))\n",
    "\n",
    "# Сравнение\n",
    "f1_before = f1_for_val(y_val, p_val_rnn)\n",
    "f1_after  = f1_for_val(y_val, p_val_rnn_aug)\n",
    "print(f\"До генерации: RNN F1={f1_before:.4f}, после={f1_after:.4f}\")\n",
    "if f1_after>f1_before:\n",
    "    print(\"Качество улучшилось после добавления синт. данных\")\n",
    "else:\n",
    "    print(\"Качество не улучшилось или ухудшилось\")"
   ]
  },
  {
   "cell_type": "markdown",
   "metadata": {},
   "source": [
    "### Анализ результатов с синтетическими данными\n",
    "\n",
    "Мы добавили 1000 синтетически сгенерированных примеров при помощи `sberbank-ai/rugpt3small_based_on_gpt2`.  \n",
    "- **До генерации**: качество (F1 на валидации) было ~`0.7559`.  \n",
    "- **После добавления**: качество стало ~`0.7703`.  \n",
    "\n",
    "сгенерированные тексты стали дополнительным источником вариативности и помогли сбалансировать/обогатить обучающую выборку. \n"
   ]
  },
  {
   "cell_type": "markdown",
   "metadata": {},
   "source": [
    "## ансамбль"
   ]
  },
  {
   "cell_type": "code",
   "execution_count": 46,
   "metadata": {
    "execution": {
     "iopub.execute_input": "2025-05-17T17:19:17.492551Z",
     "iopub.status.busy": "2025-05-17T17:19:17.491731Z",
     "iopub.status.idle": "2025-05-17T17:19:17.518336Z",
     "shell.execute_reply": "2025-05-17T17:19:17.517588Z",
     "shell.execute_reply.started": "2025-05-17T17:19:17.492530Z"
    }
   },
   "outputs": [
    {
     "name": "stdout",
     "output_type": "stream",
     "text": [
      "F1= 0.7947720143378498\n",
      "\n",
      "Все F1 на валидации:\n",
      "  TF-IDF + NN: F1=0.8260\n",
      "  W2V + NN: F1=0.7558\n",
      "  CNN: F1=0.7660\n",
      "  RNN (2-phase): F1=0.7559\n",
      "  BERT: F1=0.8197\n",
      "  ENSEMBLE: F1=0.7948\n",
      "\n",
      "Best model or ensemble on val: TF-IDF + NN (F1=0.8260)\n"
     ]
    }
   ],
   "source": [
    "ensemble_val = (p_val_tfidf + p_val_w2v + p_val_cnn + p_val_rnn + p_val_bert) / 5.0\n",
    "f1_ensemble = f1_for_val(y_val, ensemble_val)\n",
    "print(\"F1=\", f1_ensemble)\n",
    "\n",
    "results[\"ENSEMBLE\"] = f1_ensemble\n",
    "\n",
    "best_model_name = None\n",
    "best_val_f1 = -1\n",
    "for name, val_f1 in results.items():\n",
    "    if val_f1 > best_val_f1:\n",
    "        best_val_f1 = val_f1\n",
    "        best_model_name = name\n",
    "\n",
    "print(\"\\nВсе F1 на валидации:\")\n",
    "for k, v in results.items():\n",
    "    print(f\"  {k}: F1={v:.4f}\")\n",
    "print(f\"\\nBest model or ensemble on val: {best_model_name} (F1={best_val_f1:.4f})\")"
   ]
  },
  {
   "cell_type": "code",
   "execution_count": 47,
   "metadata": {},
   "outputs": [],
   "source": [
    "# предикты tf idf\n",
    "X_test_tfidf_t = torch.tensor(X_test_tfidf, dtype=torch.float32).cuda()\n",
    "tfidf_model.eval()\n",
    "with torch.no_grad():\n",
    "    p_test_tfidf_t = tfidf_model(X_test_tfidf_t).cpu().numpy()\n",
    "p_test_tfidf = p_test_tfidf_t\n",
    "\n",
    "#w2v\n",
    "X_test_w2v_t = torch.tensor(X_test_w2v, dtype=torch.float32).cuda()\n",
    "w2v_nn_model.eval()\n",
    "with torch.no_grad():\n",
    "    p_test_w2v_t = w2v_nn_model(X_test_w2v_t).cpu().numpy()\n",
    "p_test_w2v = p_test_w2v_t\n",
    "\n",
    "# cnn\n",
    "X_test_seq_cnn_t = torch.tensor(X_test_seq_cnn, dtype=torch.long).cuda()\n",
    "cnn_model.eval()\n",
    "with torch.no_grad():\n",
    "    p_test_cnn_t = cnn_model(X_test_seq_cnn_t).cpu().numpy()\n",
    "p_test_cnn = p_test_cnn_t\n",
    "\n",
    "#rnn (two-phase)\n",
    "rnn_model.eval()\n",
    "with torch.no_grad():\n",
    "    p_test_rnn_t = rnn_model(X_test_seq_cnn_t).cpu().numpy()\n",
    "p_test_rnn = p_test_rnn_t\n",
    "\n",
    "# bert\n",
    "test_ids_bert_pt, test_mask_bert_pt = encode_bert_pt(test_df[\"clean_text\"], bert_tokenizer, max_len=64)\n",
    "test_ids_bert_pt  = test_ids_bert_pt.cuda()\n",
    "test_mask_bert_pt = test_mask_bert_pt.cuda()\n",
    "\n",
    "bert_model.eval()\n",
    "with torch.no_grad():\n",
    "    test_logits_bert = bert_model(input_ids=test_ids_bert_pt, attention_mask=test_mask_bert_pt).logits\n",
    "p_test_bert = torch.sigmoid(test_logits_bert).cpu().numpy()"
   ]
  },
  {
   "cell_type": "code",
   "execution_count": 48,
   "metadata": {
    "execution": {
     "iopub.execute_input": "2025-05-17T17:19:23.043938Z",
     "iopub.status.busy": "2025-05-17T17:19:23.043343Z",
     "iopub.status.idle": "2025-05-17T17:19:40.847082Z",
     "shell.execute_reply": "2025-05-17T17:19:40.846244Z",
     "shell.execute_reply.started": "2025-05-17T17:19:23.043912Z"
    }
   },
   "outputs": [],
   "source": [
    "if best_model_name == \"ENSEMBLE\":\n",
    "    p_test_ensemble = (p_test_tfidf +p_test_w2v +p_test_cnn +p_test_rnn +p_test_bert) / 5.0\n",
    "    final_test_pred = p_test_ensemble\n",
    "elif best_model_name == \"BERT\":\n",
    "    final_test_pred = p_test_bert\n",
    "elif best_model_name == \"RNN (2-phase)\":\n",
    "    final_test_pred = p_test_rnn\n",
    "elif best_model_name == \"CNN\":\n",
    "    final_test_pred = p_test_cnn\n",
    "elif best_model_name == \"W2V + NN\":\n",
    "    final_test_pred = p_test_w2v\n",
    "else:\n",
    "    final_test_pred = p_test_tfidf"
   ]
  },
  {
   "cell_type": "code",
   "execution_count": 49,
   "metadata": {},
   "outputs": [
    {
     "name": "stdout",
     "output_type": "stream",
     "text": [
      "Сабмит 'submission.csv' сохранен, выбрана модель: TF-IDF + NN (F1=0.8260)\n"
     ]
    }
   ],
   "source": [
    "p_test_bin = (final_test_pred > 0.5).astype(int)\n",
    "\n",
    "# собираем submission\n",
    "submission_list = []\n",
    "for idx_val, row_pred in zip(test_df[\"id\"], p_test_bin):\n",
    "    row_str = \" \".join(map(str, row_pred))\n",
    "    submission_list.append((idx_val, row_str))\n",
    "\n",
    "sub_df = pd.DataFrame(submission_list, columns=[\"id\",\"labels\"])\n",
    "sub_df.to_csv(\"submission.csv\", index=False)\n",
    "print(f\"Сабмит 'submission.csv' сохранен, выбрана модель: {best_model_name} (F1={best_val_f1:.4f})\")"
   ]
  },
  {
   "cell_type": "code",
   "execution_count": null,
   "metadata": {},
   "outputs": [],
   "source": []
  }
 ],
 "metadata": {
  "kaggle": {
   "accelerator": "gpu",
   "dataSources": [
    {
     "datasetId": 7439098,
     "sourceId": 11840236,
     "sourceType": "datasetVersion"
    }
   ],
   "dockerImageVersionId": 31041,
   "isGpuEnabled": true,
   "isInternetEnabled": true,
   "language": "python",
   "sourceType": "notebook"
  },
  "kernelspec": {
   "display_name": "Python 3 (ipykernel)",
   "language": "python",
   "name": "python3"
  },
  "language_info": {
   "codemirror_mode": {
    "name": "ipython",
    "version": 3
   },
   "file_extension": ".py",
   "mimetype": "text/x-python",
   "name": "python",
   "nbconvert_exporter": "python",
   "pygments_lexer": "ipython3",
   "version": "3.10.12"
  }
 },
 "nbformat": 4,
 "nbformat_minor": 4
}
