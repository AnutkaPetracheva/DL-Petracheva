{
  "cells": [
    {
      "cell_type": "code",
      "metadata": {
        "id": "3MeKai5Xj6eX",
        "ExecuteTime": {
          "end_time": "2025-03-29T17:47:18.933256Z",
          "start_time": "2025-03-29T17:47:18.931523Z"
        }
      },
      "source": [
        "import numpy as np"
      ],
      "outputs": [],
      "execution_count": 1
    },
    {
      "cell_type": "markdown",
      "metadata": {
        "id": "wwlFrG-Tj6eY"
      },
      "source": [
        "**Module** is an abstract class which defines fundamental methods necessary for a training a neural network. You do not need to change anything here, just read the comments."
      ]
    },
    {
      "metadata": {
        "id": "b20Y2ksZUlbo"
      },
      "cell_type": "code",
      "outputs": [],
      "execution_count": 1,
      "source": []
    },
    {
      "cell_type": "code",
      "metadata": {
        "id": "W8BLmtZ3j6eZ",
        "ExecuteTime": {
          "end_time": "2025-03-29T17:47:20.501457Z",
          "start_time": "2025-03-29T17:47:20.497337Z"
        }
      },
      "source": [
        "class Module(object):\n",
        "    \"\"\"\n",
        "    Basically, you can think of a module as of a something (black box)\n",
        "    which can process `input` data and produce `ouput` data.\n",
        "    This is like applying a function which is called `forward`:\n",
        "\n",
        "        output = module.forward(input)\n",
        "\n",
        "    The module should be able to perform a backward pass: to differentiate the `forward` function.\n",
        "    More, it should be able to differentiate it if is a part of chain (chain rule).\n",
        "    The latter implies there is a gradient from previous step of a chain rule.\n",
        "\n",
        "        gradInput = module.backward(input, gradOutput)\n",
        "    \"\"\"\n",
        "    def __init__ (self):\n",
        "        self.output = None\n",
        "        self.gradInput = None\n",
        "        self.training = True\n",
        "\n",
        "    def forward(self, input):\n",
        "        \"\"\"\n",
        "        Takes an input object, and computes the corresponding output of the module.\n",
        "        \"\"\"\n",
        "        return self.updateOutput(input)\n",
        "\n",
        "    def backward(self,input, gradOutput):\n",
        "        \"\"\"\n",
        "        Performs a backpropagation step through the module, with respect to the given input.\n",
        "\n",
        "        This includes\n",
        "         - computing a gradient w.r.t. `input` (is needed for further backprop),\n",
        "         - computing a gradient w.r.t. parameters (to update parameters while optimizing).\n",
        "        \"\"\"\n",
        "        self.updateGradInput(input, gradOutput)\n",
        "        self.accGradParameters(input, gradOutput)\n",
        "        return self.gradInput\n",
        "\n",
        "\n",
        "    def updateOutput(self, input):\n",
        "        \"\"\"\n",
        "        Computes the output using the current parameter set of the class and input.\n",
        "        This function returns the result which is stored in the `output` field.\n",
        "\n",
        "        Make sure to both store the data in `output` field and return it.\n",
        "        \"\"\"\n",
        "\n",
        "        # The easiest case:\n",
        "\n",
        "        # self.output = input\n",
        "        # return self.output\n",
        "\n",
        "        pass\n",
        "\n",
        "    def updateGradInput(self, input, gradOutput):\n",
        "        \"\"\"\n",
        "        Computing the gradient of the module with respect to its own input.\n",
        "        This is returned in `gradInput`. Also, the `gradInput` state variable is updated accordingly.\n",
        "\n",
        "        The shape of `gradInput` is always the same as the shape of `input`.\n",
        "\n",
        "        Make sure to both store the gradients in `gradInput` field and return it.\n",
        "        \"\"\"\n",
        "\n",
        "        # The easiest case:\n",
        "\n",
        "        # self.gradInput = gradOutput\n",
        "        # return self.gradInput\n",
        "\n",
        "        pass\n",
        "\n",
        "    def accGradParameters(self, input, gradOutput):\n",
        "        \"\"\"\n",
        "        Computing the gradient of the module with respect to its own parameters.\n",
        "        No need to override if module has no parameters (e.g. ReLU).\n",
        "        \"\"\"\n",
        "        pass\n",
        "\n",
        "    def zeroGradParameters(self):\n",
        "        \"\"\"\n",
        "        Zeroes `gradParams` variable if the module has params.\n",
        "        \"\"\"\n",
        "        pass\n",
        "\n",
        "    def getParameters(self):\n",
        "        \"\"\"\n",
        "        Returns a list with its parameters.\n",
        "        If the module does not have parameters return empty list.\n",
        "        \"\"\"\n",
        "        return []\n",
        "\n",
        "    def getGradParameters(self):\n",
        "        \"\"\"\n",
        "        Returns a list with gradients with respect to its parameters.\n",
        "        If the module does not have parameters return empty list.\n",
        "        \"\"\"\n",
        "        return []\n",
        "\n",
        "    def train(self):\n",
        "        \"\"\"\n",
        "        Sets training mode for the module.\n",
        "        Training and testing behaviour differs for Dropout, BatchNorm.\n",
        "        \"\"\"\n",
        "        self.training = True\n",
        "\n",
        "    def evaluate(self):\n",
        "        \"\"\"\n",
        "        Sets evaluation mode for the module.\n",
        "        Training and testing behaviour differs for Dropout, BatchNorm.\n",
        "        \"\"\"\n",
        "        self.training = False\n",
        "\n",
        "    def __repr__(self):\n",
        "        \"\"\"\n",
        "        Pretty printing. Should be overrided in every module if you want\n",
        "        to have readable description.\n",
        "        \"\"\"\n",
        "        return \"Module\""
      ],
      "outputs": [],
      "execution_count": 2
    },
    {
      "cell_type": "markdown",
      "metadata": {
        "id": "mKRkIjT8j6eZ"
      },
      "source": [
        "# Sequential container"
      ]
    },
    {
      "cell_type": "markdown",
      "metadata": {
        "id": "Cb98PPpJj6ea"
      },
      "source": [
        "**Define** a forward and backward pass procedures."
      ]
    },
    {
      "cell_type": "code",
      "metadata": {
        "id": "7y2lav4dj6ea",
        "ExecuteTime": {
          "end_time": "2025-03-29T19:21:14.066926Z",
          "start_time": "2025-03-29T19:21:14.063419Z"
        }
      },
      "source": [
        "class Sequential(Module):\n",
        "    \"\"\"\n",
        "         This class implements a container, which processes `input` data sequentially.\n",
        "\n",
        "         `input` is processed by each module (layer) in self.modules consecutively.\n",
        "         The resulting array is called `output`.\n",
        "    \"\"\"\n",
        "\n",
        "    def __init__ (self):\n",
        "        super(Sequential, self).__init__()\n",
        "        self.modules = []\n",
        "\n",
        "    def add(self, module):\n",
        "        \"\"\"\n",
        "        Adds a module to the container.\n",
        "        \"\"\"\n",
        "        self.modules.append(module)\n",
        "\n",
        "    def updateOutput(self, input):\n",
        "        \"\"\"\n",
        "        Basic workflow of FORWARD PASS:\n",
        "\n",
        "            y_0    = module[0].forward(input)\n",
        "            y_1    = module[1].forward(y_0)\n",
        "            ...\n",
        "            output = module[n-1].forward(y_{n-2})\n",
        "\n",
        "\n",
        "        Just write a little loop.\n",
        "        \"\"\"\n",
        "\n",
        "        # Your code goes here. ################################################\n",
        "        self.x = [input]\n",
        "        for i in range(len(self.modules)):\n",
        "            out = self.modules[i].updateOutput(self.x[-1])  # <-- вместо forward()\n",
        "            self.x.append(out)\n",
        "        self.output = self.x[-1]\n",
        "        return self.output\n",
        "\n",
        "    def backward(self, input, gradOutput):\n",
        "        \"\"\"\n",
        "        Workflow of BACKWARD PASS:\n",
        "\n",
        "            g_{n-1} = module[n-1].backward(y_{n-2}, gradOutput)\n",
        "            g_{n-2} = module[n-2].backward(y_{n-3}, g_{n-1})\n",
        "            ...\n",
        "            g_1 = module[1].backward(y_0, g_2)\n",
        "            gradInput = module[0].backward(input, g_1)\n",
        "\n",
        "\n",
        "        !!!\n",
        "\n",
        "        To ech module you need to provide the input, module saw while forward pass,\n",
        "        it is used while computing gradients.\n",
        "        Make sure that the input for `i-th` layer the output of `module[i]` (just the same input as in forward pass)\n",
        "        and NOT `input` to this Sequential module.\n",
        "\n",
        "        !!!\n",
        "\n",
        "        \"\"\"\n",
        "        # Your code goes here. ################################################\n",
        "        self.gradInput = gradOutput\n",
        "        for i in reversed(range(len(self.modules))):\n",
        "            self.gradInput = self.modules[i].backward(self.x[i], self.gradInput)\n",
        "        return self.gradInput\n",
        "\n",
        "\n",
        "    def zeroGradParameters(self):\n",
        "        for module in self.modules:\n",
        "            module.zeroGradParameters()\n",
        "\n",
        "    def getParameters(self):\n",
        "        \"\"\"\n",
        "        Should gather all parameters in a list.\n",
        "        \"\"\"\n",
        "        return [x.getParameters() for x in self.modules]\n",
        "\n",
        "    def getGradParameters(self):\n",
        "        \"\"\"\n",
        "        Should gather all gradients w.r.t parameters in a list.\n",
        "        \"\"\"\n",
        "        return [x.getGradParameters() for x in self.modules]\n",
        "\n",
        "    def __repr__(self):\n",
        "        string = \"\".join([str(x) + '\\n' for x in self.modules])\n",
        "        return string\n",
        "\n",
        "    def __getitem__(self,x):\n",
        "        return self.modules.__getitem__(x)\n",
        "\n",
        "    def train(self):\n",
        "        \"\"\"\n",
        "        Propagates training parameter through all modules\n",
        "        \"\"\"\n",
        "        self.training = True\n",
        "        for module in self.modules:\n",
        "            module.train()\n",
        "\n",
        "    def evaluate(self):\n",
        "        \"\"\"\n",
        "        Propagates training parameter through all modules\n",
        "        \"\"\"\n",
        "        self.training = False\n",
        "        for module in self.modules:\n",
        "            module.evaluate()"
      ],
      "outputs": [],
      "execution_count": 3
    },
    {
      "cell_type": "markdown",
      "metadata": {
        "id": "zfXdYfO4j6ea"
      },
      "source": [
        "# Layers"
      ]
    },
    {
      "cell_type": "markdown",
      "metadata": {
        "id": "ZuwvBkuNj6ea"
      },
      "source": [
        "## 1 (0.2). Linear transform layer\n",
        "Also known as dense layer, fully-connected layer, FC-layer, InnerProductLayer (in caffe), affine transform\n",
        "- input:   **`batch_size x n_feats1`**\n",
        "- output: **`batch_size x n_feats2`**"
      ]
    },
    {
      "cell_type": "code",
      "metadata": {
        "id": "D0uoyqkpj6ea",
        "ExecuteTime": {
          "end_time": "2025-03-29T18:05:16.962386Z",
          "start_time": "2025-03-29T18:05:16.958711Z"
        }
      },
      "source": [
        "class Linear(Module):\n",
        "    \"\"\"\n",
        "    A module which applies a linear transformation\n",
        "    A common name is fully-connected layer, InnerProductLayer in caffe.\n",
        "\n",
        "    The module should work with 2D input of shape (n_samples, n_feature).\n",
        "    \"\"\"\n",
        "    def __init__(self, n_in, n_out):\n",
        "        super(Linear, self).__init__()\n",
        "\n",
        "        # This is a nice initialization\n",
        "        stdv = 1./np.sqrt(n_in)\n",
        "        self.W = np.random.uniform(-stdv, stdv, size = (n_out, n_in))\n",
        "        self.b = np.random.uniform(-stdv, stdv, size = n_out)\n",
        "\n",
        "        self.gradW = np.zeros_like(self.W)\n",
        "        self.gradb = np.zeros_like(self.b)\n",
        "\n",
        "    def updateOutput(self, input):\n",
        "        # Your code goes here. ################################################\n",
        "        # self.output = ...\n",
        "        self.output = np.dot(input, self.W.T) + self.b\n",
        "        return self.output\n",
        "\n",
        "    def updateGradInput(self, input, gradOutput):\n",
        "        # Your code goes here. ################################################\n",
        "        # self.gradInput = ...\n",
        "        self.gradInput = np.dot(gradOutput, self.W)\n",
        "        return self.gradInput\n",
        "\n",
        "    def accGradParameters(self, input, gradOutput):\n",
        "        # Your code goes here. ################################################\n",
        "        # self.gradW = ... ; self.gradb = ...\n",
        "        self.gradW += np.dot(gradOutput.T, input)\n",
        "        self.gradb += np.sum(gradOutput, axis=0)\n",
        "\n",
        "    def zeroGradParameters(self):\n",
        "        self.gradW.fill(0)\n",
        "        self.gradb.fill(0)\n",
        "\n",
        "    def getParameters(self):\n",
        "        return [self.W, self.b]\n",
        "\n",
        "    def getGradParameters(self):\n",
        "        return [self.gradW, self.gradb]\n",
        "\n",
        "\n",
        "    def __repr__(self):\n",
        "        s = self.W.shape\n",
        "        q = 'Linear %d -> %d' %(s[1],s[0])\n",
        "        return q"
      ],
      "outputs": [],
      "execution_count": 4
    },
    {
      "cell_type": "markdown",
      "metadata": {
        "id": "tNOnHXZJj6eb"
      },
      "source": [
        "## 2. (0.2) SoftMax\n",
        "- input:   **`batch_size x n_feats`**\n",
        "- output: **`batch_size x n_feats`**\n",
        "\n",
        "$\\text{softmax}(x)_i = \\frac{\\exp x_i} {\\sum_j \\exp x_j}$\n",
        "\n",
        "Recall that $\\text{softmax}(x) == \\text{softmax}(x - \\text{const})$. It makes possible to avoid computing exp() from large argument."
      ]
    },
    {
      "cell_type": "code",
      "metadata": {
        "collapsed": true,
        "id": "VIValI0hj6eb",
        "ExecuteTime": {
          "end_time": "2025-03-29T18:05:12.782955Z",
          "start_time": "2025-03-29T18:05:12.779618Z"
        }
      },
      "source": [
        "class SoftMax(Module):\n",
        "    def __init__(self):\n",
        "         super(SoftMax, self).__init__()\n",
        "\n",
        "    def updateOutput(self, input):\n",
        "        # start with normalization for numerical stability\n",
        "        self.output = np.subtract(input, input.max(axis=1, keepdims=True))\n",
        "\n",
        "        # Your code goes here. ################################################\n",
        "        exps = np.exp(self.output)\n",
        "        sums = np.sum(exps, axis=1, keepdims=True)\n",
        "        self.output = exps / sums\n",
        "        return self.output\n",
        "\n",
        "    def updateGradInput(self, input, gradOutput):\n",
        "        # Your code goes here. ################################################\n",
        "        s = np.sum(gradOutput * self.output, axis=1, keepdims=True)\n",
        "        self.gradInput = self.output * (gradOutput - s)\n",
        "        return self.gradInput\n",
        "\n",
        "    def __repr__(self):\n",
        "        return \"SoftMax\""
      ],
      "outputs": [],
      "execution_count": 5
    },
    {
      "cell_type": "markdown",
      "metadata": {
        "id": "Cy3DJjynj6eb"
      },
      "source": [
        "## 3. (0.2) LogSoftMax\n",
        "- input:   **`batch_size x n_feats`**\n",
        "- output: **`batch_size x n_feats`**\n",
        "\n",
        "$\\text{logsoftmax}(x)_i = \\log\\text{softmax}(x)_i = x_i - \\log {\\sum_j \\exp x_j}$\n",
        "\n",
        "The main goal of this layer is to be used in computation of log-likelihood loss."
      ]
    },
    {
      "cell_type": "code",
      "metadata": {
        "collapsed": true,
        "id": "Xo7DRdAJj6eb",
        "ExecuteTime": {
          "end_time": "2025-03-29T18:16:50.630271Z",
          "start_time": "2025-03-29T18:16:50.626021Z"
        }
      },
      "source": [
        "class LogSoftMax(Module):\n",
        "    def __init__(self):\n",
        "         super(LogSoftMax, self).__init__()\n",
        "         self.output_exp = None\n",
        "\n",
        "    def updateOutput(self, input):\n",
        "        # start with normalization for numerical stability\n",
        "        self.output = np.subtract(input, input.max(axis=1, keepdims=True))\n",
        "\n",
        "        # Your code goes here. ################################################\n",
        "        log_sum = np.log(np.sum(np.exp(self.output), axis=1, keepdims=True))\n",
        "        self.output = self.output - log_sum\n",
        "        self.output_exp = np.exp(self.output)\n",
        "        return self.output\n",
        "\n",
        "    def updateGradInput(self, input, gradOutput):\n",
        "        # Your code goes here. ################################################\n",
        "        s = np.sum(gradOutput, axis=1, keepdims=True)\n",
        "        self.gradInput = gradOutput - self.output_exp * s\n",
        "        return self.gradInput\n",
        "\n",
        "    def __repr__(self):\n",
        "        return \"LogSoftMax\""
      ],
      "outputs": [],
      "execution_count": 6
    },
    {
      "cell_type": "markdown",
      "metadata": {
        "id": "QP5QdmmPj6eb"
      },
      "source": [
        "## 4. (0.3) Batch normalization\n",
        "One of the most significant recent ideas that impacted NNs a lot is [**Batch normalization**](http://arxiv.org/abs/1502.03167). The idea is simple, yet effective: the features should be whitened ($mean = 0$, $std = 1$) all the way through NN. This improves the convergence for deep models letting it train them for days but not weeks. **You are** to implement the first part of the layer: features normalization. The second part (`ChannelwiseScaling` layer) is implemented below.\n",
        "\n",
        "- input:   **`batch_size x n_feats`**\n",
        "- output: **`batch_size x n_feats`**\n",
        "\n",
        "The layer should work as follows. While training (`self.training == True`) it transforms input as $$y = \\frac{x - \\mu}  {\\sqrt{\\sigma + \\epsilon}}$$\n",
        "where $\\mu$ and $\\sigma$ - mean and variance of feature values in **batch** and $\\epsilon$ is just a small number for numericall stability. Also during training, layer should maintain exponential moving average values for mean and variance:\n",
        "```\n",
        "    self.moving_mean = self.moving_mean * alpha + batch_mean * (1 - alpha)\n",
        "    self.moving_variance = self.moving_variance * alpha + batch_variance * (1 - alpha)\n",
        "```\n",
        "During testing (`self.training == False`) the layer normalizes input using moving_mean and moving_variance.\n",
        "\n",
        "Note that decomposition of batch normalization on normalization itself and channelwise scaling here is just a common **implementation** choice. In general \"batch normalization\" always assumes normalization + scaling."
      ]
    },
    {
      "cell_type": "code",
      "metadata": {
        "collapsed": true,
        "id": "fGTTDqVgj6eb",
        "ExecuteTime": {
          "end_time": "2025-03-29T18:15:56.519212Z",
          "start_time": "2025-03-29T18:15:56.514315Z"
        }
      },
      "source": [
        "class BatchNormalization(Module):\n",
        "    EPS = 1e-3\n",
        "    def __init__(self, alpha = 0.):\n",
        "        super(BatchNormalization, self).__init__()\n",
        "        self.alpha = alpha\n",
        "        self.moving_mean = None\n",
        "        self.moving_variance = None\n",
        "        self.curr_mean = None\n",
        "        self.curr_var = None\n",
        "\n",
        "    def updateOutput(self, input):\n",
        "        # Your code goes here. ################################################\n",
        "        # use self.EPS please\n",
        "        if self.moving_mean is None:\n",
        "            self.moving_mean = np.zeros(input.shape[1], dtype=input.dtype)\n",
        "            self.moving_variance = np.ones(input.shape[1], dtype=input.dtype)\n",
        "        if self.training:\n",
        "            self.curr_mean = np.mean(input, axis=0)\n",
        "            self.curr_var = np.var(input, axis=0)\n",
        "            self.moving_mean = self.moving_mean * self.alpha + self.curr_mean * (1. - self.alpha)\n",
        "            self.moving_variance = self.moving_variance * self.alpha + self.curr_var * (1. - self.alpha)\n",
        "            self.output = (input - self.curr_mean) / np.sqrt(self.curr_var + self.EPS)\n",
        "        else:\n",
        "            self.output = (input - self.moving_mean) / np.sqrt(self.moving_variance + self.EPS)\n",
        "        return self.output\n",
        "\n",
        "    def updateGradInput(self, input, gradOutput):\n",
        "        # Your code goes here. ################################################\n",
        "        if self.training:\n",
        "            xmu = input - self.curr_mean\n",
        "            std_inv = 1.0 / np.sqrt(self.curr_var + self.EPS)\n",
        "            N = input.shape[0]\n",
        "            dxhat = gradOutput\n",
        "            dvar = np.sum(dxhat * xmu, axis=0) * (-0.5) * (std_inv**3)\n",
        "            dmean = np.sum(dxhat * -std_inv, axis=0) + dvar * np.mean(-2.0*xmu, axis=0)\n",
        "            self.gradInput = (dxhat*std_inv) + (dvar*2.0*xmu/N) + (dmean/N)\n",
        "        else:\n",
        "            self.gradInput = gradOutput / np.sqrt(self.moving_variance + self.EPS)\n",
        "        return self.gradInput\n",
        "\n",
        "    def __repr__(self):\n",
        "        return \"BatchNormalization\""
      ],
      "outputs": [],
      "execution_count": 7
    },
    {
      "cell_type": "code",
      "metadata": {
        "collapsed": true,
        "id": "8XUS3Lt-j6eb",
        "ExecuteTime": {
          "end_time": "2025-03-29T18:15:59.198532Z",
          "start_time": "2025-03-29T18:15:59.194563Z"
        }
      },
      "source": [
        "class ChannelwiseScaling(Module):\n",
        "    \"\"\"\n",
        "       Implements linear transform of input y = \\gamma * x + \\beta\n",
        "       where \\gamma, \\beta - learnable vectors of length x.shape[-1]\n",
        "    \"\"\"\n",
        "    def __init__(self, n_out):\n",
        "        super(ChannelwiseScaling, self).__init__()\n",
        "\n",
        "        stdv = 1./np.sqrt(n_out)\n",
        "        self.gamma = np.random.uniform(-stdv, stdv, size=n_out)\n",
        "        self.beta = np.random.uniform(-stdv, stdv, size=n_out)\n",
        "\n",
        "        self.gradGamma = np.zeros_like(self.gamma)\n",
        "        self.gradBeta = np.zeros_like(self.beta)\n",
        "\n",
        "    def updateOutput(self, input):\n",
        "        self.output = input * self.gamma + self.beta\n",
        "        return self.output\n",
        "\n",
        "    def updateGradInput(self, input, gradOutput):\n",
        "        self.gradInput = gradOutput * self.gamma\n",
        "        return self.gradInput\n",
        "\n",
        "    def accGradParameters(self, input, gradOutput):\n",
        "        self.gradBeta = np.sum(gradOutput, axis=0)\n",
        "        self.gradGamma = np.sum(gradOutput*input, axis=0)\n",
        "\n",
        "    def zeroGradParameters(self):\n",
        "        self.gradGamma.fill(0)\n",
        "        self.gradBeta.fill(0)\n",
        "\n",
        "    def getParameters(self):\n",
        "        return [self.gamma, self.beta]\n",
        "\n",
        "    def getGradParameters(self):\n",
        "        return [self.gradGamma, self.gradBeta]\n",
        "\n",
        "    def __repr__(self):\n",
        "        return \"ChannelwiseScaling\""
      ],
      "outputs": [],
      "execution_count": 8
    },
    {
      "cell_type": "markdown",
      "metadata": {
        "id": "vA5zjM3jj6eb"
      },
      "source": [
        "Practical notes. If BatchNormalization is placed after a linear transformation layer (including dense layer, convolutions, channelwise scaling) that implements function like `y = weight * x + bias`, than bias adding become useless and could be omitted since its effect will be discarded while batch mean subtraction. If BatchNormalization (followed by `ChannelwiseScaling`) is placed before a layer that propagates scale (including ReLU, LeakyReLU) followed by any linear transformation layer than parameter `gamma` in `ChannelwiseScaling` could be freezed since it could be absorbed into the linear transformation layer."
      ]
    },
    {
      "cell_type": "markdown",
      "metadata": {
        "id": "Gackeo1cj6eb"
      },
      "source": [
        "## 5. (0.3) Dropout\n",
        "Implement [**dropout**](https://www.cs.toronto.edu/~hinton/absps/JMLRdropout.pdf). The idea and implementation is really simple: just multimply the input by $Bernoulli(p)$ mask. Here $p$ is probability of an element to be zeroed.\n",
        "\n",
        "This has proven to be an effective technique for regularization and preventing the co-adaptation of neurons.\n",
        "\n",
        "While training (`self.training == True`) it should sample a mask on each iteration (for every batch), zero out elements and multiply elements by $1 / (1 - p)$. The latter is needed for keeping mean values of features close to mean values which will be in test mode. When testing this module should implement identity transform i.e. `self.output = input`.\n",
        "\n",
        "- input:   **`batch_size x n_feats`**\n",
        "- output: **`batch_size x n_feats`**"
      ]
    },
    {
      "cell_type": "code",
      "metadata": {
        "id": "NmLQV3jXj6eb",
        "ExecuteTime": {
          "end_time": "2025-03-29T18:10:23.517818Z",
          "start_time": "2025-03-29T18:10:23.514522Z"
        }
      },
      "source": [
        "class Dropout(Module):\n",
        "    def __init__(self, p=0.5):\n",
        "        super(Dropout, self).__init__()\n",
        "\n",
        "        self.p = p\n",
        "        self.mask = None\n",
        "\n",
        "    def updateOutput(self, input):\n",
        "        # Your code goes here. ################################################\n",
        "        if self.training:\n",
        "            self.mask = (np.random.rand(*input.shape) > self.p)\n",
        "            self.output = input * self.mask / (1. - self.p)\n",
        "        else:\n",
        "            self.output = input\n",
        "        return self.output\n",
        "\n",
        "    def updateGradInput(self, input, gradOutput):\n",
        "        # Your code goes here. ################################################\n",
        "        if self.training:\n",
        "            self.gradInput = gradOutput * self.mask / (1. - self.p)\n",
        "        else:\n",
        "            self.gradInput = gradOutput\n",
        "        return self.gradInput\n",
        "\n",
        "    def __repr__(self):\n",
        "        return \"Dropout\""
      ],
      "outputs": [],
      "execution_count": 9
    },
    {
      "cell_type": "markdown",
      "source": [
        "#6. (2.0) Conv2d\n",
        "Implement [**Conv2d**](https://pytorch.org/docs/stable/generated/torch.nn.Conv2d.html). Use only this list of parameters: (in_channels, out_channels, kernel_size, stride, padding, bias, padding_mode) and fix dilation=1 and groups=1."
      ],
      "metadata": {
        "id": "-WHGIqJFlhz2"
      }
    },
    {
      "cell_type": "code",
      "source": [
        "def _unpad_grad(gradInput_padded, pad_top, pad_left, mode, in_h, in_w):\n",
        "    if mode == 'zeros':\n",
        "        return gradInput_padded[:, :, pad_top:pad_top+in_h, pad_left:pad_left+in_w]\n",
        "\n",
        "    elif mode == 'replicate':\n",
        "        B, C, H_pad, W_pad = gradInput_padded.shape\n",
        "        gradInput = np.zeros((B, C, in_h, in_w), dtype=gradInput_padded.dtype)\n",
        "        for b in range(B):\n",
        "            for ch in range(C):\n",
        "                for r_padded in range(H_pad):\n",
        "                    r = r_padded - pad_top\n",
        "                    if r < 0:\n",
        "                        r_clamped = 0\n",
        "                    elif r >= in_h:\n",
        "                        r_clamped = in_h - 1\n",
        "                    else:\n",
        "                        r_clamped = r\n",
        "\n",
        "                    for c_padded in range(W_pad):\n",
        "                        c_ = c_padded - pad_left\n",
        "                        if c_ < 0:\n",
        "                            c_clamped = 0\n",
        "                        elif c_ >= in_w:\n",
        "                            c_clamped = in_w - 1\n",
        "                        else:\n",
        "                            c_clamped = c_\n",
        "\n",
        "                        gradInput[b, ch, r_clamped, c_clamped] += gradInput_padded[b, ch, r_padded, c_padded]\n",
        "        return gradInput\n",
        "\n",
        "    elif mode == 'reflect':\n",
        "        B, C, H_pad, W_pad = gradInput_padded.shape\n",
        "        gradInput = np.zeros((B, C, in_h, in_w), dtype=gradInput_padded.dtype)\n",
        "        for b in range(B):\n",
        "            for ch in range(C):\n",
        "                for r_padded in range(H_pad):\n",
        "                    r = r_padded - pad_top\n",
        "                    if r < 0:\n",
        "                        r_ref = -r\n",
        "                    elif r >= in_h:\n",
        "                        r_ref = 2*(in_h-1) - r\n",
        "                    else:\n",
        "                        r_ref = r\n",
        "\n",
        "                    for c_padded in range(W_pad):\n",
        "                        c_ = c_padded - pad_left\n",
        "                        if c_ < 0:\n",
        "                            c_ref = -c_\n",
        "                        elif c_ >= in_w:\n",
        "                            c_ref = 2*(in_w-1) - c_\n",
        "                        else:\n",
        "                            c_ref = c_\n",
        "\n",
        "                        gradInput[b, ch, r_ref, c_ref] += gradInput_padded[b, ch, r_padded, c_padded]\n",
        "        return gradInput\n",
        "\n",
        "    else:\n",
        "        return gradInput_padded[:, :, pad_top:pad_top+in_h, pad_left:pad_left+in_w]"
      ],
      "metadata": {
        "id": "-O-Ine2DT2O_"
      },
      "execution_count": null,
      "outputs": []
    },
    {
      "cell_type": "code",
      "source": [
        "class Conv2d(Module):\n",
        "    def __init__(self, in_channels, out_channels, kernel_size,\n",
        "                stride=1, padding=0, bias=True, padding_mode='zeros'):\n",
        "        super(Conv2d, self).__init__()\n",
        "\n",
        "        if isinstance(kernel_size, int):\n",
        "            self.kernel_size = (kernel_size, kernel_size)\n",
        "        else:\n",
        "            self.kernel_size = kernel_size\n",
        "        if isinstance(stride, int):\n",
        "            self.stride = (stride, stride)\n",
        "        else:\n",
        "            self.stride = stride\n",
        "\n",
        "        if padding == 'same':\n",
        "            pad_h = (self.kernel_size[0] - 1) // 2\n",
        "            pad_w = (self.kernel_size[1] - 1) // 2\n",
        "            self.padding = (pad_h, pad_w)\n",
        "        elif isinstance(padding, int):\n",
        "            self.padding = (padding, padding)\n",
        "        else:\n",
        "            self.padding = padding\n",
        "\n",
        "        self.in_channels = in_channels\n",
        "        self.out_channels = out_channels\n",
        "        self.bias_flag = bias\n",
        "        self.padding_mode = padding_mode\n",
        "\n",
        "        limit = 1./np.sqrt(in_channels*self.kernel_size[0]*self.kernel_size[1])\n",
        "\n",
        "        self.weight = np.random.uniform(\n",
        "            -limit, limit,\n",
        "            size=(out_channels, in_channels, self.kernel_size[0], self.kernel_size[1])\n",
        "        )\n",
        "        if bias:\n",
        "            self.bias = np.random.uniform(-limit, limit, size=out_channels)\n",
        "        else:\n",
        "            self.bias = None\n",
        "\n",
        "        self.gradWeight = np.zeros_like(self.weight)\n",
        "        if bias:\n",
        "            self.gradBias = np.zeros_like(self.bias)\n",
        "        else:\n",
        "            self.gradBias = None\n",
        "\n",
        "        self.cache_input = None\n",
        "\n",
        "    # def _pad_input(self, x, pad_h, pad_w, mode):\n",
        "    #     if pad_h==0 and pad_w==0:\n",
        "    #         return x\n",
        "    #     if mode=='zeros':\n",
        "    #         return np.pad(x, ((0,0),(0,0),(pad_h,pad_h),(pad_w,pad_w)), mode='constant', constant_values=0)\n",
        "    #     else:\n",
        "    #         return np.pad(x, ((0,0),(0,0),(pad_h,pad_h),(pad_w,pad_w)), mode=mode)\n",
        "\n",
        "    def _pad_input(self, x, pad_h, pad_w, mode):\n",
        "        if pad_h == 0 and pad_w == 0:\n",
        "            return x\n",
        "        if mode == 'zeros':\n",
        "            return np.pad(x, ((0,0),(0,0),(pad_h,pad_h),(pad_w,pad_w)),\n",
        "                          mode='constant', constant_values=0)\n",
        "        elif mode == 'replicate':\n",
        "            return np.pad(x, ((0,0),(0,0),(pad_h,pad_h),(pad_w,pad_w)),\n",
        "                          mode='edge')\n",
        "        else:\n",
        "            return np.pad(x, ((0,0),(0,0),(pad_h,pad_h),(pad_w,pad_w)), mode=mode)\n",
        "\n",
        "    def updateOutput(self, input):\n",
        "        # Your code goes here. ################################################\n",
        "        self.cache_input = input\n",
        "        batch_size, in_ch, in_h, in_w = input.shape\n",
        "        if self.padding=='same':\n",
        "            out_h = int(np.ceil(in_h / self.stride[0]))\n",
        "            out_w = int(np.ceil(in_w / self.stride[1]))\n",
        "            pad_h = max((out_h-1)*self.stride[0] + self.kernel_size[0] - in_h,0)\n",
        "            pad_w = max((out_w-1)*self.stride[1] + self.kernel_size[1] - in_w,0)\n",
        "            pad_top = pad_h//2\n",
        "            pad_left = pad_w//2\n",
        "            input_padded = self._pad_input(input, pad_top, pad_left, self.padding_mode)\n",
        "        else:\n",
        "            pad_top, pad_left = self.padding\n",
        "            input_padded = self._pad_input(input, pad_top, pad_left, self.padding_mode)\n",
        "            out_h = (input_padded.shape[2] - self.kernel_size[0])//self.stride[0] + 1\n",
        "            out_w = (input_padded.shape[3] - self.kernel_size[1])//self.stride[1] + 1\n",
        "        self.output = np.zeros((batch_size, self.out_channels, out_h, out_w), dtype=input.dtype)\n",
        "        for b in range(batch_size):\n",
        "            for oc in range(self.out_channels):\n",
        "                for i in range(out_h):\n",
        "                    for j in range(out_w):\n",
        "                        hs = i*self.stride[0]\n",
        "                        ws = j*self.stride[1]\n",
        "                        patch = input_padded[b, :, hs:hs+self.kernel_size[0], ws:ws+self.kernel_size[1]]\n",
        "                        self.output[b, oc, i, j] = np.sum(patch * self.weight[oc,:,:,:])\n",
        "                if self.bias_flag:\n",
        "                    self.output[b, oc, :, :] += self.bias[oc]\n",
        "        return self.output\n",
        "\n",
        "    def updateGradInput(self, input, gradOutput):\n",
        "        batch_size, in_ch, in_h, in_w = input.shape\n",
        "\n",
        "        if self.padding == 'same':\n",
        "            out_h = gradOutput.shape[2]\n",
        "            out_w = gradOutput.shape[3]\n",
        "            pad_h = max((out_h-1)*self.stride[0] + self.kernel_size[0] - in_h, 0)\n",
        "            pad_w = max((out_w-1)*self.stride[1] + self.kernel_size[1] - in_w, 0)\n",
        "            pad_top = pad_h // 2\n",
        "            pad_left = pad_w // 2\n",
        "        else:\n",
        "            pad_top, pad_left = self.padding\n",
        "\n",
        "        input_padded = self._pad_input(input, pad_top, pad_left, self.padding_mode)\n",
        "\n",
        "        gradInput_padded = np.zeros_like(input_padded)\n",
        "\n",
        "        for b in range(batch_size):\n",
        "            for oc in range(self.out_channels):\n",
        "                for i in range(gradOutput.shape[2]):\n",
        "                    for j in range(gradOutput.shape[3]):\n",
        "                        hs = i * self.stride[0]\n",
        "                        ws = j * self.stride[1]\n",
        "                        gradInput_padded[b, :, hs:hs+self.kernel_size[0], ws:ws+self.kernel_size[1]] += (\n",
        "                            gradOutput[b, oc, i, j] * self.weight[oc]\n",
        "                        )\n",
        "\n",
        "        if self.padding == 'same':\n",
        "            self.gradInput = _unpad_grad(\n",
        "                gradInput_padded, pad_top, pad_left, self.padding_mode, in_h, in_w\n",
        "            )\n",
        "        else:\n",
        "            if pad_top > 0 or pad_left > 0:\n",
        "                self.gradInput = _unpad_grad(\n",
        "                    gradInput_padded, pad_top, pad_left, self.padding_mode, in_h, in_w\n",
        "                )\n",
        "            else:\n",
        "                self.gradInput = gradInput_padded\n",
        "\n",
        "        return self.gradInput\n",
        "\n",
        "    def accGradParameters(self, input, gradOutput):\n",
        "        batch_size, in_ch, in_h, in_w = input.shape\n",
        "        if self.padding=='same':\n",
        "            out_h = gradOutput.shape[2]\n",
        "            out_w = gradOutput.shape[3]\n",
        "            pad_h = max((out_h-1)*self.stride[0] + self.kernel_size[0] - in_h,0)\n",
        "            pad_w = max((out_w-1)*self.stride[1] + self.kernel_size[1] - in_w,0)\n",
        "            pad_top = pad_h//2\n",
        "            pad_left = pad_w//2\n",
        "        else:\n",
        "            pad_top, pad_left = self.padding\n",
        "        input_padded = self._pad_input(input, pad_top, pad_left, self.padding_mode)\n",
        "        for b in range(batch_size):\n",
        "            for oc in range(self.out_channels):\n",
        "                for i in range(gradOutput.shape[2]):\n",
        "                    for j in range(gradOutput.shape[3]):\n",
        "                        hs = i*self.stride[0]\n",
        "                        ws = j*self.stride[1]\n",
        "                        patch = input_padded[b, :, hs:hs+self.kernel_size[0], ws:ws+self.kernel_size[1]]\n",
        "                        self.gradWeight[oc] += gradOutput[b, oc, i, j] * patch\n",
        "        if self.bias_flag:\n",
        "            self.gradBias += np.sum(gradOutput, axis=(0,2,3))\n",
        "\n",
        "    def zeroGradParameters(self):\n",
        "        self.gradWeight.fill(0)\n",
        "        if self.bias_flag:\n",
        "            self.gradBias.fill(0)\n",
        "\n",
        "    def getParameters(self):\n",
        "        if self.bias_flag:\n",
        "            return [self.weight, self.bias]\n",
        "        else:\n",
        "            return [self.weight]\n",
        "\n",
        "    def getGradParameters(self):\n",
        "        if self.bias_flag:\n",
        "            return [self.gradWeight, self.gradBias]\n",
        "        else:\n",
        "            return [self.gradWeight]\n",
        "\n",
        "\n",
        "\n",
        "    def __repr__(self):\n",
        "        return \"Conv2d\""
      ],
      "metadata": {
        "id": "c1RjNoEXlOHP",
        "ExecuteTime": {
          "end_time": "2025-03-29T18:14:57.489705Z",
          "start_time": "2025-03-29T18:14:57.475949Z"
        }
      },
      "outputs": [],
      "execution_count": 1
    },
    {
      "cell_type": "code",
      "source": [
        "import torch\n",
        "import torch.nn.functional as F\n",
        "import numpy as np\n",
        "\n",
        "\n",
        "x_pt = torch.tensor([[[[1,2,3],\n",
        "                       [4,5,6],\n",
        "                       [7,8,9]]]], dtype=torch.float)\n",
        "# Pytorch replicate pad = (left,right,top,bottom)\n",
        "pt_rep = F.pad(x_pt, (2,2,2,2), mode='replicate')\n",
        "\n",
        "x_np = x_pt.numpy()\n",
        "np_rep = np.pad(x_np, ((0,0),(0,0),(2,2),(2,2)), mode='edge')\n",
        "\n",
        "print(\"PyTorch replicate:\\n\", pt_rep)\n",
        "print(\"NumPy edge:\\n\", np_rep)"
      ],
      "metadata": {
        "colab": {
          "base_uri": "https://localhost:8080/"
        },
        "id": "Y7S9SG18NFF9",
        "outputId": "9072c3d9-89dc-4301-a6ca-d71880fd1af5"
      },
      "execution_count": 98,
      "outputs": [
        {
          "output_type": "stream",
          "name": "stdout",
          "text": [
            "PyTorch replicate:\n",
            " tensor([[[[1., 1., 1., 2., 3., 3., 3.],\n",
            "          [1., 1., 1., 2., 3., 3., 3.],\n",
            "          [1., 1., 1., 2., 3., 3., 3.],\n",
            "          [4., 4., 4., 5., 6., 6., 6.],\n",
            "          [7., 7., 7., 8., 9., 9., 9.],\n",
            "          [7., 7., 7., 8., 9., 9., 9.],\n",
            "          [7., 7., 7., 8., 9., 9., 9.]]]])\n",
            "NumPy edge:\n",
            " [[[[1. 1. 1. 2. 3. 3. 3.]\n",
            "   [1. 1. 1. 2. 3. 3. 3.]\n",
            "   [1. 1. 1. 2. 3. 3. 3.]\n",
            "   [4. 4. 4. 5. 6. 6. 6.]\n",
            "   [7. 7. 7. 8. 9. 9. 9.]\n",
            "   [7. 7. 7. 8. 9. 9. 9.]\n",
            "   [7. 7. 7. 8. 9. 9. 9.]]]]\n"
          ]
        }
      ]
    },
    {
      "cell_type": "markdown",
      "source": [
        "#7. (0.5) Implement [**MaxPool2d**](https://pytorch.org/docs/stable/generated/torch.nn.MaxPool2d.html) and [**AvgPool2d**](https://pytorch.org/docs/stable/generated/torch.nn.AvgPool2d.html). Use only parameters like kernel_size, stride, padding (negative infinity for maxpool and zero for avgpool) and other parameters fixed as in framework."
      ],
      "metadata": {
        "id": "updUVZE9qixP"
      }
    },
    {
      "cell_type": "code",
      "source": [
        "class MaxPool2d(Module):\n",
        "    def __init__(self, kernel_size, stride, padding):\n",
        "        super(MaxPool2d, self).__init__()\n",
        "        if isinstance(kernel_size, int):\n",
        "            self.kernel_size = (kernel_size, kernel_size)\n",
        "        else:\n",
        "            self.kernel_size = kernel_size\n",
        "        if isinstance(stride, int):\n",
        "            self.stride = (stride, stride)\n",
        "        else:\n",
        "            self.stride = stride\n",
        "        self.padding = padding\n",
        "        self.indices = None\n",
        "        self.input_shape = None\n",
        "\n",
        "    def updateOutput(self, input):\n",
        "        # Your code goes here. ################################################\n",
        "        self.input_shape = input.shape\n",
        "        batch_size, in_ch, in_h, in_w = input.shape\n",
        "        out_h = (in_h - self.kernel_size[0]) // self.stride[0] + 1\n",
        "        out_w = (in_w - self.kernel_size[1]) // self.stride[1] + 1\n",
        "        self.output = np.zeros((batch_size, in_ch, out_h, out_w), dtype=input.dtype)\n",
        "        self.indices = np.zeros_like(self.output, dtype=int)\n",
        "        for b in range(batch_size):\n",
        "            for c in range(in_ch):\n",
        "                for i in range(out_h):\n",
        "                    for j in range(out_w):\n",
        "                        hs = i * self.stride[0]\n",
        "                        ws = j * self.stride[1]\n",
        "                        patch = input[b, c, hs:hs + self.kernel_size[0], ws:ws + self.kernel_size[1]]\n",
        "                        m = np.max(patch)\n",
        "                        idx = np.argmax(patch)\n",
        "                        self.output[b, c, i, j] = m\n",
        "                        self.indices[b, c, i, j] = idx\n",
        "        return self.output\n",
        "\n",
        "    def updateGradInput(self, input, gradOutput):\n",
        "        # Your code goes here. ################################################\n",
        "        self.gradInput = np.zeros_like(input)\n",
        "        batch_size, in_ch, in_h, in_w = self.input_shape\n",
        "        out_h, out_w = gradOutput.shape[2], gradOutput.shape[3]\n",
        "        for b in range(batch_size):\n",
        "            for c in range(in_ch):\n",
        "                for i in range(out_h):\n",
        "                    for j in range(out_w):\n",
        "                        idx = self.indices[b, c, i, j]\n",
        "                        hs = i * self.stride[0]\n",
        "                        ws = j * self.stride[1]\n",
        "                        row = hs + idx // self.kernel_size[1]\n",
        "                        col = ws + idx % self.kernel_size[1]\n",
        "                        self.gradInput[b, c, row, col] += gradOutput[b, c, i, j]\n",
        "        return self.gradInput\n",
        "\n",
        "    def __repr__(self):\n",
        "        return \"MaxPool2d\"\n",
        "\n",
        "\n",
        "\n",
        "\n",
        "class AvgPool2d(Module):\n",
        "    def __init__(self, kernel_size, stride, padding):\n",
        "        super(AvgPool2d, self).__init__()\n",
        "        if isinstance(kernel_size, int):\n",
        "            self.kernel_size = (kernel_size, kernel_size)\n",
        "        else:\n",
        "            self.kernel_size = kernel_size\n",
        "        if isinstance(stride, int):\n",
        "            self.stride = (stride, stride)\n",
        "        else:\n",
        "            self.stride = stride\n",
        "        self.padding = padding\n",
        "        self.input_shape = None\n",
        "\n",
        "    def updateOutput(self, input):\n",
        "        self.input_shape = input.shape\n",
        "        batch_size, in_ch, in_h, in_w = input.shape\n",
        "        kH, kW = self.kernel_size\n",
        "        sH, sW = self.stride\n",
        "        p = self.padding\n",
        "\n",
        "\n",
        "        padded_input = np.pad(\n",
        "            input,\n",
        "            pad_width=((0,0), (0,0), (p,p), (p,p)),\n",
        "            mode='constant',\n",
        "            constant_values=0\n",
        "        )\n",
        "\n",
        "        out_h = (in_h + 2*p - kH) // sH + 1\n",
        "        out_w = (in_w + 2*p - kW) // sW + 1\n",
        "\n",
        "        self.output = np.zeros((batch_size, in_ch, out_h, out_w), dtype=input.dtype)\n",
        "\n",
        "\n",
        "        for b in range(batch_size):\n",
        "            for c in range(in_ch):\n",
        "                for i in range(out_h):\n",
        "                    for j in range(out_w):\n",
        "                        start_h = i * sH\n",
        "                        end_h   = start_h + kH\n",
        "                        start_w = j * sW\n",
        "                        end_w   = start_w + kW\n",
        "                        patch = padded_input[b, c, start_h:end_h, start_w:end_w]\n",
        "                        self.output[b, c, i, j] = np.mean(patch)\n",
        "\n",
        "        return self.output\n",
        "\n",
        "    def updateGradInput(self, input, gradOutput):\n",
        "        batch_size, in_ch, in_h, in_w = input.shape\n",
        "        p = self.padding\n",
        "        kH, kW = self.kernel_size\n",
        "        sH, sW = self.stride\n",
        "        out_h, out_w = gradOutput.shape[2], gradOutput.shape[3]\n",
        "\n",
        "\n",
        "        gradInput_padded = np.zeros((batch_size, in_ch, in_h + 2*p, in_w + 2*p),\n",
        "                                    dtype=input.dtype)\n",
        "        area = kH * kW\n",
        "\n",
        "\n",
        "        for b in range(batch_size):\n",
        "            for c in range(in_ch):\n",
        "                for i in range(out_h):\n",
        "                    for j in range(out_w):\n",
        "                        start_h = i * sH\n",
        "                        end_h   = start_h + kH\n",
        "                        start_w = j * sW\n",
        "                        end_w   = start_w + kW\n",
        "                        gradInput_padded[b, c, start_h:end_h, start_w:end_w] += (\n",
        "                            gradOutput[b, c, i, j] / area\n",
        "                        )\n",
        "\n",
        "\n",
        "        self.gradInput = gradInput_padded[:, :, p:p+in_h, p:p+in_w]\n",
        "        return self.gradInput\n",
        "\n",
        "    def __repr__(self):\n",
        "        return \"AvgPool2d\""
      ],
      "metadata": {
        "id": "Qys58EzkqhLj",
        "ExecuteTime": {
          "end_time": "2025-03-29T18:19:39.779780Z",
          "start_time": "2025-03-29T18:19:39.769201Z"
        }
      },
      "outputs": [],
      "execution_count": 11
    },
    {
      "cell_type": "markdown",
      "source": [
        "#8. (0.3) Implement **GlobalMaxPool2d** and **GlobalAvgPool2d**. They do not have testing and parameters are up to you but they must aggregate information within channels. Write test functions for these layers on your own."
      ],
      "metadata": {
        "id": "KTN5R3CwrukV"
      }
    },
    {
      "cell_type": "code",
      "source": [
        "class GlobalMaxPool2d(Module):\n",
        "    def __init__(self):\n",
        "        super(GlobalMaxPool2d, self).__init__()\n",
        "        self.indices = None\n",
        "\n",
        "    def updateOutput(self, input):\n",
        "        N, C, H, W = input.shape\n",
        "        self.output = np.zeros((N, C))\n",
        "        self.indices = np.zeros((N, C), dtype=int)\n",
        "        for n in range(N):\n",
        "            for c in range(C):\n",
        "                flat_idx = np.argmax(input[n, c])\n",
        "                self.output[n, c] = input[n, c].flat[flat_idx]\n",
        "                self.indices[n, c] = flat_idx\n",
        "        return self.output\n",
        "\n",
        "    def updateGradInput(self, input, gradOutput):\n",
        "        N, C, H, W = input.shape\n",
        "        self.gradInput = np.zeros_like(input)\n",
        "        for n in range(N):\n",
        "            for c in range(C):\n",
        "                idx = self.indices[n, c]\n",
        "                row = idx // W\n",
        "                col = idx % W\n",
        "                self.gradInput[n, c, row, col] = gradOutput[n, c]\n",
        "        return self.gradInput\n",
        "\n",
        "    def __repr__(self):\n",
        "        return \"GlobalMaxPool2d\"\n",
        "\n",
        "class GlobalAvgPool2d(Module):\n",
        "    def __init__(self):\n",
        "        super(GlobalAvgPool2d, self).__init__()\n",
        "\n",
        "    def updateOutput(self, input):\n",
        "        N, C, H, W = input.shape\n",
        "        self.output = np.mean(input, axis=(2,3))\n",
        "        return self.output\n",
        "\n",
        "    def updateGradInput(self, input, gradOutput):\n",
        "        N, C, H, W = input.shape\n",
        "        self.gradInput = np.zeros_like(input)\n",
        "        coeff = 1.0 / (H * W)\n",
        "        for n in range(N):\n",
        "            for c in range(C):\n",
        "                self.gradInput[n, c, :, :] = gradOutput[n, c] * coeff\n",
        "        return self.gradInput\n",
        "\n",
        "    def __repr__(self):\n",
        "        return \"GlobalAvgPool2d\"\n",
        "\n",
        "def test_GlobalMaxPool2d():\n",
        "    x = np.array([[[[1,4],[2,3]],\n",
        "                   [[8,5],[1,5]]]], dtype=np.float32)\n",
        "    # shape is (1,2,2,2)\n",
        "    pool = GlobalMaxPool2d()\n",
        "    out = pool.forward(x)\n",
        "    grad = np.ones_like(out)\n",
        "    gx = pool.backward(x, grad)\n",
        "    return out, gx\n",
        "\n",
        "def test_GlobalAvgPool2d():\n",
        "    x = np.array([[[[1,4],[2,3]],\n",
        "                   [[8,5],[1,5]]]], dtype=np.float32)\n",
        "    # shape is (1,2,2,2)\n",
        "    pool = GlobalAvgPool2d()\n",
        "    out = pool.forward(x)\n",
        "    grad = np.ones_like(out)\n",
        "    gx = pool.backward(x, grad)\n",
        "    return out, gx"
      ],
      "metadata": {
        "id": "rvxYWcyxXfDI"
      },
      "execution_count": 55,
      "outputs": []
    },
    {
      "cell_type": "code",
      "source": [
        "test_GlobalAvgPool2d()"
      ],
      "metadata": {
        "colab": {
          "base_uri": "https://localhost:8080/"
        },
        "id": "N4_huUzssvCC",
        "outputId": "0cdb9927-bb01-4cfb-b143-7bfae3693b26"
      },
      "execution_count": 57,
      "outputs": [
        {
          "output_type": "execute_result",
          "data": {
            "text/plain": [
              "(array([[2.5 , 4.75]], dtype=float32),\n",
              " array([[[[0.25, 0.25],\n",
              "          [0.25, 0.25]],\n",
              " \n",
              "         [[0.25, 0.25],\n",
              "          [0.25, 0.25]]]], dtype=float32))"
            ]
          },
          "metadata": {},
          "execution_count": 57
        }
      ]
    },
    {
      "cell_type": "code",
      "source": [
        "test_GlobalMaxPool2d()"
      ],
      "metadata": {
        "colab": {
          "base_uri": "https://localhost:8080/"
        },
        "id": "1Oxr8jEFssJt",
        "outputId": "cd57623c-03b8-469b-ed16-3233e870836f"
      },
      "execution_count": 56,
      "outputs": [
        {
          "output_type": "execute_result",
          "data": {
            "text/plain": [
              "(array([[4., 8.]]),\n",
              " array([[[[0., 1.],\n",
              "          [0., 0.]],\n",
              " \n",
              "         [[1., 0.],\n",
              "          [0., 0.]]]], dtype=float32))"
            ]
          },
          "metadata": {},
          "execution_count": 56
        }
      ]
    },
    {
      "cell_type": "markdown",
      "source": [
        "#9. (0.2) Implement [**Flatten**](https://pytorch.org/docs/stable/generated/torch.flatten.html)"
      ],
      "metadata": {
        "id": "cYeBQDBhtViy"
      }
    },
    {
      "cell_type": "code",
      "source": [
        "class Flatten(Module):\n",
        "    def __init__(self, start_dim=0, end_dim=-1):\n",
        "        super(Flatten, self).__init__()\n",
        "\n",
        "        self.start_dim = start_dim\n",
        "        self.end_dim = end_dim\n",
        "        self.input_shape = None\n",
        "\n",
        "    def updateOutput(self, input):\n",
        "        # Your code goes here. ################################################\n",
        "        self.input_shape = input.shape\n",
        "        shape = list(input.shape)\n",
        "        sdim = self.start_dim if self.start_dim >=0 else len(shape)+self.start_dim\n",
        "        edim = self.end_dim if self.end_dim>=0 else len(shape)+self.end_dim\n",
        "        first = np.prod(shape[sdim:edim+1])\n",
        "        new_shape = shape[:sdim] + [first] + shape[edim+1:]\n",
        "        self.output = input.reshape(new_shape)\n",
        "        return self.output\n",
        "\n",
        "    def updateGradInput(self, input, gradOutput):\n",
        "        # Your code goes here. ################################################\n",
        "        self.gradInput = gradOutput.reshape(self.input_shape)\n",
        "        return self.gradInput\n",
        "\n",
        "    def __repr__(self):\n",
        "        return \"Flatten\""
      ],
      "metadata": {
        "id": "SimPEMOFqhTQ",
        "ExecuteTime": {
          "end_time": "2025-03-29T18:21:03.394989Z",
          "start_time": "2025-03-29T18:21:03.391214Z"
        }
      },
      "outputs": [],
      "execution_count": 12
    },
    {
      "cell_type": "markdown",
      "metadata": {
        "id": "o36vPHSSj6eb"
      },
      "source": [
        "# Activation functions"
      ]
    },
    {
      "cell_type": "markdown",
      "metadata": {
        "id": "l_pryRQIj6ec"
      },
      "source": [
        "Here's the complete example for the **Rectified Linear Unit** non-linearity (aka **ReLU**):"
      ]
    },
    {
      "cell_type": "code",
      "metadata": {
        "collapsed": true,
        "id": "sgm8bXjKj6ec",
        "ExecuteTime": {
          "end_time": "2025-03-29T19:01:30.291740Z",
          "start_time": "2025-03-29T19:01:30.289390Z"
        }
      },
      "source": [
        "class ReLU(Module):\n",
        "    def __init__(self):\n",
        "         super(ReLU, self).__init__()\n",
        "\n",
        "    def updateOutput(self, input):\n",
        "        self.output = np.maximum(input, 0)\n",
        "        return self.output\n",
        "\n",
        "    def updateGradInput(self, input, gradOutput):\n",
        "        self.gradInput = np.multiply(gradOutput , input > 0)\n",
        "        return self.gradInput\n",
        "\n",
        "    def __repr__(self):\n",
        "        return \"ReLU\""
      ],
      "outputs": [],
      "execution_count": 13
    },
    {
      "cell_type": "markdown",
      "metadata": {
        "id": "yB0UHGagj6ec"
      },
      "source": [
        "## 10. (0.1) Leaky ReLU\n",
        "Implement [**Leaky Rectified Linear Unit**](http://en.wikipedia.org/wiki%2FRectifier_%28neural_networks%29%23Leaky_ReLUs). Expriment with slope."
      ]
    },
    {
      "cell_type": "code",
      "metadata": {
        "id": "agwfkwO0j6ec",
        "ExecuteTime": {
          "end_time": "2025-03-29T18:27:57.024400Z",
          "start_time": "2025-03-29T18:27:57.020433Z"
        }
      },
      "source": [
        "class LeakyReLU(Module):\n",
        "    def __init__(self, slope = 0.03):\n",
        "        super(LeakyReLU, self).__init__()\n",
        "\n",
        "        self.slope = slope\n",
        "\n",
        "    def updateOutput(self, input):\n",
        "        # Your code goes here. ################################################\n",
        "        self.output = np.where(input>0, input, self.slope*input)\n",
        "        return self.output\n",
        "\n",
        "    def updateGradInput(self, input, gradOutput):\n",
        "        # Your code goes here. ################################################\n",
        "        self.gradInput = np.where(input>0, gradOutput, self.slope*gradOutput)\n",
        "        return self.gradInput\n",
        "\n",
        "    def __repr__(self):\n",
        "        return \"LeakyReLU\""
      ],
      "outputs": [],
      "execution_count": 14
    },
    {
      "cell_type": "markdown",
      "metadata": {
        "id": "t-STyecvj6ec"
      },
      "source": [
        "## 11. (0.1) ELU\n",
        "Implement [**Exponential Linear Units**](http://arxiv.org/abs/1511.07289) activations."
      ]
    },
    {
      "cell_type": "code",
      "metadata": {
        "collapsed": true,
        "id": "jJSzEu1mj6ec",
        "ExecuteTime": {
          "end_time": "2025-03-29T18:28:27.701824Z",
          "start_time": "2025-03-29T18:28:27.699034Z"
        }
      },
      "source": [
        "class ELU(Module):\n",
        "    def __init__(self, alpha = 1.0):\n",
        "        super(ELU, self).__init__()\n",
        "\n",
        "        self.alpha = alpha\n",
        "\n",
        "    def updateOutput(self, input):\n",
        "        # Your code goes here. ################################################\n",
        "        self.output = np.where(input>0, input, self.alpha*(np.exp(input)-1))\n",
        "        return self.output\n",
        "\n",
        "    def updateGradInput(self, input, gradOutput):\n",
        "        # Your code goes here. ################################################\n",
        "        grad = np.where(input>0, 1, self.alpha*np.exp(input))\n",
        "        self.gradInput = gradOutput*grad\n",
        "        return self.gradInput\n",
        "\n",
        "    def __repr__(self):\n",
        "        return \"ELU\""
      ],
      "outputs": [],
      "execution_count": 15
    },
    {
      "cell_type": "markdown",
      "metadata": {
        "id": "Gn3C7KTqj6ec"
      },
      "source": [
        "## 12. (0.1) SoftPlus\n",
        "Implement [**SoftPlus**](https://en.wikipedia.org/wiki%2FRectifier_%28neural_networks%29) activations. Look, how they look a lot like ReLU."
      ]
    },
    {
      "cell_type": "code",
      "metadata": {
        "collapsed": true,
        "id": "xcDPMssrj6ec",
        "ExecuteTime": {
          "end_time": "2025-03-29T18:29:10.010318Z",
          "start_time": "2025-03-29T18:29:10.007129Z"
        }
      },
      "source": [
        "class SoftPlus(Module):\n",
        "    def __init__(self):\n",
        "        super(SoftPlus, self).__init__()\n",
        "\n",
        "    def updateOutput(self, input):\n",
        "        # Your code goes here. ################################################\n",
        "        self.output = np.log(1. + np.exp(input))\n",
        "        return self.output\n",
        "\n",
        "    def updateGradInput(self, input, gradOutput):\n",
        "        # Your code goes here. ################################################\n",
        "        sigmoid = 1./(1.+np.exp(-input))\n",
        "        self.gradInput = gradOutput*sigmoid\n",
        "        return self.gradInput\n",
        "\n",
        "    def __repr__(self):\n",
        "        return \"SoftPlus\""
      ],
      "outputs": [],
      "execution_count": 16
    },
    {
      "cell_type": "markdown",
      "source": [
        "#13. (0.2) Gelu\n",
        "Implement [**Gelu**](https://pytorch.org/docs/stable/generated/torch.nn.GELU.html) activations."
      ],
      "metadata": {
        "id": "kw3PeZjOuo0e"
      }
    },
    {
      "cell_type": "code",
      "source": [
        "class Gelu(Module):\n",
        "    def __init__(self):\n",
        "        super(Gelu, self).__init__()\n",
        "\n",
        "    def updateOutput(self, input):\n",
        "        # Your code goes here. ################################################\n",
        "        self.output = 0.5*input*(1. + np.tanh(np.sqrt(2./np.pi)*(input+0.044715*input**3)))\n",
        "        return self.output\n",
        "\n",
        "    def updateGradInput(self, input, gradOutput):\n",
        "        # Your code goes here. ################################################\n",
        "        x = input\n",
        "        t = np.sqrt(2./np.pi)\n",
        "        inner = t*(x+0.044715*x**3)\n",
        "        grad_inner = t*(1.+3.*0.044715*x**2)\n",
        "        tmp = 0.5*(1.+np.tanh(inner)) + 0.5*x*(1.-np.tanh(inner)**2)*grad_inner\n",
        "        self.gradInput = gradOutput*tmp\n",
        "        return self.gradInput\n",
        "\n",
        "    def __repr__(self):\n",
        "        return \"Gelu\""
      ],
      "metadata": {
        "id": "SdieE0Dtuo8j",
        "ExecuteTime": {
          "end_time": "2025-03-29T18:29:47.265877Z",
          "start_time": "2025-03-29T18:29:47.261205Z"
        }
      },
      "outputs": [],
      "execution_count": 17
    },
    {
      "cell_type": "markdown",
      "metadata": {
        "id": "55p7UvPAj6ec"
      },
      "source": [
        "# Criterions"
      ]
    },
    {
      "cell_type": "markdown",
      "metadata": {
        "id": "5NFaxZaqj6ec"
      },
      "source": [
        "Criterions are used to score the models answers."
      ]
    },
    {
      "cell_type": "code",
      "metadata": {
        "id": "XGu45A8qj6ec",
        "ExecuteTime": {
          "end_time": "2025-03-29T18:30:17.882028Z",
          "start_time": "2025-03-29T18:30:17.879141Z"
        }
      },
      "source": [
        "class Criterion(object):\n",
        "    def __init__ (self):\n",
        "        self.output = None\n",
        "        self.gradInput = None\n",
        "\n",
        "    def forward(self, input, target):\n",
        "        \"\"\"\n",
        "            Given an input and a target, compute the loss function\n",
        "            associated to the criterion and return the result.\n",
        "\n",
        "            For consistency this function should not be overrided,\n",
        "            all the code goes in `updateOutput`.\n",
        "        \"\"\"\n",
        "        return self.updateOutput(input, target)\n",
        "\n",
        "    def backward(self, input, target):\n",
        "        \"\"\"\n",
        "            Given an input and a target, compute the gradients of the loss function\n",
        "            associated to the criterion and return the result.\n",
        "\n",
        "            For consistency this function should not be overrided,\n",
        "            all the code goes in `updateGradInput`.\n",
        "        \"\"\"\n",
        "        return self.updateGradInput(input, target)\n",
        "\n",
        "    def updateOutput(self, input, target):\n",
        "        \"\"\"\n",
        "        Function to override.\n",
        "        \"\"\"\n",
        "        return self.output\n",
        "\n",
        "    def updateGradInput(self, input, target):\n",
        "        \"\"\"\n",
        "        Function to override.\n",
        "        \"\"\"\n",
        "        return self.gradInput\n",
        "\n",
        "    def __repr__(self):\n",
        "        \"\"\"\n",
        "        Pretty printing. Should be overrided in every module if you want\n",
        "        to have readable description.\n",
        "        \"\"\"\n",
        "        return \"Criterion\""
      ],
      "outputs": [],
      "execution_count": 18
    },
    {
      "cell_type": "markdown",
      "metadata": {
        "id": "WuU26xkpj6ec"
      },
      "source": [
        "The **MSECriterion**, which is basic L2 norm usually used for regression, is implemented here for you.\n",
        "- input:   **`batch_size x n_feats`**\n",
        "- target: **`batch_size x n_feats`**\n",
        "- output: **scalar**"
      ]
    },
    {
      "cell_type": "code",
      "metadata": {
        "id": "-i3VNuHhj6ec",
        "ExecuteTime": {
          "end_time": "2025-03-29T18:30:19.319277Z",
          "start_time": "2025-03-29T18:30:19.315759Z"
        }
      },
      "source": [
        "class MSECriterion(Criterion):\n",
        "    def __init__(self):\n",
        "        super(MSECriterion, self).__init__()\n",
        "\n",
        "    def updateOutput(self, input, target):\n",
        "        self.output = np.sum(np.power(input - target,2)) / input.shape[0]\n",
        "        return self.output\n",
        "\n",
        "    def updateGradInput(self, input, target):\n",
        "        self.gradInput  = (input - target) * 2 / input.shape[0]\n",
        "        return self.gradInput\n",
        "\n",
        "    def __repr__(self):\n",
        "        return \"MSECriterion\""
      ],
      "outputs": [],
      "execution_count": 19
    },
    {
      "cell_type": "markdown",
      "metadata": {
        "id": "x8LKLWNVj6ec"
      },
      "source": [
        "## 14. (0.2) Negative LogLikelihood criterion (numerically unstable)\n",
        "You task is to implement the **ClassNLLCriterion**. It should implement [multiclass log loss](http://scikit-learn.org/stable/modules/model_evaluation.html#log-loss). Nevertheless there is a sum over `y` (target) in that formula,\n",
        "remember that targets are one-hot encoded. This fact simplifies the computations a lot. Note, that criterions are the only places, where you divide by batch size. Also there is a small hack with adding small number to probabilities to avoid computing log(0).\n",
        "- input:   **`batch_size x n_feats`** - probabilities\n",
        "- target: **`batch_size x n_feats`** - one-hot representation of ground truth\n",
        "- output: **scalar**\n",
        "\n"
      ]
    },
    {
      "cell_type": "code",
      "metadata": {
        "id": "die7KvW6j6ec",
        "ExecuteTime": {
          "end_time": "2025-03-29T18:31:27.630552Z",
          "start_time": "2025-03-29T18:31:27.627895Z"
        }
      },
      "source": [
        "class ClassNLLCriterionUnstable(Criterion):\n",
        "    EPS = 1e-15\n",
        "    def __init__(self):\n",
        "        a = super(ClassNLLCriterionUnstable, self)\n",
        "        super(ClassNLLCriterionUnstable, self).__init__()\n",
        "\n",
        "    def updateOutput(self, input, target):\n",
        "\n",
        "        # Use this trick to avoid numerical errors\n",
        "        input_clamp = np.clip(input, self.EPS, 1 - self.EPS)\n",
        "\n",
        "        # Your code goes here. ################################################\n",
        "        log_probs = np.log(input_clamp)\n",
        "        self.output = -np.sum(target*log_probs)/input.shape[0]\n",
        "        return self.output\n",
        "\n",
        "    def updateGradInput(self, input, target):\n",
        "\n",
        "        # Use this trick to avoid numerical errors\n",
        "        input_clamp = np.clip(input, self.EPS, 1 - self.EPS)\n",
        "\n",
        "        # Your code goes here. ################################################\n",
        "        self.gradInput = -(target / input_clamp)/input.shape[0]\n",
        "        return self.gradInput\n",
        "\n",
        "    def __repr__(self):\n",
        "        return \"ClassNLLCriterionUnstable\""
      ],
      "outputs": [],
      "execution_count": 20
    },
    {
      "cell_type": "markdown",
      "metadata": {
        "id": "uHr_JbU5j6ec"
      },
      "source": [
        "## 15. (0.3) Negative LogLikelihood criterion (numerically stable)\n",
        "- input:   **`batch_size x n_feats`** - log probabilities\n",
        "- target: **`batch_size x n_feats`** - one-hot representation of ground truth\n",
        "- output: **scalar**\n",
        "\n",
        "Task is similar to the previous one, but now the criterion input is the output of log-softmax layer. This decomposition allows us to avoid problems with computation of forward and backward of log()."
      ]
    },
    {
      "cell_type": "code",
      "metadata": {
        "collapsed": true,
        "id": "v7N8bVP9j6ec",
        "ExecuteTime": {
          "end_time": "2025-03-29T18:32:05.051540Z",
          "start_time": "2025-03-29T18:32:05.049429Z"
        }
      },
      "source": [
        "class ClassNLLCriterion(Criterion):\n",
        "    def __init__(self):\n",
        "        a = super(ClassNLLCriterion, self)\n",
        "        super(ClassNLLCriterion, self).__init__()\n",
        "\n",
        "    def updateOutput(self, input, target):\n",
        "        # Your code goes here. ################################################\n",
        "        self.output = -np.sum(target*input)/input.shape[0]\n",
        "        return self.output\n",
        "\n",
        "    def updateGradInput(self, input, target):\n",
        "        # Your code goes here. ################################################\n",
        "        self.gradInput = -(target)/input.shape[0]\n",
        "        return self.gradInput\n",
        "\n",
        "    def __repr__(self):\n",
        "        return \"ClassNLLCriterion\""
      ],
      "outputs": [],
      "execution_count": 21
    },
    {
      "cell_type": "code",
      "execution_count": 21,
      "metadata": {
        "collapsed": true,
        "id": "E-ZnhKxaj6ed"
      },
      "outputs": [],
      "source": []
    },
    {
      "cell_type": "markdown",
      "source": [
        "1-я часть задания: реализация слоев, лоссов и функций активации - 5 баллов. \\\\\n",
        "2-я часть задания: реализация моделей на своих классах. Что должно быть:\n",
        "  1. Выберите оптимизатор и реализуйте его, чтоб он работал с вами классами. - 1 балл.\n",
        "  2. Модель для задачи мультирегрессии на выбраных вами данных. Использовать FCNN, dropout, batchnorm, MSE. Пробуйте различные фукнции активации. Для первой модели попробуйте большую, среднюю и маленькую модель. - 1 балл.\n",
        "  3. Модель для задачи мультиклассификации на MNIST. Использовать свёртки, макспулы, флэттэны, софтмаксы - 1 балла.\n",
        "  4. Автоэнкодер для выбранных вами данных. Должен быть на свёртках и полносвязных слоях, дропаутах, батчнормах и тд. - 2 балла. \\\\\n",
        "\n",
        "Дополнительно в оценке каждой модели будет учитываться:\n",
        "1. Наличие правильно выбранной метрики и лосс функции.\n",
        "2. Отрисовка графиков лоссов и метрик на трейне-валидации. Проверка качества модели на тесте.\n",
        "3. Наличие шедулера для lr.\n",
        "4. Наличие вормапа.\n",
        "5. Наличие механизма ранней остановки и сохранение лучшей модели.\n",
        "6. Возможность переключать лосс/метрику и оптимайзер."
      ],
      "metadata": {
        "id": "TC2Bf1PP2Ios"
      }
    },
    {
      "metadata": {
        "ExecuteTime": {
          "end_time": "2025-03-29T22:05:17.684636Z",
          "start_time": "2025-03-29T22:05:17.681724Z"
        },
        "id": "F8xYfhRDUlby"
      },
      "cell_type": "code",
      "source": [
        "import numpy as np\n",
        "import matplotlib.pyplot as plt\n",
        "import copy\n",
        "from copy import deepcopy"
      ],
      "outputs": [],
      "execution_count": 22
    },
    {
      "metadata": {
        "ExecuteTime": {
          "end_time": "2025-03-29T22:05:30.260394Z",
          "start_time": "2025-03-29T22:05:30.254001Z"
        },
        "id": "bvX8k2EaUlby"
      },
      "cell_type": "code",
      "source": [
        "class SGD:\n",
        "    def __init__(self, lr=0.01):\n",
        "\n",
        "        self.lr = lr\n",
        "\n",
        "    def step(self, model):\n",
        "\n",
        "        for layer in model.modules:\n",
        "\n",
        "            if hasattr(layer, 'W') and hasattr(layer, 'gradW'):\n",
        "                layer.W -= self.lr * layer.gradW\n",
        "            if hasattr(layer, 'b') and hasattr(layer, 'gradb'):\n",
        "                layer.b -= self.lr * layer.gradb\n",
        "\n",
        "            if hasattr(layer, 'gamma') and hasattr(layer, 'gradGamma'):\n",
        "                layer.gamma -= self.lr * layer.gradGamma\n",
        "            if hasattr(layer, 'beta') and hasattr(layer, 'gradBeta'):\n",
        "                layer.beta -= self.lr * layer.gradBeta\n",
        "\n",
        "def compute_rmse(y_true, y_pred):\n",
        "\n",
        "    return np.sqrt(np.mean((y_true - y_pred)**2))\n",
        "\n",
        "def compute_mae(y_true, y_pred):\n",
        "\n",
        "    return np.mean(np.abs(y_true - y_pred))\n",
        "\n",
        "def compute_accuracy(y_true, y_pred):\n",
        "\n",
        "    return np.mean(y_true == y_pred)\n"
      ],
      "outputs": [],
      "execution_count": 46
    },
    {
      "metadata": {
        "ExecuteTime": {
          "end_time": "2025-03-29T22:05:49.950666Z",
          "start_time": "2025-03-29T22:05:48.270504Z"
        },
        "colab": {
          "base_uri": "https://localhost:8080/"
        },
        "id": "5kuHIR_JUlbz",
        "outputId": "4caf29e5-e727-489a-fdfa-8a327b8c8678"
      },
      "cell_type": "code",
      "source": [
        "from sklearn.datasets import fetch_california_housing\n",
        "from sklearn.model_selection import train_test_split\n",
        "from sklearn.preprocessing import StandardScaler\n",
        "\n",
        "X_cal, y_cal = fetch_california_housing(return_X_y=True)\n",
        "print(\"California Housing dataset shape:\", X_cal.shape, y_cal.shape)\n",
        "\n",
        "\n",
        "X_cal_train, X_cal_temp, y_cal_train, y_cal_temp = train_test_split(X_cal, y_cal, test_size=0.4, random_state=42)\n",
        "X_cal_val, X_cal_test, y_cal_val, y_cal_test = train_test_split(X_cal_temp, y_cal_temp, test_size=0.5, random_state=42)\n",
        "\n",
        "print(\"Train size:\", X_cal_train.shape[0], \"Val size:\", X_cal_val.shape[0], \"Test size:\", X_cal_test.shape[0])\n",
        "\n",
        "\n",
        "scaler = StandardScaler()\n",
        "X_cal_train = scaler.fit_transform(X_cal_train)\n",
        "X_cal_val = scaler.transform(X_cal_val)\n",
        "X_cal_test = scaler.transform(X_cal_test)\n",
        "\n",
        "\n",
        "y_cal_train = y_cal_train.reshape(-1, 1)\n",
        "y_cal_val = y_cal_val.reshape(-1, 1)\n",
        "y_cal_test = y_cal_test.reshape(-1, 1)\n"
      ],
      "outputs": [
        {
          "output_type": "stream",
          "name": "stdout",
          "text": [
            "California Housing dataset shape: (20640, 8) (20640,)\n",
            "Train size: 12384 Val size: 4128 Test size: 4128\n"
          ]
        }
      ],
      "execution_count": 50
    },
    {
      "metadata": {
        "ExecuteTime": {
          "end_time": "2025-03-29T22:06:00.136265Z",
          "start_time": "2025-03-29T22:06:00.132622Z"
        },
        "id": "nci1Lo-ZUlbz"
      },
      "cell_type": "code",
      "source": [
        "def build_fcnn(layer_sizes,\n",
        "               activation_class,\n",
        "               use_batchnorm=True,\n",
        "               dropout_rate=0.0):\n",
        "    \"\"\"\n",
        "    Builds an FCNN model of type:\n",
        "    [Linear -> (BatchNorm) -> Activation -> (Dropout)] ... -> Linear (last layer)\n",
        "    Layer_sizes: list, eg [8, 32, 16, 1]\n",
        "    active_class: activation class (ReLU, ELU, ...)\n",
        "    use_batchnorm: bool, as BN\n",
        "    dropout_rate: dropout probability\n",
        "    \"\"\"\n",
        "    model = Sequential()\n",
        "    for i in range(len(layer_sizes) - 2):\n",
        "        in_dim = layer_sizes[i]\n",
        "        out_dim = layer_sizes[i+1]\n",
        "        model.add(Linear(in_dim, out_dim))\n",
        "        if use_batchnorm:\n",
        "            model.add(BatchNormalization())\n",
        "        model.add(activation_class())\n",
        "        if dropout_rate > 0:\n",
        "            model.add(Dropout(p=dropout_rate))\n",
        "\n",
        "    model.add(Linear(layer_sizes[-2], layer_sizes[-1]))\n",
        "    return model\n"
      ],
      "outputs": [],
      "execution_count": 51
    },
    {
      "metadata": {
        "ExecuteTime": {
          "end_time": "2025-03-29T22:06:09.779894Z",
          "start_time": "2025-03-29T22:06:09.772776Z"
        },
        "id": "f7kOsXvVUlbz"
      },
      "cell_type": "code",
      "source": [
        "def train_regression_model(model,\n",
        "                           X_train, y_train,\n",
        "                           X_val, y_val,\n",
        "                           criterion,\n",
        "                           metric_func,\n",
        "                           optimizer,\n",
        "                           num_epochs=50,\n",
        "                           batch_size=32,\n",
        "                           warmup_epochs=5,\n",
        "                           lr_decay_epochs=[30, 40],\n",
        "                           lr_decay_factor=0.5,\n",
        "                           patience=10):\n",
        "\n",
        "    train_loss_history = []\n",
        "    val_loss_history = []\n",
        "    val_metric_history = []\n",
        "\n",
        "    best_val_metric = float('inf')\n",
        "    best_model_state = None\n",
        "    epochs_no_improve = 0\n",
        "\n",
        "    base_lr = optimizer.lr\n",
        "    initial_lr = base_lr / 10.0\n",
        "    optimizer.lr = initial_lr\n",
        "\n",
        "    N = X_train.shape[0]\n",
        "    for epoch in range(1, num_epochs + 1):\n",
        "        # Warmup\n",
        "        if epoch <= warmup_epochs:\n",
        "            progress = float(epoch) / warmup_epochs\n",
        "            optimizer.lr = initial_lr + (base_lr - initial_lr) * progress\n",
        "\n",
        "        # Scheduler\n",
        "        if epoch in lr_decay_epochs:\n",
        "            optimizer.lr *= lr_decay_factor\n",
        "\n",
        "        # TRAIN\n",
        "        model.train()\n",
        "        model.zeroGradParameters()\n",
        "        indices = np.random.permutation(N)\n",
        "        epoch_loss = 0.0\n",
        "        for i in range(0, N, batch_size):\n",
        "            batch_idx = indices[i:i + batch_size]\n",
        "            Xb = X_train[batch_idx]\n",
        "            yb = y_train[batch_idx]\n",
        "\n",
        "            out = model.forward(Xb)\n",
        "            loss = criterion.forward(out, yb)\n",
        "            epoch_loss += loss * len(batch_idx)\n",
        "\n",
        "            grad = criterion.backward(out, yb)\n",
        "            model.backward(Xb, grad)\n",
        "\n",
        "            optimizer.step(model)\n",
        "\n",
        "        epoch_loss /= N\n",
        "        train_loss_history.append(epoch_loss)\n",
        "\n",
        "        # VAL\n",
        "        model.evaluate()\n",
        "        out_val = model.forward(X_val)\n",
        "        val_loss = criterion.forward(out_val, y_val)\n",
        "        val_loss_history.append(val_loss)\n",
        "\n",
        "\n",
        "        val_pred = out_val  # (N,1)\n",
        "        val_true = y_val\n",
        "        val_m = metric_func(val_true.flatten(), val_pred.flatten())\n",
        "        val_metric_history.append(val_m)\n",
        "\n",
        "        # Early stopping\n",
        "        if val_m < best_val_metric:\n",
        "            best_val_metric = val_m\n",
        "            best_model_state = copy.deepcopy(model)\n",
        "            epochs_no_improve = 0\n",
        "        else:\n",
        "            epochs_no_improve += 1\n",
        "\n",
        "        print(f\"Epoch {epoch:3d}, lr={optimizer.lr:.5f}, train_loss={epoch_loss:.4f}, \"\n",
        "              f\"val_loss={val_loss:.4f}, val_metric={val_m:.4f}\")\n",
        "\n",
        "        if epochs_no_improve >= patience:\n",
        "            print(\"Early stopping!\")\n",
        "            break\n",
        "\n",
        "    return best_model_state, (train_loss_history, val_loss_history, val_metric_history)\n"
      ],
      "outputs": [],
      "execution_count": 52
    },
    {
      "metadata": {
        "ExecuteTime": {
          "end_time": "2025-03-29T22:06:23.912820Z",
          "start_time": "2025-03-29T22:06:18.425286Z"
        },
        "colab": {
          "base_uri": "https://localhost:8080/"
        },
        "id": "qSsD-aPTUlbz",
        "outputId": "c2cac178-6123-46e6-be74-92dc4f58aacb"
      },
      "cell_type": "code",
      "source": [
        "from copy import deepcopy\n",
        "\n",
        "small_net = build_fcnn([8, 16, 1], activation_class=ReLU, use_batchnorm=True, dropout_rate=0.1)\n",
        "medium_net = build_fcnn([8, 64, 32, 1], activation_class=LeakyReLU, use_batchnorm=True, dropout_rate=0.2)\n",
        "large_net = build_fcnn([8, 128, 64, 32, 1], activation_class=ELU, use_batchnorm=True, dropout_rate=0.3)\n",
        "\n",
        "print(\"== Train SMALL net ==\")\n",
        "opt_small = SGD(lr=0.001)\n",
        "small_best, small_logs = train_regression_model(\n",
        "    small_net,\n",
        "    X_cal_train, y_cal_train,\n",
        "    X_cal_val, y_cal_val,\n",
        "    criterion=MSECriterion(),\n",
        "    metric_func=compute_rmse,\n",
        "    optimizer=opt_small,\n",
        "    num_epochs=100,\n",
        "    batch_size=32,\n",
        "    warmup_epochs=5,\n",
        "    lr_decay_epochs=[50, 80],\n",
        "    lr_decay_factor=0.5,\n",
        "    patience=10\n",
        ")\n",
        "\n",
        "print(\"\\n== Train MEDIUM net ==\")\n",
        "medium_net = build_fcnn([8, 64, 32, 1], activation_class=LeakyReLU, use_batchnorm=True, dropout_rate=0.2)\n",
        "opt_med = SGD(lr=0.001)\n",
        "medium_best, medium_logs = train_regression_model(\n",
        "    medium_net,\n",
        "    X_cal_train, y_cal_train,\n",
        "    X_cal_val, y_cal_val,\n",
        "    criterion=MSECriterion(),\n",
        "    metric_func=compute_rmse,\n",
        "    optimizer=opt_med,\n",
        "    num_epochs=100,\n",
        "    batch_size=32,\n",
        "    warmup_epochs=5,\n",
        "    lr_decay_epochs=[50, 80],\n",
        "    lr_decay_factor=0.5,\n",
        "    patience=10\n",
        ")\n",
        "\n",
        "print(\"\\n== Train LARGE net ==\")\n",
        "large_net = build_fcnn([8, 128, 64, 32, 1], activation_class=ELU, use_batchnorm=True, dropout_rate=0.3)\n",
        "opt_large = SGD(lr=0.001)\n",
        "large_best, large_logs = train_regression_model(\n",
        "    large_net,\n",
        "    X_cal_train, y_cal_train,\n",
        "    X_cal_val, y_cal_val,\n",
        "    criterion=MSECriterion(),\n",
        "    metric_func=compute_rmse,\n",
        "    optimizer=opt_large,\n",
        "    num_epochs=100,\n",
        "    batch_size=32,\n",
        "    warmup_epochs=5,\n",
        "    lr_decay_epochs=[50, 80],\n",
        "    lr_decay_factor=0.5,\n",
        "    patience=10\n",
        ")"
      ],
      "outputs": [
        {
          "output_type": "stream",
          "name": "stdout",
          "text": [
            "== Train SMALL net ==\n",
            "Epoch   1, lr=0.00028, train_loss=2.7003, val_loss=2.4606, val_metric=1.5686\n",
            "Epoch   2, lr=0.00046, train_loss=1.8606, val_loss=0.9454, val_metric=0.9723\n",
            "Epoch   3, lr=0.00064, train_loss=0.9064, val_loss=0.6272, val_metric=0.7920\n",
            "Epoch   4, lr=0.00082, train_loss=0.7447, val_loss=0.6322, val_metric=0.7951\n",
            "Epoch   5, lr=0.00100, train_loss=0.7070, val_loss=0.7427, val_metric=0.8618\n",
            "Epoch   6, lr=0.00100, train_loss=0.6935, val_loss=0.6466, val_metric=0.8041\n",
            "Epoch   7, lr=0.00100, train_loss=0.7154, val_loss=0.7348, val_metric=0.8572\n",
            "Epoch   8, lr=0.00100, train_loss=0.7373, val_loss=0.8927, val_metric=0.9448\n",
            "Epoch   9, lr=0.00100, train_loss=0.7741, val_loss=1.5177, val_metric=1.2319\n",
            "Epoch  10, lr=0.00100, train_loss=0.8586, val_loss=1.2575, val_metric=1.1214\n",
            "Epoch  11, lr=0.00100, train_loss=0.7333, val_loss=0.6047, val_metric=0.7777\n",
            "Epoch  12, lr=0.00100, train_loss=0.6144, val_loss=0.6336, val_metric=0.7960\n",
            "Epoch  13, lr=0.00100, train_loss=0.5649, val_loss=0.6973, val_metric=0.8351\n",
            "Epoch  14, lr=0.00100, train_loss=0.6762, val_loss=1.0019, val_metric=1.0010\n",
            "Epoch  15, lr=0.00100, train_loss=0.6487, val_loss=0.4942, val_metric=0.7030\n",
            "Epoch  16, lr=0.00100, train_loss=0.6394, val_loss=0.6693, val_metric=0.8181\n",
            "Epoch  17, lr=0.00100, train_loss=0.5747, val_loss=0.6550, val_metric=0.8093\n",
            "Epoch  18, lr=0.00100, train_loss=0.6042, val_loss=0.6626, val_metric=0.8140\n",
            "Epoch  19, lr=0.00100, train_loss=0.6120, val_loss=0.6076, val_metric=0.7795\n",
            "Epoch  20, lr=0.00100, train_loss=0.6026, val_loss=0.5257, val_metric=0.7251\n",
            "Epoch  21, lr=0.00100, train_loss=0.5429, val_loss=0.4932, val_metric=0.7023\n",
            "Epoch  22, lr=0.00100, train_loss=0.5334, val_loss=0.6009, val_metric=0.7752\n",
            "Epoch  23, lr=0.00100, train_loss=0.5549, val_loss=0.5468, val_metric=0.7394\n",
            "Epoch  24, lr=0.00100, train_loss=0.6680, val_loss=0.9348, val_metric=0.9669\n",
            "Epoch  25, lr=0.00100, train_loss=0.8625, val_loss=0.7555, val_metric=0.8692\n",
            "Epoch  26, lr=0.00100, train_loss=0.5737, val_loss=0.5218, val_metric=0.7223\n",
            "Epoch  27, lr=0.00100, train_loss=0.5540, val_loss=0.5523, val_metric=0.7432\n",
            "Epoch  28, lr=0.00100, train_loss=0.5734, val_loss=0.6225, val_metric=0.7890\n",
            "Epoch  29, lr=0.00100, train_loss=0.5441, val_loss=0.5057, val_metric=0.7112\n",
            "Epoch  30, lr=0.00100, train_loss=0.6212, val_loss=0.5779, val_metric=0.7602\n",
            "Epoch  31, lr=0.00100, train_loss=0.7826, val_loss=0.6238, val_metric=0.7898\n",
            "Early stopping!\n",
            "\n",
            "== Train MEDIUM net ==\n",
            "Epoch   1, lr=0.00028, train_loss=2.7483, val_loss=4.6130, val_metric=2.1478\n",
            "Epoch   2, lr=0.00046, train_loss=2.2914, val_loss=0.8004, val_metric=0.8946\n",
            "Epoch   3, lr=0.00064, train_loss=0.8312, val_loss=0.8819, val_metric=0.9391\n",
            "Epoch   4, lr=0.00082, train_loss=0.8273, val_loss=1.0332, val_metric=1.0165\n",
            "Epoch   5, lr=0.00100, train_loss=0.8174, val_loss=0.5578, val_metric=0.7469\n",
            "Epoch   6, lr=0.00100, train_loss=0.6331, val_loss=0.5893, val_metric=0.7677\n",
            "Epoch   7, lr=0.00100, train_loss=0.6412, val_loss=0.6398, val_metric=0.7999\n",
            "Epoch   8, lr=0.00100, train_loss=0.6349, val_loss=0.6440, val_metric=0.8025\n",
            "Epoch   9, lr=0.00100, train_loss=0.7200, val_loss=0.6726, val_metric=0.8201\n",
            "Epoch  10, lr=0.00100, train_loss=0.7400, val_loss=0.5728, val_metric=0.7568\n",
            "Epoch  11, lr=0.00100, train_loss=0.6369, val_loss=1.4209, val_metric=1.1920\n",
            "Epoch  12, lr=0.00100, train_loss=0.6510, val_loss=0.9086, val_metric=0.9532\n",
            "Epoch  13, lr=0.00100, train_loss=0.6787, val_loss=0.6665, val_metric=0.8164\n",
            "Epoch  14, lr=0.00100, train_loss=0.6395, val_loss=0.9654, val_metric=0.9826\n",
            "Epoch  15, lr=0.00100, train_loss=0.6845, val_loss=0.8993, val_metric=0.9483\n",
            "Early stopping!\n",
            "\n",
            "== Train LARGE net ==\n",
            "Epoch   1, lr=0.00028, train_loss=2.1450, val_loss=1.5711, val_metric=1.2534\n",
            "Epoch   2, lr=0.00046, train_loss=1.2612, val_loss=1.7032, val_metric=1.3051\n",
            "Epoch   3, lr=0.00064, train_loss=1.1163, val_loss=0.6542, val_metric=0.8089\n",
            "Epoch   4, lr=0.00082, train_loss=0.8801, val_loss=0.7901, val_metric=0.8889\n",
            "Epoch   5, lr=0.00100, train_loss=0.8276, val_loss=0.8617, val_metric=0.9283\n",
            "Epoch   6, lr=0.00100, train_loss=0.9734, val_loss=0.7175, val_metric=0.8470\n",
            "Epoch   7, lr=0.00100, train_loss=0.8565, val_loss=0.5587, val_metric=0.7475\n",
            "Epoch   8, lr=0.00100, train_loss=0.9564, val_loss=1.1574, val_metric=1.0758\n",
            "Epoch   9, lr=0.00100, train_loss=0.9778, val_loss=0.7628, val_metric=0.8734\n",
            "Epoch  10, lr=0.00100, train_loss=0.8145, val_loss=1.0499, val_metric=1.0246\n",
            "Epoch  11, lr=0.00100, train_loss=0.7198, val_loss=0.6892, val_metric=0.8302\n",
            "Epoch  12, lr=0.00100, train_loss=0.7457, val_loss=0.7393, val_metric=0.8598\n",
            "Epoch  13, lr=0.00100, train_loss=0.7608, val_loss=1.5228, val_metric=1.2340\n",
            "Epoch  14, lr=0.00100, train_loss=1.2294, val_loss=0.8476, val_metric=0.9206\n",
            "Epoch  15, lr=0.00100, train_loss=0.7829, val_loss=0.5129, val_metric=0.7162\n",
            "Epoch  16, lr=0.00100, train_loss=0.6960, val_loss=0.7803, val_metric=0.8834\n",
            "Epoch  17, lr=0.00100, train_loss=0.8588, val_loss=0.9723, val_metric=0.9860\n",
            "Epoch  18, lr=0.00100, train_loss=1.1230, val_loss=1.1906, val_metric=1.0911\n",
            "Epoch  19, lr=0.00100, train_loss=1.1499, val_loss=1.0016, val_metric=1.0008\n",
            "Epoch  20, lr=0.00100, train_loss=0.8303, val_loss=0.6102, val_metric=0.7811\n",
            "Epoch  21, lr=0.00100, train_loss=0.9969, val_loss=0.7670, val_metric=0.8758\n",
            "Epoch  22, lr=0.00100, train_loss=0.7383, val_loss=0.8130, val_metric=0.9017\n",
            "Epoch  23, lr=0.00100, train_loss=0.7231, val_loss=0.9362, val_metric=0.9676\n",
            "Epoch  24, lr=0.00100, train_loss=0.8253, val_loss=1.0381, val_metric=1.0189\n",
            "Epoch  25, lr=0.00100, train_loss=1.0238, val_loss=0.4370, val_metric=0.6611\n",
            "Epoch  26, lr=0.00100, train_loss=0.7167, val_loss=0.5128, val_metric=0.7161\n",
            "Epoch  27, lr=0.00100, train_loss=0.8763, val_loss=0.5981, val_metric=0.7734\n",
            "Epoch  28, lr=0.00100, train_loss=0.7053, val_loss=0.5437, val_metric=0.7374\n",
            "Epoch  29, lr=0.00100, train_loss=0.6788, val_loss=0.5337, val_metric=0.7305\n",
            "Epoch  30, lr=0.00100, train_loss=0.7269, val_loss=0.7874, val_metric=0.8873\n",
            "Epoch  31, lr=0.00100, train_loss=0.7445, val_loss=0.7775, val_metric=0.8818\n",
            "Epoch  32, lr=0.00100, train_loss=0.6653, val_loss=0.7019, val_metric=0.8378\n",
            "Epoch  33, lr=0.00100, train_loss=0.6890, val_loss=0.5047, val_metric=0.7104\n",
            "Epoch  34, lr=0.00100, train_loss=0.6864, val_loss=0.4926, val_metric=0.7018\n",
            "Epoch  35, lr=0.00100, train_loss=0.7458, val_loss=0.8694, val_metric=0.9324\n",
            "Early stopping!\n"
          ]
        }
      ],
      "execution_count": 53
    },
    {
      "metadata": {
        "ExecuteTime": {
          "end_time": "2025-03-29T22:06:35.324481Z",
          "start_time": "2025-03-29T22:06:34.872238Z"
        },
        "colab": {
          "base_uri": "https://localhost:8080/",
          "height": 1000
        },
        "id": "oXr5e5eLUlbz",
        "outputId": "344d3fd1-4d62-45fa-b48d-c794ca796f13"
      },
      "cell_type": "code",
      "source": [
        "def plot_training(history, title=\"Model\"):\n",
        "    tr_loss, val_loss, val_met = history\n",
        "    epochs = range(1, len(tr_loss) + 1)\n",
        "\n",
        "    plt.figure(figsize=(12, 4))\n",
        "    plt.subplot(1, 2, 1)\n",
        "    plt.plot(epochs, tr_loss, label=\"Train Loss\")\n",
        "    plt.plot(epochs, val_loss, label=\"Val Loss\")\n",
        "    plt.xlabel(\"Epoch\");\n",
        "    plt.ylabel(\"Loss\")\n",
        "    plt.title(f\"{title} Loss\")\n",
        "    plt.legend()\n",
        "\n",
        "    plt.subplot(1, 2, 2)\n",
        "    plt.plot(epochs, val_met, label=\"Val Metric\")\n",
        "    plt.xlabel(\"Epoch\");\n",
        "    plt.ylabel(\"RMSE (пример)\")\n",
        "    plt.title(f\"{title} Validation RMSE\")\n",
        "    plt.legend()\n",
        "    plt.show()\n",
        "\n",
        "\n",
        "print(\"=== SMALL ===\")\n",
        "plot_training(small_logs, title=\"Small net\")\n",
        "print(\"=== MEDIUM ===\")\n",
        "plot_training(medium_logs, title=\"Medium net\")\n",
        "print(\"=== LARGE ===\")\n",
        "plot_training(large_logs, title=\"Large net\")\n",
        "\n",
        "\n",
        "\n",
        "def evaluate_on_test(model, X_test, y_test, metric_func):\n",
        "    model.evaluate()\n",
        "    pred = model.forward(X_test)\n",
        "    return metric_func(y_test.flatten(), pred.flatten())\n",
        "\n",
        "\n",
        "rmse_small_test = evaluate_on_test(small_best, X_cal_test, y_cal_test, compute_rmse)\n",
        "rmse_med_test = evaluate_on_test(medium_best, X_cal_test, y_cal_test, compute_rmse)\n",
        "rmse_lrg_test = evaluate_on_test(large_best, X_cal_test, y_cal_test, compute_rmse)\n",
        "\n",
        "print(f\"Small:  test RMSE = {rmse_small_test:.4f}\")\n",
        "print(f\"Medium: test RMSE = {rmse_med_test:.4f}\")\n",
        "print(f\"Large:  test RMSE = {rmse_lrg_test:.4f}\")"
      ],
      "outputs": [
        {
          "output_type": "stream",
          "name": "stdout",
          "text": [
            "=== SMALL ===\n"
          ]
        },
        {
          "output_type": "display_data",
          "data": {
            "text/plain": [
              "<Figure size 1200x400 with 2 Axes>"
            ],
            "image/png": "[encoded data removed]"
          },
          "metadata": {}
        },
        {
          "output_type": "stream",
          "name": "stdout",
          "text": [
            "=== MEDIUM ===\n"
          ]
        },
        {
          "output_type": "display_data",
          "data": {
            "text/plain": [
              "<Figure size 1200x400 with 2 Axes>"
            ],
            "image/png": "[encoded data removed]"
          },
          "metadata": {}
        },
        {
          "output_type": "stream",
          "name": "stdout",
          "text": [
            "=== LARGE ===\n"
          ]
        },
        {
          "output_type": "display_data",
          "data": {
            "text/plain": [
              "<Figure size 1200x400 with 2 Axes>"
            ],
            "image/png": "[encoded data removed]"
          },
          "metadata": {}
        },
        {
          "output_type": "stream",
          "name": "stdout",
          "text": [
            "Small:  test RMSE = 0.7569\n",
            "Medium: test RMSE = 0.7595\n",
            "Large:  test RMSE = 0.6539\n"
          ]
        }
      ],
      "execution_count": 54
    },
    {
      "metadata": {
        "id": "zu0xXv5MUlbz"
      },
      "cell_type": "code",
      "outputs": [],
      "execution_count": 28,
      "source": []
    },
    {
      "metadata": {
        "id": "yD1XHn_mUlb0"
      },
      "cell_type": "markdown",
      "source": [
        "# MNIST"
      ]
    },
    {
      "metadata": {
        "ExecuteTime": {
          "end_time": "2025-03-29T22:12:04.117163Z",
          "start_time": "2025-03-29T22:12:01.800368Z"
        },
        "colab": {
          "base_uri": "https://localhost:8080/"
        },
        "id": "_pZi-MDkUlb0",
        "outputId": "20d2c2ea-e0e1-4ecc-8777-f55ea0f06d89"
      },
      "cell_type": "code",
      "source": [
        "from sklearn.datasets import fetch_openml\n",
        "\n",
        "mnist_raw = fetch_openml('mnist_784', version=1,as_frame=False)\n",
        "X_mnist = mnist_raw['data'].astype(np.float32)\n",
        "y_mnist = mnist_raw['target'].astype(np.int32)\n",
        "\n",
        "\n",
        "X_mnist /= 255.0\n",
        "\n",
        "\n",
        "\n",
        "\n",
        "X_mnist_train = X_mnist[:2000]\n",
        "y_mnist_train = y_mnist[:2000]\n",
        "X_mnist_val   = X_mnist[2000:2500]\n",
        "y_mnist_val   = y_mnist[2000:2500]\n",
        "X_mnist_test  = X_mnist[2500:3000]\n",
        "y_mnist_test  = y_mnist[2500:3000]\n",
        "\n",
        "\n",
        "\n",
        "def to_4d(X):\n",
        "    return X.reshape(-1, 1, 28, 28)\n",
        "\n",
        "\n",
        "X_mnist_train = to_4d(X_mnist_train)\n",
        "X_mnist_val = to_4d(X_mnist_val)\n",
        "X_mnist_test = to_4d(X_mnist_test)\n",
        "\n",
        "print(\"MNIST:\", X_mnist_train.shape, X_mnist_val.shape, X_mnist_test.shape)"
      ],
      "outputs": [
        {
          "output_type": "stream",
          "name": "stdout",
          "text": [
            "MNIST: (2000, 1, 28, 28) (500, 1, 28, 28) (500, 1, 28, 28)\n"
          ]
        }
      ],
      "execution_count": 29
    },
    {
      "metadata": {
        "ExecuteTime": {
          "end_time": "2025-03-29T22:22:21.256537Z",
          "start_time": "2025-03-29T22:22:21.249836Z"
        },
        "colab": {
          "base_uri": "https://localhost:8080/"
        },
        "id": "BcDJe3bAUlb0",
        "outputId": "cfe221bb-40e6-434c-8e56-4ebe5e10d470"
      },
      "cell_type": "code",
      "source": [
        "def build_mnist_cnn():\n",
        "    model = Sequential()\n",
        "    model.add(Conv2d(in_channels=1, out_channels=8, kernel_size=3, padding=1))\n",
        "    model.add(ReLU())\n",
        "    model.add(MaxPool2d(kernel_size=2, stride=2, padding=0))  # 28->14\n",
        "    model.add(Conv2d(in_channels=8, out_channels=16, kernel_size=3, padding=1))\n",
        "    model.add(ReLU())\n",
        "    model.add(MaxPool2d(kernel_size=2, stride=2, padding=0))  # 14->7\n",
        "    model.add(Flatten(start_dim=1, end_dim=-1))\n",
        "    model.add(Linear(16 * 7 * 7, 128))\n",
        "    model.add(ReLU())\n",
        "    model.add(Linear(128, 10))\n",
        "    model.add(LogSoftMax())\n",
        "    return model\n",
        "\n",
        "\n",
        "cnn_mnist = build_mnist_cnn()\n",
        "print(cnn_mnist)"
      ],
      "outputs": [
        {
          "output_type": "stream",
          "name": "stdout",
          "text": [
            "Conv2d\n",
            "ReLU\n",
            "MaxPool2d\n",
            "Conv2d\n",
            "ReLU\n",
            "MaxPool2d\n",
            "Flatten\n",
            "Linear 784 -> 128\n",
            "ReLU\n",
            "Linear 128 -> 10\n",
            "LogSoftMax\n",
            "\n"
          ]
        }
      ],
      "execution_count": 30
    },
    {
      "metadata": {
        "ExecuteTime": {
          "end_time": "2025-03-29T22:22:22.121263Z",
          "start_time": "2025-03-29T22:22:22.116614Z"
        },
        "id": "9ycmyjOeUlb0"
      },
      "cell_type": "code",
      "source": [
        "def to_one_hot(y, num_classes=10):\n",
        "    N = y.shape[0]\n",
        "    oh = np.zeros((N, num_classes), dtype=np.float32)\n",
        "    oh[np.arange(N), y] = 1.0\n",
        "    return oh\n",
        "\n",
        "\n",
        "def train_classification_model(model,\n",
        "                               X_train, y_train_idx,\n",
        "                               X_val, y_val_idx,\n",
        "                               criterion,  # ClassNLLCriterion\n",
        "                               optimizer,\n",
        "                               num_epochs=10,\n",
        "                               batch_size=64,\n",
        "                               warmup_epochs=2,\n",
        "                               lr_decay_epochs=[5, 8],\n",
        "                               lr_decay_factor=0.5,\n",
        "                               patience=5):\n",
        "\n",
        "    # one-hot\n",
        "    y_train_oh = to_one_hot(y_train_idx, num_classes=10)\n",
        "    y_val_oh = to_one_hot(y_val_idx, num_classes=10)\n",
        "\n",
        "    train_loss_hist = []\n",
        "    val_loss_hist = []\n",
        "    val_acc_hist = []\n",
        "\n",
        "    best_val_acc = 0.0\n",
        "    best_model_state = None\n",
        "    epochs_no_improve = 0\n",
        "\n",
        "    base_lr = optimizer.lr\n",
        "    initial_lr = base_lr / 10.0\n",
        "    optimizer.lr = initial_lr\n",
        "\n",
        "    N = X_train.shape[0]\n",
        "    for epoch in range(1, num_epochs + 1):\n",
        "        # Warmup\n",
        "        if epoch <= warmup_epochs:\n",
        "            prog = epoch / warmup_epochs\n",
        "            optimizer.lr = initial_lr + (base_lr - initial_lr) * prog\n",
        "\n",
        "        # Scheduler\n",
        "        if epoch in lr_decay_epochs:\n",
        "            optimizer.lr *= lr_decay_factor\n",
        "\n",
        "        # TRAIN\n",
        "        model.train()\n",
        "        model.zeroGradParameters()\n",
        "        indices = np.random.permutation(N)\n",
        "        epoch_loss = 0.0\n",
        "        for i in range(0, N, batch_size):\n",
        "            b_idx = indices[i:i + batch_size]\n",
        "            Xb = X_train[b_idx]\n",
        "            yb_oh = y_train_oh[b_idx]\n",
        "\n",
        "            out = model.forward(Xb)  # (batch,10) log probability\n",
        "            loss = criterion.forward(out, yb_oh)\n",
        "            epoch_loss += loss * len(b_idx)\n",
        "\n",
        "            grad = criterion.backward(out, yb_oh)\n",
        "            model.backward(Xb, grad)\n",
        "\n",
        "            optimizer.step(model)\n",
        "\n",
        "        epoch_loss /= N\n",
        "        train_loss_hist.append(epoch_loss)\n",
        "\n",
        "        # VAL\n",
        "        model.evaluate()\n",
        "        val_out = model.forward(X_val)\n",
        "        val_loss = criterion.forward(val_out, y_val_oh)\n",
        "        val_loss_hist.append(val_loss)\n",
        "\n",
        "        # Accuracy\n",
        "        pred_labels = np.argmax(val_out, axis=1)\n",
        "        acc_val = compute_accuracy(y_val_idx, pred_labels)\n",
        "        val_acc_hist.append(acc_val)\n",
        "\n",
        "        if acc_val > best_val_acc:\n",
        "            best_val_acc = acc_val\n",
        "            best_model_state = copy.deepcopy(model)\n",
        "            epochs_no_improve = 0\n",
        "        else:\n",
        "            epochs_no_improve += 1\n",
        "\n",
        "        print(\n",
        "            f\"Epoch {epoch}, lr={optimizer.lr:.5f}, train_loss={epoch_loss:.4f}, val_loss={val_loss:.4f}, val_acc={acc_val * 100:.2f}%\")\n",
        "\n",
        "        if epochs_no_improve >= patience:\n",
        "            print(\"Early stopping!\")\n",
        "            break\n",
        "\n",
        "    return best_model_state, (train_loss_hist, val_loss_hist, val_acc_hist)"
      ],
      "outputs": [],
      "execution_count": 44
    },
    {
      "metadata": {
        "jupyter": {
          "is_executing": true
        },
        "ExecuteTime": {
          "start_time": "2025-03-30T08:09:22.550428Z"
        },
        "colab": {
          "base_uri": "https://localhost:8080/",
          "height": 597
        },
        "id": "ZzNvk2UBUlb0",
        "outputId": "ddb365f5-1281-4f07-bda3-49ef21d0f5c6"
      },
      "cell_type": "code",
      "source": [
        "mnist_model = build_mnist_cnn()\n",
        "optimizer_mnist = SGD(lr=0.01)\n",
        "criterion_mnist = ClassNLLCriterion()\n",
        "\n",
        "best_mnist, mnist_logs = train_classification_model(\n",
        "    mnist_model,\n",
        "    X_mnist_train, y_mnist_train,\n",
        "    X_mnist_val, y_mnist_val,\n",
        "    criterion=criterion_mnist,\n",
        "    optimizer=optimizer_mnist,\n",
        "    num_epochs=10,\n",
        "    batch_size=64,\n",
        "    warmup_epochs=2,\n",
        "    lr_decay_epochs=[5, 8],\n",
        "    lr_decay_factor=0.5,\n",
        "    patience=5\n",
        ")\n",
        "\n",
        "\n",
        "tr_loss, val_loss, val_acc = mnist_logs\n",
        "epochs = range(1, len(tr_loss) + 1)\n",
        "\n",
        "plt.figure(figsize=(12, 4))\n",
        "plt.subplot(1, 2, 1)\n",
        "plt.plot(epochs, tr_loss, label=\"Train Loss\")\n",
        "plt.plot(epochs, val_loss, label=\"Val Loss\")\n",
        "plt.xlabel(\"Epoch\");\n",
        "plt.ylabel(\"NLL\")\n",
        "plt.title(\"MNIST Train/Val Loss\")\n",
        "plt.legend()\n",
        "\n",
        "plt.subplot(1, 2, 2)\n",
        "plt.plot(epochs, val_acc, label=\"Val Accuracy\")\n",
        "plt.xlabel(\"Epoch\");\n",
        "plt.ylabel(\"Accuracy\")\n",
        "plt.title(\"MNIST Val Accuracy\")\n",
        "plt.legend()\n",
        "plt.show()\n",
        "\n",
        "\n",
        "best_mnist.evaluate()\n",
        "out_test = best_mnist.forward(X_mnist_test)\n",
        "pred_test = np.argmax(out_test, axis=1)\n",
        "acc_test = compute_accuracy(y_mnist_test, pred_test)\n",
        "print(f\"MNIST test accuracy: {acc_test * 100:.2f}%\")"
      ],
      "outputs": [
        {
          "output_type": "stream",
          "name": "stdout",
          "text": [
            "Epoch 1, lr=0.00550, train_loss=2.2975, val_loss=2.2785, val_acc=22.80%\n",
            "Epoch 2, lr=0.01000, train_loss=2.2633, val_loss=2.2176, val_acc=51.80%\n",
            "Epoch 3, lr=0.01000, train_loss=2.1912, val_loss=2.1127, val_acc=65.00%\n",
            "Epoch 4, lr=0.01000, train_loss=2.0625, val_loss=1.9071, val_acc=62.60%\n",
            "Epoch 5, lr=0.00500, train_loss=1.8783, val_loss=1.7663, val_acc=67.40%\n",
            "Epoch 6, lr=0.00500, train_loss=1.7235, val_loss=1.5892, val_acc=71.40%\n",
            "Epoch 7, lr=0.00500, train_loss=1.5665, val_loss=1.4301, val_acc=68.00%\n",
            "Epoch 8, lr=0.00250, train_loss=1.4277, val_loss=1.3521, val_acc=69.60%\n",
            "Epoch 9, lr=0.00250, train_loss=1.3404, val_loss=1.2721, val_acc=71.60%\n",
            "Epoch 10, lr=0.00250, train_loss=1.2696, val_loss=1.2135, val_acc=72.00%\n"
          ]
        },
        {
          "output_type": "display_data",
          "data": {
            "text/plain": [
              "<Figure size 1200x400 with 2 Axes>"
            ],
            "image/png": "[encoded data removed]"
          },
          "metadata": {}
        },
        {
          "output_type": "stream",
          "name": "stdout",
          "text": [
            "MNIST test accuracy: 74.80%\n"
          ]
        }
      ],
      "execution_count": 32
    },
    {
      "cell_type": "markdown",
      "source": [
        "# Autoencoder"
      ],
      "metadata": {
        "id": "OMi2Xu6tu_D9"
      }
    },
    {
      "metadata": {
        "id": "jtOjv24OUlb0"
      },
      "cell_type": "code",
      "outputs": [],
      "execution_count": 69,
      "source": [
        "class FlattenAE(Module):\n",
        "    \"\"\"Simple version Flatten (batch,1,28,28)->(batch,784).\"\"\"\n",
        "\n",
        "    def __init__(self):\n",
        "        super(FlattenAE, self).__init__()\n",
        "        self.input_shape = None\n",
        "\n",
        "    def updateOutput(self, input):\n",
        "        self.input_shape = input.shape\n",
        "        batch_size = input.shape[0]\n",
        "        self.output = input.reshape(batch_size, -1)  # (batch,784)\n",
        "        return self.output\n",
        "\n",
        "    def updateGradInput(self, input, gradOutput):\n",
        "        self.gradInput = gradOutput.reshape(self.input_shape)\n",
        "        return self.gradInput\n",
        "\n",
        "    def __repr__(self):\n",
        "        return \"FlattenAE\"\n",
        "\n",
        "\n",
        "class ReshapeAE(Module):\n",
        "    \"\"\"Reverse transformation (batch,784)->(batch,1,28,28).\"\"\"\n",
        "\n",
        "    def __init__(self, out_shape):\n",
        "        super(ReshapeAE, self).__init__()\n",
        "        self.out_shape = out_shape\n",
        "        self.in_shape = None\n",
        "\n",
        "    def updateOutput(self, input):\n",
        "        self.in_shape = input.shape\n",
        "        batch_size = input.shape[0]\n",
        "        self.output = input.reshape((batch_size,) + self.out_shape)\n",
        "        return self.output\n",
        "\n",
        "    def updateGradInput(self, input, gradOutput):\n",
        "        self.gradInput = gradOutput.reshape(self.in_shape)\n",
        "        return self.gradInput\n",
        "\n",
        "    def __repr__(self):\n",
        "        return f\"ReshapeAE({self.out_shape})\"\n"
      ]
    },
    {
      "cell_type": "code",
      "source": [
        "def build_autoencoder_fc(latent_dim=64):\n",
        "    model = Sequential()\n",
        "    # ENCODER\n",
        "    model.add(FlattenAE())  # (batch,1,28,28)->(batch,784)\n",
        "    model.add(Linear(784, 256))\n",
        "    model.add(ReLU())\n",
        "    model.add(Linear(256, 128))\n",
        "    model.add(ReLU())\n",
        "    model.add(Linear(128, latent_dim))\n",
        "    model.add(ReLU())\n",
        "    # DECODER\n",
        "    model.add(Linear(latent_dim, 128))\n",
        "    model.add(ReLU())\n",
        "    model.add(Linear(128, 256))\n",
        "    model.add(ReLU())\n",
        "    model.add(Linear(256, 784))\n",
        "\n",
        "    class Sigmoid(Module):\n",
        "        def updateOutput(self, input):\n",
        "            self.output = 1.0/(1.0+np.exp(-input))\n",
        "            return self.output\n",
        "        def updateGradInput(self, input, gradOutput):\n",
        "            sig = self.output\n",
        "            self.gradInput = gradOutput*sig*(1.0-sig)\n",
        "            return self.gradInput\n",
        "\n",
        "    model.add(Sigmoid())\n",
        "    model.add(ReshapeAE((1,28,28)))\n",
        "    return model"
      ],
      "metadata": {
        "id": "A8OddvAZ7KFS"
      },
      "execution_count": null,
      "outputs": []
    },
    {
      "metadata": {
        "id": "bOJkZiTYUlb0"
      },
      "cell_type": "code",
      "outputs": [],
      "execution_count": 71,
      "source": [
        "def train_autoencoder(model,\n",
        "                      X_train, X_val,\n",
        "                      criterion,  # MSECriterion\n",
        "                      optimizer,\n",
        "                      num_epochs=10,\n",
        "                      batch_size=64,\n",
        "                      warmup_epochs=2,\n",
        "                      lr_decay_epochs=[5, 8],\n",
        "                      lr_decay_factor=0.5,\n",
        "                      patience=5):\n",
        "    \"\"\"\n",
        "    Autoencoder training (X->X), loss=MSE by pixels.\n",
        "    \"\"\"\n",
        "    train_loss_hist = []\n",
        "    val_loss_hist = []\n",
        "\n",
        "    best_val_loss = float('inf')\n",
        "    best_model_state = None\n",
        "    epochs_no_improve = 0\n",
        "\n",
        "    base_lr = optimizer.lr\n",
        "    initial_lr = base_lr / 10.0\n",
        "    optimizer.lr = initial_lr\n",
        "\n",
        "    N = X_train.shape[0]\n",
        "    for epoch in range(1, num_epochs + 1):\n",
        "        # Warmup\n",
        "        if epoch <= warmup_epochs:\n",
        "            prog = epoch / warmup_epochs\n",
        "            optimizer.lr = initial_lr + (base_lr - initial_lr) * prog\n",
        "\n",
        "        # Scheduler\n",
        "        if epoch in lr_decay_epochs:\n",
        "            optimizer.lr *= lr_decay_factor\n",
        "\n",
        "        # TRAIN\n",
        "        model.train()\n",
        "        model.zeroGradParameters()\n",
        "        indices = np.random.permutation(N)\n",
        "        epoch_loss = 0.0\n",
        "        for i in range(0, N, batch_size):\n",
        "            b_idx = indices[i:i + batch_size]\n",
        "            Xb = X_train[b_idx]\n",
        "\n",
        "            out = model.forward(Xb)\n",
        "            loss = criterion.forward(out, Xb)\n",
        "            epoch_loss += loss * len(b_idx)\n",
        "\n",
        "            grad = criterion.backward(out, Xb)\n",
        "            model.backward(Xb, grad)\n",
        "\n",
        "            optimizer.step(model)\n",
        "\n",
        "        epoch_loss /= N\n",
        "        train_loss_hist.append(epoch_loss)\n",
        "\n",
        "        # VAL\n",
        "        model.evaluate()\n",
        "        out_val = model.forward(X_val)\n",
        "        val_loss = criterion.forward(out_val, X_val)\n",
        "        val_loss_hist.append(val_loss)\n",
        "\n",
        "        if val_loss < best_val_loss:\n",
        "            best_val_loss = val_loss\n",
        "            best_model_state = copy.deepcopy(model)\n",
        "            epochs_no_improve = 0\n",
        "        else:\n",
        "            epochs_no_improve += 1\n",
        "\n",
        "        print(f\"Epoch {epoch}, lr={optimizer.lr:.5f}, train_loss={epoch_loss:.4f}, val_loss={val_loss:.4f}\")\n",
        "\n",
        "        if epochs_no_improve >= patience:\n",
        "            print(\"Early stopping!\")\n",
        "            break\n",
        "\n",
        "    return best_model_state, (train_loss_hist, val_loss_hist)\n"
      ]
    },
    {
      "metadata": {
        "colab": {
          "base_uri": "https://localhost:8080/",
          "height": 1000
        },
        "id": "U5462D7rUlb1",
        "outputId": "22c1a58e-d0f1-47ee-8754-ec3b9d2fa17e"
      },
      "cell_type": "code",
      "outputs": [
        {
          "output_type": "stream",
          "name": "stdout",
          "text": [
            "Epoch 1, lr=0.00550, train_loss=158.6097, val_loss=68.3410\n",
            "Epoch 2, lr=0.01000, train_loss=61.1067, val_loss=57.7191\n",
            "Epoch 3, lr=0.01000, train_loss=55.0395, val_loss=55.6025\n",
            "Epoch 4, lr=0.01000, train_loss=53.1982, val_loss=53.5593\n",
            "Epoch 5, lr=0.00500, train_loss=51.6576, val_loss=51.9293\n",
            "Epoch 6, lr=0.00500, train_loss=50.4188, val_loss=51.5311\n",
            "Epoch 7, lr=0.00500, train_loss=49.9908, val_loss=50.8460\n",
            "Epoch 8, lr=0.00250, train_loss=49.2245, val_loss=49.5545\n",
            "Epoch 9, lr=0.00250, train_loss=48.2003, val_loss=48.9187\n",
            "Epoch 10, lr=0.00250, train_loss=47.6318, val_loss=48.5830\n",
            "Epoch 11, lr=0.00250, train_loss=47.2922, val_loss=48.4021\n",
            "Epoch 12, lr=0.00250, train_loss=47.1287, val_loss=48.1103\n",
            "Epoch 13, lr=0.00250, train_loss=47.0573, val_loss=48.0905\n",
            "Epoch 14, lr=0.00250, train_loss=46.8604, val_loss=47.7621\n",
            "Epoch 15, lr=0.00250, train_loss=46.7303, val_loss=47.7640\n",
            "Epoch 16, lr=0.00250, train_loss=46.6141, val_loss=47.4270\n",
            "Epoch 17, lr=0.00250, train_loss=46.4030, val_loss=47.2450\n",
            "Epoch 18, lr=0.00250, train_loss=46.2465, val_loss=47.1034\n",
            "Epoch 19, lr=0.00250, train_loss=46.0314, val_loss=47.0953\n",
            "Epoch 20, lr=0.00250, train_loss=45.8184, val_loss=46.7607\n",
            "Epoch 21, lr=0.00250, train_loss=45.6803, val_loss=46.3699\n",
            "Epoch 22, lr=0.00250, train_loss=45.3384, val_loss=46.2709\n",
            "Epoch 23, lr=0.00250, train_loss=45.2038, val_loss=46.0891\n",
            "Epoch 24, lr=0.00250, train_loss=45.1244, val_loss=46.2630\n",
            "Epoch 25, lr=0.00250, train_loss=45.0498, val_loss=45.4837\n",
            "Epoch 26, lr=0.00250, train_loss=44.4419, val_loss=45.2282\n",
            "Epoch 27, lr=0.00250, train_loss=44.2444, val_loss=44.9409\n",
            "Epoch 28, lr=0.00250, train_loss=43.9310, val_loss=44.5348\n",
            "Epoch 29, lr=0.00250, train_loss=43.5538, val_loss=44.2593\n",
            "Epoch 30, lr=0.00250, train_loss=43.2751, val_loss=44.0556\n",
            "Epoch 31, lr=0.00250, train_loss=42.9813, val_loss=43.7962\n",
            "Epoch 32, lr=0.00250, train_loss=42.6697, val_loss=43.4937\n",
            "Epoch 33, lr=0.00250, train_loss=42.4425, val_loss=43.3634\n",
            "Epoch 34, lr=0.00250, train_loss=42.2197, val_loss=42.9371\n",
            "Epoch 35, lr=0.00250, train_loss=41.8387, val_loss=42.6944\n",
            "Epoch 36, lr=0.00250, train_loss=41.5993, val_loss=42.3267\n",
            "Epoch 37, lr=0.00250, train_loss=41.2363, val_loss=42.0626\n",
            "Epoch 38, lr=0.00250, train_loss=40.8752, val_loss=41.3334\n",
            "Epoch 39, lr=0.00250, train_loss=39.8402, val_loss=40.5486\n",
            "Epoch 40, lr=0.00250, train_loss=38.7375, val_loss=39.4951\n",
            "Epoch 41, lr=0.00250, train_loss=37.6679, val_loss=38.7423\n",
            "Epoch 42, lr=0.00250, train_loss=36.9223, val_loss=37.7560\n",
            "Epoch 43, lr=0.00250, train_loss=35.9400, val_loss=37.3260\n",
            "Epoch 44, lr=0.00250, train_loss=36.4059, val_loss=37.2950\n",
            "Epoch 45, lr=0.00250, train_loss=35.1832, val_loss=36.4289\n",
            "Epoch 46, lr=0.00250, train_loss=34.2349, val_loss=36.0128\n",
            "Epoch 47, lr=0.00250, train_loss=33.8199, val_loss=36.0641\n",
            "Epoch 48, lr=0.00250, train_loss=33.9823, val_loss=35.2656\n",
            "Epoch 49, lr=0.00250, train_loss=32.5621, val_loss=33.7481\n",
            "Epoch 50, lr=0.00250, train_loss=31.3236, val_loss=32.6825\n"
          ]
        },
        {
          "output_type": "display_data",
          "data": {
            "text/plain": [
              "<Figure size 640x480 with 1 Axes>"
            ],
            "image/png": "[encoded data removed]"
          },
          "metadata": {}
        },
        {
          "output_type": "display_data",
          "data": {
            "text/plain": [
              "<Figure size 800x400 with 16 Axes>"
            ],
            "image/png": "[encoded data removed]"
          },
          "metadata": {}
        }
      ],
      "execution_count": 43,
      "source": [
        "autoenc = build_autoencoder_fc(latent_dim=256)\n",
        "optimizer_ae = SGD(lr=0.01)\n",
        "criterion_ae = MSECriterion()\n",
        "\n",
        "best_ae, ae_logs = train_autoencoder(\n",
        "    autoenc,\n",
        "    X_mnist_train, X_mnist_val,\n",
        "    criterion_ae,\n",
        "    optimizer_ae,\n",
        "    num_epochs=50,\n",
        "    batch_size=128,\n",
        "    warmup_epochs=2,\n",
        "    lr_decay_epochs=[5, 8],\n",
        "    lr_decay_factor=0.5,\n",
        "    patience=5\n",
        ")\n",
        "\n",
        "tr_loss_ae, val_loss_ae = ae_logs\n",
        "epochs = range(1, len(tr_loss_ae) + 1)\n",
        "plt.figure()\n",
        "plt.plot(epochs, tr_loss_ae, label=\"Train Loss\")\n",
        "plt.plot(epochs, val_loss_ae, label=\"Val Loss\")\n",
        "plt.title(\"Autoencoder MSE Loss\")\n",
        "plt.xlabel(\"Epoch\");\n",
        "plt.ylabel(\"Loss\")\n",
        "plt.legend()\n",
        "plt.show()\n",
        "\n",
        "\n",
        "best_ae.evaluate()\n",
        "X_test_ae = X_mnist_test[:8]  # first 8 pictures\n",
        "out_test_ae = best_ae.forward(X_test_ae)  # (8,1,28,28)\n",
        "\n",
        "plt.figure(figsize=(8, 4))\n",
        "for i in range(8):\n",
        "    plt.subplot(2, 8, i + 1)\n",
        "    plt.imshow(X_test_ae[i, 0], cmap='gray')\n",
        "    plt.axis('off')\n",
        "    plt.subplot(2, 8, i + 1 + 8)\n",
        "    plt.imshow(out_test_ae[i, 0], cmap='gray')\n",
        "    plt.axis('off')\n",
        "plt.suptitle(\"Autoencoder: top=original, bottom=reconstruction\")\n",
        "plt.show()"
      ]
    },
    {
      "cell_type": "markdown",
      "source": [
        "Now let's add convolutional layers, BatchNorm, Dropout."
      ],
      "metadata": {
        "id": "vvMovPGE8wjv"
      }
    },
    {
      "cell_type": "code",
      "source": [
        "def build_autoencoder_fc(latent_dim=32):\n",
        "    model = Sequential()\n",
        "\n",
        "    # Encoder\n",
        "    model.add(Conv2d(in_channels=1, out_channels=2, kernel_size=3, padding=1))\n",
        "    model.add(ReLU())\n",
        "    model.add(Dropout(0.1))\n",
        "    # Flatten\n",
        "    model.add(FlattenAE())\n",
        "    # BatchNorm\n",
        "    model.add(BatchNormalization())\n",
        "    model.add(ReLU())\n",
        "    # Linear\n",
        "    model.add(Linear(2*28*28, 128))\n",
        "    model.add(ReLU())\n",
        "    model.add(Linear(128, latent_dim))\n",
        "    model.add(ReLU())\n",
        "\n",
        "    # Decoder\n",
        "    model.add(Linear(latent_dim, 128))\n",
        "    model.add(ReLU())\n",
        "    model.add(Linear(128, 2*28*28))\n",
        "    model.add(ReLU())\n",
        "    model.add(ReshapeAE((2, 28, 28)))\n",
        "    # BatchNorm\n",
        "    model.add(Conv2d(in_channels=2, out_channels=1, kernel_size=3, padding=1))\n",
        "    class Sigmoid(Module):\n",
        "        def updateOutput(self, input):\n",
        "            self.output = 1.0/(1.0+np.exp(-input))\n",
        "            return self.output\n",
        "        def updateGradInput(self, input, gradOutput):\n",
        "            sig = self.output\n",
        "            self.gradInput = gradOutput*sig*(1.0 - sig)\n",
        "            return self.gradInput\n",
        "    model.add(Sigmoid())\n",
        "\n",
        "    return model"
      ],
      "metadata": {
        "id": "plnt--i-6ahq"
      },
      "execution_count": 76,
      "outputs": []
    },
    {
      "cell_type": "code",
      "source": [
        "autoenc = build_autoencoder_fc(latent_dim=256)\n",
        "optimizer_ae = SGD(lr=0.001)\n",
        "criterion_ae = MSECriterion()\n",
        "\n",
        "best_ae, ae_logs = train_autoencoder(\n",
        "    autoenc,\n",
        "    X_mnist_train, X_mnist_val,\n",
        "    criterion_ae,\n",
        "    optimizer_ae,\n",
        "    num_epochs=10,\n",
        "    batch_size=128,\n",
        "    warmup_epochs=2,\n",
        "    lr_decay_epochs=[5, 8],\n",
        "    lr_decay_factor=0.5,\n",
        "    patience=5\n",
        ")\n",
        "\n",
        "tr_loss_ae, val_loss_ae = ae_logs\n",
        "epochs = range(1, len(tr_loss_ae) + 1)\n",
        "plt.figure()\n",
        "plt.plot(epochs, tr_loss_ae, label=\"Train Loss\")\n",
        "plt.plot(epochs, val_loss_ae, label=\"Val Loss\")\n",
        "plt.title(\"Autoencoder MSE Loss\")\n",
        "plt.xlabel(\"Epoch\");\n",
        "plt.ylabel(\"Loss\")\n",
        "plt.legend()\n",
        "plt.show()\n",
        "\n",
        "\n",
        "best_ae.evaluate()\n",
        "X_test_ae = X_mnist_test[:8]  # first 8 pictures\n",
        "out_test_ae = best_ae.forward(X_test_ae)  # (8,1,28,28)\n",
        "\n",
        "plt.figure(figsize=(8, 4))\n",
        "for i in range(8):\n",
        "    plt.subplot(2, 8, i + 1)\n",
        "    plt.imshow(X_test_ae[i, 0], cmap='gray')\n",
        "    plt.axis('off')\n",
        "    plt.subplot(2, 8, i + 1 + 8)\n",
        "    plt.imshow(out_test_ae[i, 0], cmap='gray')\n",
        "    plt.axis('off')\n",
        "plt.suptitle(\"Autoencoder: top=original, bottom=reconstruction\")\n",
        "plt.show()"
      ],
      "metadata": {
        "colab": {
          "base_uri": "https://localhost:8080/",
          "height": 972
        },
        "id": "6SDTaAUt1qom",
        "outputId": "b05b6aae-d456-425d-ed57-75bb82208559"
      },
      "execution_count": 79,
      "outputs": [
        {
          "output_type": "stream",
          "name": "stdout",
          "text": [
            "Epoch 1, lr=0.00055, train_loss=202.2727, val_loss=201.3780\n",
            "Epoch 2, lr=0.00100, train_loss=200.6485, val_loss=197.2457\n",
            "Epoch 3, lr=0.00100, train_loss=182.0731, val_loss=92.8315\n",
            "Epoch 4, lr=0.00100, train_loss=70.8456, val_loss=62.3675\n",
            "Epoch 5, lr=0.00050, train_loss=59.5619, val_loss=59.4067\n",
            "Epoch 6, lr=0.00050, train_loss=57.8651, val_loss=58.6367\n",
            "Epoch 7, lr=0.00050, train_loss=57.2344, val_loss=58.1260\n",
            "Epoch 8, lr=0.00025, train_loss=56.8825, val_loss=57.9443\n",
            "Epoch 9, lr=0.00025, train_loss=56.4994, val_loss=57.3847\n",
            "Epoch 10, lr=0.00025, train_loss=56.3608, val_loss=57.3949\n"
          ]
        },
        {
          "output_type": "display_data",
          "data": {
            "text/plain": [
              "<Figure size 640x480 with 1 Axes>"
            ],
            "image/png": "[encoded data removed]"
          },
          "metadata": {}
        },
        {
          "output_type": "display_data",
          "data": {
            "text/plain": [
              "<Figure size 800x400 with 16 Axes>"
            ],
            "image/png": "[encoded data removed]"
          },
          "metadata": {}
        }
      ]
    },
    {
      "cell_type": "code",
      "source": [],
      "metadata": {
        "id": "TpI-pxhs9_vE"
      },
      "execution_count": null,
      "outputs": []
    }
  ],
  "metadata": {
    "kernelspec": {
      "display_name": "Python 3",
      "name": "python3"
    },
    "language_info": {
      "codemirror_mode": {
        "name": "ipython",
        "version": 2
      },
      "file_extension": ".py",
      "mimetype": "text/x-python",
      "name": "python",
      "nbconvert_exporter": "python",
      "pygments_lexer": "ipython2",
      "version": "2.7.12"
    },
    "colab": {
      "provenance": [],
      "toc_visible": true,
      "gpuType": "T4"
    },
    "accelerator": "GPU"
  },
  "nbformat": 4,
  "nbformat_minor": 0
}